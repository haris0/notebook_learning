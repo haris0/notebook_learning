{
  "nbformat": 4,
  "nbformat_minor": 0,
  "metadata": {
    "kernelspec": {
      "display_name": "Python 3",
      "language": "python",
      "name": "python3"
    },
    "language_info": {
      "codemirror_mode": {
        "name": "ipython",
        "version": 3
      },
      "file_extension": ".py",
      "mimetype": "text/x-python",
      "name": "python",
      "nbconvert_exporter": "python",
      "pygments_lexer": "ipython3",
      "version": "3.7.3"
    },
    "colab": {
      "name": "Tugas 3 NLP Topic Modeling.ipynb",
      "provenance": []
    }
  },
  "cells": [
    {
      "cell_type": "markdown",
      "metadata": {
        "id": "RdQkr0hr91Ji",
        "colab_type": "text"
      },
      "source": [
        "# Topic Modeling"
      ]
    },
    {
      "cell_type": "markdown",
      "metadata": {
        "id": "kcUEudk591Js",
        "colab_type": "text"
      },
      "source": [
        "## Import data and Library "
      ]
    },
    {
      "cell_type": "code",
      "metadata": {
        "id": "NfkfhXzX91Jw",
        "colab_type": "code",
        "colab": {},
        "outputId": "a0c4d006-abb6-4dea-9c07-e1982b1c879c"
      },
      "source": [
        "import nltk\n",
        "import gensim\n",
        "from keras.utils.data_utils import get_file\n",
        "from nltk.corpus import stopwords\n",
        "from nltk.stem.wordnet import WordNetLemmatizer\n",
        "from gensim.models import CoherenceModel\n",
        "import pyLDAvis\n",
        "import pyLDAvis.gensim \n",
        "import io\n",
        "import re"
      ],
      "execution_count": 0,
      "outputs": [
        {
          "output_type": "stream",
          "text": [
            "Using TensorFlow backend.\n"
          ],
          "name": "stderr"
        }
      ]
    },
    {
      "cell_type": "code",
      "metadata": {
        "id": "wWwenLce91KK",
        "colab_type": "code",
        "colab": {},
        "outputId": "7b729105-d7de-40f3-c67a-5eed8a068cba"
      },
      "source": [
        "path = get_file(\"debatcapres_4000.txt\", origin=\"https://transfer.sh/GUMbI/debatcapres_4000.txt\")\n",
        "with io.open(path, encoding=\"utf-8\") as f:\n",
        "  text = f.read().lower()\n",
        "print(len(text))"
      ],
      "execution_count": 0,
      "outputs": [
        {
          "output_type": "stream",
          "text": [
            "25297\n"
          ],
          "name": "stdout"
        }
      ]
    },
    {
      "cell_type": "markdown",
      "metadata": {
        "id": "T30jzu-291KY",
        "colab_type": "text"
      },
      "source": [
        "## Preposessing for Topic Modelling\n",
        "Melakukan Proses preposeseng yang diperlukan untuk proses selanjutnya"
      ]
    },
    {
      "cell_type": "code",
      "metadata": {
        "id": "EhqX9ea491Kd",
        "colab_type": "code",
        "colab": {}
      },
      "source": [
        "# Konversikan dokumen menjadi list of token dengan lower case, dan mengabaikan token \n",
        "# yang terlalu pendek atau terlalu panjang.\n",
        "def sent_to_words(sentences):\n",
        "    for sentence in sentences:\n",
        "        yield(gensim.utils.simple_preprocess(str(sentence), deacc=True))\n",
        "        \n",
        "def split_into_tokens(text):\n",
        "    tokens = nltk.word_tokenize(text)\n",
        "    return tokens"
      ],
      "execution_count": 0,
      "outputs": []
    },
    {
      "cell_type": "code",
      "metadata": {
        "id": "gVmeJQ8F91Kv",
        "colab_type": "code",
        "colab": {}
      },
      "source": [
        "def preprocessing(text):    \n",
        "    # Remove punctuation & special characters\n",
        "    tokens = re.sub('[^ a-zA-Z0-9]', '', text)\n",
        "    \n",
        "    # Tokenize\n",
        "    tokens = split_into_tokens(tokens)    \n",
        "    \n",
        "    # Remove stopwords\n",
        "    stop = stopwords.words('english')\n",
        "    tokens = [token for token in tokens if token not in stop]\n",
        "    \n",
        "    preprocessed_text = tokens\n",
        "    return preprocessed_text "
      ],
      "execution_count": 0,
      "outputs": []
    },
    {
      "cell_type": "code",
      "metadata": {
        "id": "755ZYMcg91K-",
        "colab_type": "code",
        "colab": {}
      },
      "source": [
        "import gensim\n",
        "from gensim import corpora\n",
        "\n",
        "filtered_sentence = preprocessing(text)\n",
        "tokenized_sents = list(sent_to_words(filtered_sentence))\n",
        "\n",
        "# Membuat term dictionary dari corpus kita, dimana setiap unique term diberikan sebuah index. \n",
        "dictionary = corpora.Dictionary(tokenized_sents)\n",
        "\n",
        "\n",
        "# Merubah list documents (corpus) ke Document Term Matrix dengan dictionary yang above.\n",
        "doc_term_matrix = [dictionary.doc2bow(doc) for doc in tokenized_sents]"
      ],
      "execution_count": 0,
      "outputs": []
    },
    {
      "cell_type": "markdown",
      "metadata": {
        "id": "wR_rzojH91LH",
        "colab_type": "text"
      },
      "source": [
        "## Creating the object for LDA model & train the model\n",
        "Running and Training LDA model di document term matrix dengan memilih minimum parameters yang dibutuhkan."
      ]
    },
    {
      "cell_type": "code",
      "metadata": {
        "id": "JVn6B-Fz91LM",
        "colab_type": "code",
        "colab": {}
      },
      "source": [
        "Lda = gensim.models.ldamodel.LdaModel\n",
        "\n",
        "ldamodel = Lda(doc_term_matrix, num_topics=3, id2word = dictionary, alpha='auto', eval_every=5, passes=100)"
      ],
      "execution_count": 0,
      "outputs": []
    },
    {
      "cell_type": "markdown",
      "metadata": {
        "id": "FV2kftid91Lb",
        "colab_type": "text"
      },
      "source": [
        "## Extract three topics with twenty words in each topic\n",
        "Menampilkan tiga topic yang sudah di generate dengan masing masing 20 kata untuk tiap topic"
      ]
    },
    {
      "cell_type": "code",
      "metadata": {
        "id": "joCBYIM791Lf",
        "colab_type": "code",
        "colab": {},
        "outputId": "910e4c66-40d6-4b42-f0c0-e3e78940b467"
      },
      "source": [
        "print(ldamodel.print_topics(num_topics=3, num_words=30))"
      ],
      "execution_count": 0,
      "outputs": [
        {
          "output_type": "stream",
          "text": [
            "[(0, '0.060*\"sandi\" + 0.043*\"want\" + 0.039*\"people\" + 0.021*\"give\" + 0.017*\"indonesia\" + 0.015*\"prices\" + 0.014*\"go\" + 0.012*\"money\" + 0.012*\"time\" + 0.011*\"better\" + 0.010*\"economy\" + 0.010*\"must\" + 0.009*\"believe\" + 0.009*\"country\" + 0.009*\"nation\" + 0.008*\"community\" + 0.007*\"home\" + 0.007*\"create\" + 0.006*\"stop\" + 0.006*\"much\" + 0.005*\"says\" + 0.005*\"willing\" + 0.005*\"harvest\" + 0.005*\"easily\" + 0.005*\"rice\" + 0.005*\"prosperous\" + 0.005*\"status\" + 0.005*\"development\" + 0.005*\"course\" + 0.005*\"strategy\"'), (1, '0.027*\"wants\" + 0.025*\"get\" + 0.024*\"us\" + 0.023*\"thank\" + 0.020*\"also\" + 0.018*\"one\" + 0.018*\"work\" + 0.011*\"strong\" + 0.011*\"able\" + 0.010*\"future\" + 0.010*\"honorary\" + 0.010*\"economic\" + 0.009*\"jobs\" + 0.008*\"ready\" + 0.008*\"president\" + 0.008*\"make\" + 0.007*\"farmers\" + 0.007*\"cheap\" + 0.007*\"food\" + 0.007*\"children\" + 0.007*\"together\" + 0.007*\"given\" + 0.006*\"bumn\" + 0.006*\"many\" + 0.006*\"electricity\" + 0.006*\"women\" + 0.006*\"launched\" + 0.006*\"right\" + 0.006*\"actually\" + 0.006*\"mandate\"'), (2, '0.056*\"prabowo\" + 0.017*\"puncture\" + 0.014*\"young\" + 0.014*\"tps\" + 0.012*\"god\" + 0.010*\"skewers\" + 0.010*\"government\" + 0.007*\"indonesian\" + 0.007*\"volunteers\" + 0.007*\"control\" + 0.007*\"success\" + 0.007*\"relatives\" + 0.007*\"village\" + 0.007*\"closing\" + 0.007*\"revival\" + 0.007*\"pkh\" + 0.007*\"teachers\" + 0.007*\"medical\" + 0.007*\"best\" + 0.006*\"question\" + 0.006*\"even\" + 0.005*\"fact\" + 0.005*\"mothers\" + 0.005*\"movement\" + 0.005*\"therefore\" + 0.005*\"hundred\" + 0.004*\"land\" + 0.004*\"information\" + 0.004*\"fishermen\" + 0.004*\"peoples\"')]\n"
          ],
          "name": "stdout"
        }
      ]
    },
    {
      "cell_type": "markdown",
      "metadata": {
        "id": "98j1aJ7R91Lo",
        "colab_type": "text"
      },
      "source": [
        "## Check Perplexity and Compute Coherence Score\n",
        "* Mengecek seberapa baik model yang telah dibuat. Semakin  rendah Perplexity maka semaik baik.\n",
        "* mengecek nilai keterkaitan dari tiap topik yang di generete. Semakin  tinggi Coherence Score maka semaik baik."
      ]
    },
    {
      "cell_type": "code",
      "metadata": {
        "id": "OJaxRCNk91Lq",
        "colab_type": "code",
        "colab": {},
        "outputId": "6de34f03-f8b2-4eb4-f243-f0237c35809f"
      },
      "source": [
        "print('\\nPerplexity: ', ldamodel.log_perplexity(doc_term_matrix))\n",
        "\n",
        "coherence_model_lda = CoherenceModel(model=ldamodel, texts=tokenized_sents, dictionary=dictionary, coherence='c_v')\n",
        "coherence_lda = coherence_model_lda.get_coherence()\n",
        "print('\\nCoherence Score: ', coherence_lda)"
      ],
      "execution_count": 0,
      "outputs": [
        {
          "output_type": "stream",
          "text": [
            "\n",
            "Perplexity:  -7.787542168676612\n",
            "\n",
            "Coherence Score:  0.8526228778539537\n"
          ],
          "name": "stdout"
        }
      ]
    },
    {
      "cell_type": "markdown",
      "metadata": {
        "id": "Y5K_vt6H91L8",
        "colab_type": "text"
      },
      "source": [
        "## Visualize the topics model\n",
        "pyLDAvis tool unutk memvisualisasikan kesesuaian dari LDA model kita berdasarkan topics dan top words nya. "
      ]
    },
    {
      "cell_type": "code",
      "metadata": {
        "id": "VUjb3BwJ91L-",
        "colab_type": "code",
        "colab": {},
        "outputId": "09d29d1e-35b3-4805-d24a-cae2586c3425"
      },
      "source": [
        "pyLDAvis.enable_notebook()\n",
        "vis = pyLDAvis.gensim.prepare(ldamodel, doc_term_matrix, dictionary)\n",
        "vis"
      ],
      "execution_count": 0,
      "outputs": [
        {
          "output_type": "stream",
          "text": [
            "C:\\Users\\Haris\\Anaconda3\\lib\\site-packages\\pyLDAvis\\_prepare.py:257: FutureWarning: Sorting because non-concatenation axis is not aligned. A future version\n",
            "of pandas will change to not sort by default.\n",
            "\n",
            "To accept the future behavior, pass 'sort=False'.\n",
            "\n",
            "To retain the current behavior and silence the warning, pass 'sort=True'.\n",
            "\n",
            "  return pd.concat([default_term_info] + list(topic_dfs))\n"
          ],
          "name": "stderr"
        },
        {
          "output_type": "execute_result",
          "data": {
            "text/html": [
              "\n",
              "<link rel=\"stylesheet\" type=\"text/css\" href=\"https://cdn.rawgit.com/bmabey/pyLDAvis/files/ldavis.v1.0.0.css\">\n",
              "\n",
              "\n",
              "<div id=\"ldavis_el1106413154373937447001525832\"></div>\n",
              "<script type=\"text/javascript\">\n",
              "\n",
              "var ldavis_el1106413154373937447001525832_data = {\"mdsDat\": {\"x\": [-0.1959100361773945, 0.10648046523166353, 0.08942957094573077], \"y\": [-0.008976816838754183, -0.15022328723834566, 0.15920010407709986], \"topics\": [1, 2, 3], \"cluster\": [1, 1, 1], \"Freq\": [39.37907028198242, 31.293121337890625, 29.327816009521484]}, \"tinfo\": {\"Category\": [\"Default\", \"Default\", \"Default\", \"Default\", \"Default\", \"Default\", \"Default\", \"Default\", \"Default\", \"Default\", \"Default\", \"Default\", \"Default\", \"Default\", \"Default\", \"Default\", \"Default\", \"Default\", \"Default\", \"Default\", \"Default\", \"Default\", \"Default\", \"Default\", \"Default\", \"Default\", \"Default\", \"Default\", \"Default\", \"Default\", \"Topic1\", \"Topic1\", \"Topic1\", \"Topic1\", \"Topic1\", \"Topic1\", \"Topic1\", \"Topic1\", \"Topic1\", \"Topic1\", \"Topic1\", \"Topic1\", \"Topic1\", \"Topic1\", \"Topic1\", \"Topic1\", \"Topic1\", \"Topic1\", \"Topic1\", \"Topic1\", \"Topic1\", \"Topic1\", \"Topic1\", \"Topic1\", \"Topic1\", \"Topic1\", \"Topic1\", \"Topic1\", \"Topic1\", \"Topic1\", \"Topic1\", \"Topic2\", \"Topic2\", \"Topic2\", \"Topic2\", \"Topic2\", \"Topic2\", \"Topic2\", \"Topic2\", \"Topic2\", \"Topic2\", \"Topic2\", \"Topic2\", \"Topic2\", \"Topic2\", \"Topic2\", \"Topic2\", \"Topic2\", \"Topic2\", \"Topic2\", \"Topic2\", \"Topic2\", \"Topic2\", \"Topic2\", \"Topic2\", \"Topic2\", \"Topic2\", \"Topic2\", \"Topic2\", \"Topic2\", \"Topic2\", \"Topic3\", \"Topic3\", \"Topic3\", \"Topic3\", \"Topic3\", \"Topic3\", \"Topic3\", \"Topic3\", \"Topic3\", \"Topic3\", \"Topic3\", \"Topic3\", \"Topic3\", \"Topic3\", \"Topic3\", \"Topic3\", \"Topic3\", \"Topic3\", \"Topic3\", \"Topic3\", \"Topic3\", \"Topic3\", \"Topic3\", \"Topic3\", \"Topic3\", \"Topic3\", \"Topic3\", \"Topic3\", \"Topic3\", \"Topic3\"], \"Freq\": [39.0, 49.0, 28.0, 25.0, 19.0, 18.0, 17.0, 16.0, 14.0, 14.0, 13.0, 12.0, 11.0, 15.0, 10.0, 9.0, 13.0, 12.0, 8.0, 8.0, 7.0, 10.0, 8.0, 8.0, 7.0, 7.0, 7.0, 9.0, 7.0, 7.0, 48.70857238769531, 14.933974266052246, 12.642717361450195, 11.988369941711426, 10.482932090759277, 9.042729377746582, 8.617469787597656, 6.3919501304626465, 6.0970048904418945, 6.0970048904418945, 6.0970048904418945, 6.0970048904418945, 6.0970048904418945, 6.0970048904418945, 6.0970048904418945, 6.0970048904418945, 6.0970048904418945, 6.0970048904418945, 6.0970048904418945, 5.672077655792236, 4.952121734619141, 4.231995105743408, 4.231995105743408, 4.23199462890625, 4.231995582580566, 4.231995582580566, 3.8718130588531494, 3.8718130588531494, 3.8718130588531494, 3.8718130588531494, 3.8718130588531494, 18.921707153320312, 17.733102798461914, 16.917949676513672, 15.797374725341797, 14.235163688659668, 12.672853469848633, 12.36751651763916, 7.816814422607422, 7.749169826507568, 7.069334030151367, 6.695489406585693, 6.628660678863525, 6.255125522613525, 5.50797176361084, 5.507971286773682, 5.507971286773682, 5.134331703186035, 5.134332180023193, 5.065769195556641, 4.760629177093506, 4.760629177093506, 4.760629177093506, 4.386836051940918, 4.386836051940918, 4.38683557510376, 4.318775177001953, 4.012907028198242, 4.0129075050354, 4.012907028198242, 4.0129075050354, 39.198307037353516, 27.914140701293945, 25.509183883666992, 13.692535400390625, 11.355795860290527, 9.887085914611816, 9.152654647827148, 8.050841331481934, 8.050841331481934, 7.316120624542236, 6.814873695373535, 6.814873695373535, 6.148351192474365, 6.148351192474365, 5.781120300292969, 5.413854598999023, 4.6791672706604, 4.612025737762451, 3.944091320037842, 3.944091320037842, 3.576268434524536, 3.576268434524536, 3.576268434524536, 3.576268434524536, 3.576268434524536, 3.576267957687378, 3.576268434524536, 3.5104639530181885, 3.1432301998138428, 3.1432301998138428], \"Term\": [\"sandi\", \"prabowo\", \"want\", \"people\", \"wants\", \"get\", \"us\", \"thank\", \"give\", \"also\", \"one\", \"work\", \"indonesia\", \"puncture\", \"prices\", \"go\", \"young\", \"tps\", \"time\", \"money\", \"better\", \"god\", \"strong\", \"able\", \"must\", \"economy\", \"future\", \"skewers\", \"honorary\", \"economic\", \"prabowo\", \"puncture\", \"young\", \"tps\", \"god\", \"skewers\", \"government\", \"indonesian\", \"revival\", \"best\", \"pkh\", \"teachers\", \"closing\", \"village\", \"medical\", \"relatives\", \"control\", \"success\", \"volunteers\", \"question\", \"even\", \"therefore\", \"movement\", \"hundred\", \"fact\", \"mothers\", \"information\", \"land\", \"two\", \"fishermen\", \"peoples\", \"wants\", \"get\", \"us\", \"thank\", \"also\", \"one\", \"work\", \"strong\", \"able\", \"future\", \"honorary\", \"economic\", \"jobs\", \"ready\", \"president\", \"make\", \"cheap\", \"farmers\", \"food\", \"given\", \"children\", \"together\", \"many\", \"bumn\", \"electricity\", \"women\", \"actually\", \"launched\", \"mandate\", \"right\", \"sandi\", \"want\", \"people\", \"give\", \"indonesia\", \"prices\", \"go\", \"time\", \"money\", \"better\", \"must\", \"economy\", \"believe\", \"country\", \"nation\", \"community\", \"home\", \"create\", \"much\", \"stop\", \"easily\", \"says\", \"harvest\", \"prosperous\", \"willing\", \"status\", \"rice\", \"development\", \"strategy\", \"course\"], \"Total\": [39.0, 49.0, 28.0, 25.0, 19.0, 18.0, 17.0, 16.0, 14.0, 14.0, 13.0, 12.0, 11.0, 15.0, 10.0, 9.0, 13.0, 12.0, 8.0, 8.0, 7.0, 10.0, 8.0, 8.0, 7.0, 7.0, 7.0, 9.0, 7.0, 7.0, 49.18437576293945, 15.410359382629395, 13.117964744567871, 12.46480655670166, 10.958734512329102, 9.51925277709961, 9.092791557312012, 6.866979122161865, 6.573702335357666, 6.573702335357666, 6.573702335357666, 6.573702335357666, 6.573702335357666, 6.573702335357666, 6.573702335357666, 6.573702335357666, 6.573702335357666, 6.573702335357666, 6.573702335357666, 6.1472344398498535, 5.427493095397949, 4.7077531814575195, 4.7077531814575195, 4.707752704620361, 4.707753658294678, 4.707753658294678, 4.347885608673096, 4.347885608673096, 4.347885608673096, 4.347885608673096, 4.347885608673096, 19.39398193359375, 18.204639434814453, 17.38873291015625, 16.2684326171875, 14.705656051635742, 13.142878532409668, 12.838489532470703, 8.28823471069336, 8.219210624694824, 7.541350364685059, 7.167903900146484, 7.098911762237549, 6.725478172302246, 5.97860860824585, 5.978608131408691, 5.978608131408691, 5.605169773101807, 5.605170249938965, 5.536110877990723, 5.231729507446289, 5.231729507446289, 5.231729507446289, 4.858285903930664, 4.858285903930664, 4.858285903930664, 4.789246082305908, 4.484836578369141, 4.484837055206299, 4.484836578369141, 4.484837055206299, 39.67488479614258, 28.390371322631836, 25.984092712402344, 14.169079780578613, 11.83071231842041, 10.362321853637695, 9.628127098083496, 8.52683162689209, 8.52683162689209, 7.792631149291992, 7.289745330810547, 7.289745330810547, 6.623456001281738, 6.623456001281738, 6.256357669830322, 5.88925838470459, 5.155058860778809, 5.087164878845215, 4.420854568481445, 4.420854568481445, 4.053747653961182, 4.053747653961182, 4.053747653961182, 4.053747653961182, 4.053747653961182, 4.053747177124023, 4.053747653961182, 3.985872745513916, 3.618774890899658, 3.618774890899658], \"loglift\": [30.0, 29.0, 28.0, 27.0, 26.0, 25.0, 24.0, 23.0, 22.0, 21.0, 20.0, 19.0, 18.0, 17.0, 16.0, 15.0, 14.0, 13.0, 12.0, 11.0, 10.0, 9.0, 8.0, 7.0, 6.0, 5.0, 4.0, 3.0, 2.0, 1.0, 0.9222000241279602, 0.9004999995231628, 0.8949999809265137, 0.8930000066757202, 0.887499988079071, 0.8805999755859375, 0.8781999945640564, 0.8603000044822693, 0.8567000031471252, 0.8567000031471252, 0.8567000031471252, 0.8567000031471252, 0.8567000031471252, 0.8567000031471252, 0.8567000031471252, 0.8567000031471252, 0.8567000031471252, 0.8567000031471252, 0.8567000031471252, 0.8514999747276306, 0.8403000235557556, 0.8253999948501587, 0.8253999948501587, 0.8253999948501587, 0.8253999948501587, 0.8253999948501587, 0.8159999847412109, 0.8159999847412109, 0.8159999847412109, 0.8159999847412109, 0.8159999847412109, 1.1370999813079834, 1.1354999542236328, 1.1342999935150146, 1.1324000358581543, 1.1292999982833862, 1.1253999471664429, 1.124400019645691, 1.1031999588012695, 1.1029000282287598, 1.097100019454956, 1.0936000347137451, 1.0931999683380127, 1.0893000364303589, 1.079800009727478, 1.079800009727478, 1.079800009727478, 1.0740000009536743, 1.0740000009536743, 1.0729999542236328, 1.0673999786376953, 1.0673999786376953, 1.0673999786376953, 1.0597000122070312, 1.0597000122070312, 1.0597000122070312, 1.05840003490448, 1.0506000518798828, 1.0506000518798828, 1.0506000518798828, 1.0506000518798828, 1.2144999504089355, 1.2096999883651733, 1.2081999778747559, 1.1923999786376953, 1.1857000589370728, 1.1797000169754028, 1.1759999990463257, 1.1691999435424805, 1.1691999435424805, 1.1634999513626099, 1.1592999696731567, 1.1592999696731567, 1.1521999835968018, 1.1521999835968018, 1.1476000547409058, 1.1425000429153442, 1.1297999620437622, 1.128600001335144, 1.1124999523162842, 1.1124999523162842, 1.1013000011444092, 1.1013000011444092, 1.1013000011444092, 1.1013000011444092, 1.1013000011444092, 1.1013000011444092, 1.1013000011444092, 1.0995999574661255, 1.0857000350952148, 1.0857000350952148], \"logprob\": [30.0, 29.0, 28.0, 27.0, 26.0, 25.0, 24.0, 23.0, 22.0, 21.0, 20.0, 19.0, 18.0, 17.0, 16.0, 15.0, 14.0, 13.0, 12.0, 11.0, 10.0, 9.0, 8.0, 7.0, 6.0, 5.0, 4.0, 3.0, 2.0, 1.0, -2.889699935913086, -4.071899890899658, -4.238500118255615, -4.291600227355957, -4.42579984664917, -4.573599815368652, -4.621799945831299, -4.920499801635742, -4.967800140380859, -4.967800140380859, -4.967800140380859, -4.967800140380859, -4.967800140380859, -4.967800140380859, -4.967800140380859, -4.967800140380859, -4.967800140380859, -4.967800140380859, -4.967800140380859, -5.039999961853027, -5.17579984664917, -5.332900047302246, -5.332900047302246, -5.332900047302246, -5.332900047302246, -5.332900047302246, -5.421899795532227, -5.421899795532227, -5.421899795532227, -5.421899795532227, -5.421899795532227, -3.6054000854492188, -3.670300006866455, -3.717400074005127, -3.785900115966797, -3.890000104904175, -4.00629997253418, -4.030700206756592, -4.489500045776367, -4.498199939727783, -4.590000152587891, -4.6442999839782715, -4.654300212860107, -4.712299823760986, -4.8394999504089355, -4.8394999504089355, -4.8394999504089355, -4.909800052642822, -4.909800052642822, -4.9232001304626465, -4.985400199890137, -4.985400199890137, -4.985400199890137, -5.0671000480651855, -5.0671000480651855, -5.0671000480651855, -5.082799911499023, -5.156199932098389, -5.156199932098389, -5.156199932098389, -5.156199932098389, -2.8122000694274902, -3.151700019836426, -3.24180006980896, -3.864000082015991, -4.05109977722168, -4.189599990844727, -4.2667999267578125, -4.395100116729736, -4.395100116729736, -4.490799903869629, -4.561800003051758, -4.561800003051758, -4.664700031280518, -4.664700031280518, -4.72629976272583, -4.791900157928467, -4.93779993057251, -4.952199935913086, -5.108699798583984, -5.108699798583984, -5.206600189208984, -5.206600189208984, -5.206600189208984, -5.206600189208984, -5.206600189208984, -5.206600189208984, -5.206600189208984, -5.225100040435791, -5.335599899291992, -5.335599899291992]}, \"token.table\": {\"Topic\": [2, 2, 2, 3, 1, 3, 2, 2, 2, 1, 3, 1, 3, 3, 3, 3, 3, 2, 3, 2, 1, 1, 2, 1, 2, 2, 2, 3, 2, 3, 1, 1, 3, 3, 2, 1, 3, 1, 1, 2, 1, 2, 2, 2, 2, 1, 3, 1, 1, 3, 3, 3, 2, 3, 1, 1, 1, 2, 3, 3, 1, 1, 2, 1, 1, 3, 2, 3, 3, 1, 3, 3, 3, 2, 1, 1, 2, 1, 3, 2, 1, 1, 2, 1, 1, 3, 2, 3, 2, 2, 1], \"Freq\": [0.973329484462738, 0.8918942809104919, 0.9520146250724792, 0.9058715105056763, 0.9127276539802551, 0.8982845544815063, 0.8233356475830078, 0.8920336365699768, 0.9557068943977356, 0.9127276539802551, 0.8490033149719238, 0.9127276539802551, 0.9058715105056763, 0.8290098309516907, 0.9828657507896423, 1.0035443305969238, 0.9867412447929382, 0.9860666394233704, 0.9602530002593994, 0.8233356475830078, 0.9212356209754944, 0.8496621251106262, 0.892033576965332, 0.9199873805046082, 0.9031611084938049, 0.928215742111206, 0.98875892162323, 0.9880669713020325, 0.9557068943977356, 0.9347612261772156, 0.9125141501426697, 0.9897950291633606, 0.9867412447929382, 0.9699210524559021, 0.9765756130218506, 0.8496623039245605, 0.9297834038734436, 0.8737466335296631, 0.9199873805046082, 0.8921298980712891, 0.9199873805046082, 0.8918941617012024, 1.0035780668258667, 0.8918942809104919, 0.8233356475830078, 0.9127276539802551, 0.9382148385047913, 0.8496621251106262, 0.8496622443199158, 0.9048024415969849, 0.9602530002593994, 0.9590244293212891, 0.989128828048706, 1.0006121397018433, 0.9199873805046082, 0.9127276539802551, 0.9962513446807861, 1.0035780668258667, 0.9650346636772156, 0.9867412447929382, 0.9733712077140808, 0.9760486483573914, 1.0035779476165771, 0.9127276539802551, 0.9127276539802551, 0.9867412447929382, 0.8918941617012024, 0.9829896092414856, 0.9867412447929382, 0.9454523324966431, 0.9867413640022278, 0.9048024415969849, 0.8290098309516907, 0.9652236104011536, 0.9127276539802551, 0.9127276539802551, 0.9834997653961182, 0.8496622443199158, 0.9382148385047913, 0.9557068943977356, 0.9627104997634888, 0.9199873805046082, 0.9776445627212524, 0.9127276539802551, 0.9127276539802551, 0.9862498641014099, 0.979685366153717, 0.9867412447929382, 0.835204541683197, 0.9346894025802612, 0.991007387638092], \"Term\": [\"able\", \"actually\", \"also\", \"believe\", \"best\", \"better\", \"bumn\", \"cheap\", \"children\", \"closing\", \"community\", \"control\", \"country\", \"course\", \"create\", \"development\", \"easily\", \"economic\", \"economy\", \"electricity\", \"even\", \"fact\", \"farmers\", \"fishermen\", \"food\", \"future\", \"get\", \"give\", \"given\", \"go\", \"god\", \"government\", \"harvest\", \"home\", \"honorary\", \"hundred\", \"indonesia\", \"indonesian\", \"information\", \"jobs\", \"land\", \"launched\", \"make\", \"mandate\", \"many\", \"medical\", \"money\", \"mothers\", \"movement\", \"much\", \"must\", \"nation\", \"one\", \"people\", \"peoples\", \"pkh\", \"prabowo\", \"president\", \"prices\", \"prosperous\", \"puncture\", \"question\", \"ready\", \"relatives\", \"revival\", \"rice\", \"right\", \"sandi\", \"says\", \"skewers\", \"status\", \"stop\", \"strategy\", \"strong\", \"success\", \"teachers\", \"thank\", \"therefore\", \"time\", \"together\", \"tps\", \"two\", \"us\", \"village\", \"volunteers\", \"want\", \"wants\", \"willing\", \"women\", \"work\", \"young\"]}, \"R\": 30, \"lambda.step\": 0.01, \"plot.opts\": {\"xlab\": \"PC1\", \"ylab\": \"PC2\"}, \"topic.order\": [3, 2, 1]};\n",
              "\n",
              "function LDAvis_load_lib(url, callback){\n",
              "  var s = document.createElement('script');\n",
              "  s.src = url;\n",
              "  s.async = true;\n",
              "  s.onreadystatechange = s.onload = callback;\n",
              "  s.onerror = function(){console.warn(\"failed to load library \" + url);};\n",
              "  document.getElementsByTagName(\"head\")[0].appendChild(s);\n",
              "}\n",
              "\n",
              "if(typeof(LDAvis) !== \"undefined\"){\n",
              "   // already loaded: just create the visualization\n",
              "   !function(LDAvis){\n",
              "       new LDAvis(\"#\" + \"ldavis_el1106413154373937447001525832\", ldavis_el1106413154373937447001525832_data);\n",
              "   }(LDAvis);\n",
              "}else if(typeof define === \"function\" && define.amd){\n",
              "   // require.js is available: use it to load d3/LDAvis\n",
              "   require.config({paths: {d3: \"https://cdnjs.cloudflare.com/ajax/libs/d3/3.5.5/d3.min\"}});\n",
              "   require([\"d3\"], function(d3){\n",
              "      window.d3 = d3;\n",
              "      LDAvis_load_lib(\"https://cdn.rawgit.com/bmabey/pyLDAvis/files/ldavis.v1.0.0.js\", function(){\n",
              "        new LDAvis(\"#\" + \"ldavis_el1106413154373937447001525832\", ldavis_el1106413154373937447001525832_data);\n",
              "      });\n",
              "    });\n",
              "}else{\n",
              "    // require.js not available: dynamically load d3 & LDAvis\n",
              "    LDAvis_load_lib(\"https://cdnjs.cloudflare.com/ajax/libs/d3/3.5.5/d3.min.js\", function(){\n",
              "         LDAvis_load_lib(\"https://cdn.rawgit.com/bmabey/pyLDAvis/files/ldavis.v1.0.0.js\", function(){\n",
              "                 new LDAvis(\"#\" + \"ldavis_el1106413154373937447001525832\", ldavis_el1106413154373937447001525832_data);\n",
              "            })\n",
              "         });\n",
              "}\n",
              "</script>"
            ],
            "text/plain": [
              "PreparedData(topic_coordinates=             x         y  topics  cluster       Freq\n",
              "topic                                               \n",
              "2     -0.19591 -0.008977       1        1  39.379070\n",
              "1      0.10648 -0.150223       2        1  31.293121\n",
              "0      0.08943  0.159200       3        1  29.327816, topic_info=    Category       Freq         Term      Total  loglift  logprob\n",
              "132  Default  39.000000        sandi  39.000000  30.0000  30.0000\n",
              "60   Default  49.000000      prabowo  49.000000  29.0000  29.0000\n",
              "283  Default  28.000000         want  28.000000  28.0000  28.0000\n",
              "26   Default  25.000000       people  25.000000  27.0000  27.0000\n",
              "837  Default  19.000000        wants  19.000000  26.0000  26.0000\n",
              "285  Default  18.000000          get  18.000000  25.0000  25.0000\n",
              "232  Default  17.000000           us  17.000000  24.0000  24.0000\n",
              "65   Default  16.000000        thank  16.000000  23.0000  23.0000\n",
              "475  Default  14.000000         give  14.000000  22.0000  22.0000\n",
              "277  Default  14.000000         also  14.000000  21.0000  21.0000\n",
              "31   Default  13.000000          one  13.000000  20.0000  20.0000\n",
              "97   Default  12.000000         work  12.000000  19.0000  19.0000\n",
              "166  Default  11.000000    indonesia  11.000000  18.0000  18.0000\n",
              "969  Default  15.000000     puncture  15.000000  17.0000  17.0000\n",
              "123  Default  10.000000       prices  10.000000  16.0000  16.0000\n",
              "233  Default   9.000000           go   9.000000  15.0000  15.0000\n",
              "83   Default  13.000000        young  13.000000  14.0000  14.0000\n",
              "967  Default  12.000000          tps  12.000000  13.0000  13.0000\n",
              "457  Default   8.000000         time   8.000000  12.0000  12.0000\n",
              "47   Default   8.000000        money   8.000000  11.0000  11.0000\n",
              "301  Default   7.000000       better   7.000000  10.0000  10.0000\n",
              "66   Default  10.000000          god  10.000000   9.0000   9.0000\n",
              "198  Default   8.000000       strong   8.000000   8.0000   8.0000\n",
              "332  Default   8.000000         able   8.000000   7.0000   7.0000\n",
              "58   Default   7.000000         must   7.000000   6.0000   6.0000\n",
              "87   Default   7.000000      economy   7.000000   5.0000   5.0000\n",
              "603  Default   7.000000       future   7.000000   4.0000   4.0000\n",
              "983  Default   9.000000      skewers   9.000000   3.0000   3.0000\n",
              "623  Default   7.000000     honorary   7.000000   2.0000   2.0000\n",
              "6    Default   7.000000     economic   7.000000   1.0000   1.0000\n",
              "..       ...        ...          ...        ...      ...      ...\n",
              "132   Topic3  39.198307        sandi  39.674885   1.2145  -2.8122\n",
              "283   Topic3  27.914141         want  28.390371   1.2097  -3.1517\n",
              "26    Topic3  25.509184       people  25.984093   1.2082  -3.2418\n",
              "475   Topic3  13.692535         give  14.169080   1.1924  -3.8640\n",
              "166   Topic3  11.355796    indonesia  11.830712   1.1857  -4.0511\n",
              "123   Topic3   9.887086       prices  10.362322   1.1797  -4.1896\n",
              "233   Topic3   9.152655           go   9.628127   1.1760  -4.2668\n",
              "457   Topic3   8.050841         time   8.526832   1.1692  -4.3951\n",
              "47    Topic3   8.050841        money   8.526832   1.1692  -4.3951\n",
              "301   Topic3   7.316121       better   7.792631   1.1635  -4.4908\n",
              "58    Topic3   6.814874         must   7.289745   1.1593  -4.5618\n",
              "87    Topic3   6.814874      economy   7.289745   1.1593  -4.5618\n",
              "299   Topic3   6.148351      believe   6.623456   1.1522  -4.6647\n",
              "39    Topic3   6.148351      country   6.623456   1.1522  -4.6647\n",
              "5     Topic3   5.781120       nation   6.256358   1.1476  -4.7263\n",
              "94    Topic3   5.413855    community   5.889258   1.1425  -4.7919\n",
              "276   Topic3   4.679167         home   5.155059   1.1298  -4.9378\n",
              "240   Topic3   4.612026       create   5.087165   1.1286  -4.9522\n",
              "721   Topic3   3.944091         much   4.420855   1.1125  -5.1087\n",
              "176   Topic3   3.944091         stop   4.420855   1.1125  -5.1087\n",
              "188   Topic3   3.576268       easily   4.053748   1.1013  -5.2066\n",
              "363   Topic3   3.576268         says   4.053748   1.1013  -5.2066\n",
              "733   Topic3   3.576268      harvest   4.053748   1.1013  -5.2066\n",
              "931   Topic3   3.576268   prosperous   4.053748   1.1013  -5.2066\n",
              "455   Topic3   3.576268      willing   4.053748   1.1013  -5.2066\n",
              "781   Topic3   3.576268       status   4.053747   1.1013  -5.2066\n",
              "645   Topic3   3.576268         rice   4.053748   1.1013  -5.2066\n",
              "62    Topic3   3.510464  development   3.985873   1.0996  -5.2251\n",
              "142   Topic3   3.143230     strategy   3.618775   1.0857  -5.3356\n",
              "330   Topic3   3.143230       course   3.618775   1.0857  -5.3356\n",
              "\n",
              "[121 rows x 6 columns], token_table=      Topic      Freq         Term\n",
              "term                              \n",
              "332       2  0.973329         able\n",
              "384       2  0.891894     actually\n",
              "277       2  0.952015         also\n",
              "299       3  0.905872      believe\n",
              "960       1  0.912728         best\n",
              "301       3  0.898285       better\n",
              "815       2  0.823336         bumn\n",
              "675       2  0.892034        cheap\n",
              "464       2  0.955707     children\n",
              "992       1  0.912728      closing\n",
              "94        3  0.849003    community\n",
              "1007      1  0.912728      control\n",
              "39        3  0.905872      country\n",
              "330       3  0.829010       course\n",
              "240       3  0.982866       create\n",
              "62        3  1.003544  development\n",
              "188       3  0.986741       easily\n",
              "6         2  0.986067     economic\n",
              "87        3  0.960253      economy\n",
              "726       2  0.823336  electricity\n",
              "184       1  0.921236         even\n",
              "40        1  0.849662         fact\n",
              "155       2  0.892034      farmers\n",
              "242       1  0.919987    fishermen\n",
              "616       2  0.903161         food\n",
              "603       2  0.928216       future\n",
              "285       2  0.988759          get\n",
              "475       3  0.988067         give\n",
              "356       2  0.955707        given\n",
              "233       3  0.934761           go\n",
              "...     ...       ...          ...\n",
              "688       1  0.976049     question\n",
              "596       2  1.003578        ready\n",
              "966       1  0.912728    relatives\n",
              "1014      1  0.912728      revival\n",
              "645       3  0.986741         rice\n",
              "327       2  0.891894        right\n",
              "132       3  0.982990        sandi\n",
              "363       3  0.986741         says\n",
              "983       1  0.945452      skewers\n",
              "781       3  0.986741       status\n",
              "176       3  0.904802         stop\n",
              "142       3  0.829010     strategy\n",
              "198       2  0.965224       strong\n",
              "1006      1  0.912728      success\n",
              "978       1  0.912728     teachers\n",
              "65        2  0.983500        thank\n",
              "606       1  0.849662    therefore\n",
              "457       3  0.938215         time\n",
              "197       2  0.955707     together\n",
              "967       1  0.962710          tps\n",
              "269       1  0.919987          two\n",
              "232       2  0.977645           us\n",
              "993       1  0.912728      village\n",
              "1024      1  0.912728   volunteers\n",
              "283       3  0.986250         want\n",
              "837       2  0.979685        wants\n",
              "455       3  0.986741      willing\n",
              "251       2  0.835205        women\n",
              "97        2  0.934689         work\n",
              "83        1  0.991007        young\n",
              "\n",
              "[91 rows x 3 columns], R=30, lambda_step=0.01, plot_opts={'xlab': 'PC1', 'ylab': 'PC2'}, topic_order=[3, 2, 1])"
            ]
          },
          "metadata": {
            "tags": []
          },
          "execution_count": 13
        }
      ]
    },
    {
      "cell_type": "code",
      "metadata": {
        "id": "DjQTVfba91MI",
        "colab_type": "code",
        "colab": {}
      },
      "source": [
        ""
      ],
      "execution_count": 0,
      "outputs": []
    }
  ]
}