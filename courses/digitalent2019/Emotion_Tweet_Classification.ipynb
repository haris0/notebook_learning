{
  "nbformat": 4,
  "nbformat_minor": 0,
  "metadata": {
    "colab": {
      "name": "Emotion Tweet Classification.ipynb",
      "version": "0.3.2",
      "provenance": [],
      "toc_visible": true
    },
    "kernelspec": {
      "name": "python3",
      "display_name": "Python 3"
    },
    "accelerator": "GPU"
  },
  "cells": [
    {
      "cell_type": "markdown",
      "metadata": {
        "id": "EceDH3rP3pLx",
        "colab_type": "text"
      },
      "source": [
        "# Import data and Library"
      ]
    },
    {
      "cell_type": "code",
      "metadata": {
        "id": "AuzLje6o8DaA",
        "colab_type": "code",
        "colab": {}
      },
      "source": [
        "import pandas as pd\n",
        "import numpy as np\n",
        "import zipfile\n",
        "from google.colab import files\n",
        "from wordcloud import WordCloud"
      ],
      "execution_count": 0,
      "outputs": []
    },
    {
      "cell_type": "code",
      "metadata": {
        "id": "YQ-K9fJZ-RuD",
        "colab_type": "code",
        "outputId": "9173f36b-eb79-463d-de91-82d0afe90b7d",
        "colab": {
          "resources": {
            "http://localhost:8080/nbextensions/google.colab/files.js": {
              "data": "Ly8gQ29weXJpZ2h0IDIwMTcgR29vZ2xlIExMQwovLwovLyBMaWNlbnNlZCB1bmRlciB0aGUgQXBhY2hlIExpY2Vuc2UsIFZlcnNpb24gMi4wICh0aGUgIkxpY2Vuc2UiKTsKLy8geW91IG1heSBub3QgdXNlIHRoaXMgZmlsZSBleGNlcHQgaW4gY29tcGxpYW5jZSB3aXRoIHRoZSBMaWNlbnNlLgovLyBZb3UgbWF5IG9idGFpbiBhIGNvcHkgb2YgdGhlIExpY2Vuc2UgYXQKLy8KLy8gICAgICBodHRwOi8vd3d3LmFwYWNoZS5vcmcvbGljZW5zZXMvTElDRU5TRS0yLjAKLy8KLy8gVW5sZXNzIHJlcXVpcmVkIGJ5IGFwcGxpY2FibGUgbGF3IG9yIGFncmVlZCB0byBpbiB3cml0aW5nLCBzb2Z0d2FyZQovLyBkaXN0cmlidXRlZCB1bmRlciB0aGUgTGljZW5zZSBpcyBkaXN0cmlidXRlZCBvbiBhbiAiQVMgSVMiIEJBU0lTLAovLyBXSVRIT1VUIFdBUlJBTlRJRVMgT1IgQ09ORElUSU9OUyBPRiBBTlkgS0lORCwgZWl0aGVyIGV4cHJlc3Mgb3IgaW1wbGllZC4KLy8gU2VlIHRoZSBMaWNlbnNlIGZvciB0aGUgc3BlY2lmaWMgbGFuZ3VhZ2UgZ292ZXJuaW5nIHBlcm1pc3Npb25zIGFuZAovLyBsaW1pdGF0aW9ucyB1bmRlciB0aGUgTGljZW5zZS4KCi8qKgogKiBAZmlsZW92ZXJ2aWV3IEhlbHBlcnMgZm9yIGdvb2dsZS5jb2xhYiBQeXRob24gbW9kdWxlLgogKi8KKGZ1bmN0aW9uKHNjb3BlKSB7CmZ1bmN0aW9uIHNwYW4odGV4dCwgc3R5bGVBdHRyaWJ1dGVzID0ge30pIHsKICBjb25zdCBlbGVtZW50ID0gZG9jdW1lbnQuY3JlYXRlRWxlbWVudCgnc3BhbicpOwogIGVsZW1lbnQudGV4dENvbnRlbnQgPSB0ZXh0OwogIGZvciAoY29uc3Qga2V5IG9mIE9iamVjdC5rZXlzKHN0eWxlQXR0cmlidXRlcykpIHsKICAgIGVsZW1lbnQuc3R5bGVba2V5XSA9IHN0eWxlQXR0cmlidXRlc1trZXldOwogIH0KICByZXR1cm4gZWxlbWVudDsKfQoKLy8gTWF4IG51bWJlciBvZiBieXRlcyB3aGljaCB3aWxsIGJlIHVwbG9hZGVkIGF0IGEgdGltZS4KY29uc3QgTUFYX1BBWUxPQURfU0laRSA9IDEwMCAqIDEwMjQ7Ci8vIE1heCBhbW91bnQgb2YgdGltZSB0byBibG9jayB3YWl0aW5nIGZvciB0aGUgdXNlci4KY29uc3QgRklMRV9DSEFOR0VfVElNRU9VVF9NUyA9IDMwICogMTAwMDsKCmZ1bmN0aW9uIF91cGxvYWRGaWxlcyhpbnB1dElkLCBvdXRwdXRJZCkgewogIGNvbnN0IHN0ZXBzID0gdXBsb2FkRmlsZXNTdGVwKGlucHV0SWQsIG91dHB1dElkKTsKICBjb25zdCBvdXRwdXRFbGVtZW50ID0gZG9jdW1lbnQuZ2V0RWxlbWVudEJ5SWQob3V0cHV0SWQpOwogIC8vIENhY2hlIHN0ZXBzIG9uIHRoZSBvdXRwdXRFbGVtZW50IHRvIG1ha2UgaXQgYXZhaWxhYmxlIGZvciB0aGUgbmV4dCBjYWxsCiAgLy8gdG8gdXBsb2FkRmlsZXNDb250aW51ZSBmcm9tIFB5dGhvbi4KICBvdXRwdXRFbGVtZW50LnN0ZXBzID0gc3RlcHM7CgogIHJldHVybiBfdXBsb2FkRmlsZXNDb250aW51ZShvdXRwdXRJZCk7Cn0KCi8vIFRoaXMgaXMgcm91Z2hseSBhbiBhc3luYyBnZW5lcmF0b3IgKG5vdCBzdXBwb3J0ZWQgaW4gdGhlIGJyb3dzZXIgeWV0KSwKLy8gd2hlcmUgdGhlcmUgYXJlIG11bHRpcGxlIGFzeW5jaHJvbm91cyBzdGVwcyBhbmQgdGhlIFB5dGhvbiBzaWRlIGlzIGdvaW5nCi8vIHRvIHBvbGwgZm9yIGNvbXBsZXRpb24gb2YgZWFjaCBzdGVwLgovLyBUaGlzIHVzZXMgYSBQcm9taXNlIHRvIGJsb2NrIHRoZSBweXRob24gc2lkZSBvbiBjb21wbGV0aW9uIG9mIGVhY2ggc3RlcCwKLy8gdGhlbiBwYXNzZXMgdGhlIHJlc3VsdCBvZiB0aGUgcHJldmlvdXMgc3RlcCBhcyB0aGUgaW5wdXQgdG8gdGhlIG5leHQgc3RlcC4KZnVuY3Rpb24gX3VwbG9hZEZpbGVzQ29udGludWUob3V0cHV0SWQpIHsKICBjb25zdCBvdXRwdXRFbGVtZW50ID0gZG9jdW1lbnQuZ2V0RWxlbWVudEJ5SWQob3V0cHV0SWQpOwogIGNvbnN0IHN0ZXBzID0gb3V0cHV0RWxlbWVudC5zdGVwczsKCiAgY29uc3QgbmV4dCA9IHN0ZXBzLm5leHQob3V0cHV0RWxlbWVudC5sYXN0UHJvbWlzZVZhbHVlKTsKICByZXR1cm4gUHJvbWlzZS5yZXNvbHZlKG5leHQudmFsdWUucHJvbWlzZSkudGhlbigodmFsdWUpID0+IHsKICAgIC8vIENhY2hlIHRoZSBsYXN0IHByb21pc2UgdmFsdWUgdG8gbWFrZSBpdCBhdmFpbGFibGUgdG8gdGhlIG5leHQKICAgIC8vIHN0ZXAgb2YgdGhlIGdlbmVyYXRvci4KICAgIG91dHB1dEVsZW1lbnQubGFzdFByb21pc2VWYWx1ZSA9IHZhbHVlOwogICAgcmV0dXJuIG5leHQudmFsdWUucmVzcG9uc2U7CiAgfSk7Cn0KCi8qKgogKiBHZW5lcmF0b3IgZnVuY3Rpb24gd2hpY2ggaXMgY2FsbGVkIGJldHdlZW4gZWFjaCBhc3luYyBzdGVwIG9mIHRoZSB1cGxvYWQKICogcHJvY2Vzcy4KICogQHBhcmFtIHtzdHJpbmd9IGlucHV0SWQgRWxlbWVudCBJRCBvZiB0aGUgaW5wdXQgZmlsZSBwaWNrZXIgZWxlbWVudC4KICogQHBhcmFtIHtzdHJpbmd9IG91dHB1dElkIEVsZW1lbnQgSUQgb2YgdGhlIG91dHB1dCBkaXNwbGF5LgogKiBAcmV0dXJuIHshSXRlcmFibGU8IU9iamVjdD59IEl0ZXJhYmxlIG9mIG5leHQgc3RlcHMuCiAqLwpmdW5jdGlvbiogdXBsb2FkRmlsZXNTdGVwKGlucHV0SWQsIG91dHB1dElkKSB7CiAgY29uc3QgaW5wdXRFbGVtZW50ID0gZG9jdW1lbnQuZ2V0RWxlbWVudEJ5SWQoaW5wdXRJZCk7CiAgaW5wdXRFbGVtZW50LmRpc2FibGVkID0gZmFsc2U7CgogIGNvbnN0IG91dHB1dEVsZW1lbnQgPSBkb2N1bWVudC5nZXRFbGVtZW50QnlJZChvdXRwdXRJZCk7CiAgb3V0cHV0RWxlbWVudC5pbm5lckhUTUwgPSAnJzsKCiAgY29uc3QgcGlja2VkUHJvbWlzZSA9IG5ldyBQcm9taXNlKChyZXNvbHZlKSA9PiB7CiAgICBpbnB1dEVsZW1lbnQuYWRkRXZlbnRMaXN0ZW5lcignY2hhbmdlJywgKGUpID0+IHsKICAgICAgcmVzb2x2ZShlLnRhcmdldC5maWxlcyk7CiAgICB9KTsKICB9KTsKCiAgY29uc3QgY2FuY2VsID0gZG9jdW1lbnQuY3JlYXRlRWxlbWVudCgnYnV0dG9uJyk7CiAgaW5wdXRFbGVtZW50LnBhcmVudEVsZW1lbnQuYXBwZW5kQ2hpbGQoY2FuY2VsKTsKICBjYW5jZWwudGV4dENvbnRlbnQgPSAnQ2FuY2VsIHVwbG9hZCc7CiAgY29uc3QgY2FuY2VsUHJvbWlzZSA9IG5ldyBQcm9taXNlKChyZXNvbHZlKSA9PiB7CiAgICBjYW5jZWwub25jbGljayA9ICgpID0+IHsKICAgICAgcmVzb2x2ZShudWxsKTsKICAgIH07CiAgfSk7CgogIC8vIENhbmNlbCB1cGxvYWQgaWYgdXNlciBoYXNuJ3QgcGlja2VkIGFueXRoaW5nIGluIHRpbWVvdXQuCiAgY29uc3QgdGltZW91dFByb21pc2UgPSBuZXcgUHJvbWlzZSgocmVzb2x2ZSkgPT4gewogICAgc2V0VGltZW91dCgoKSA9PiB7CiAgICAgIHJlc29sdmUobnVsbCk7CiAgICB9LCBGSUxFX0NIQU5HRV9USU1FT1VUX01TKTsKICB9KTsKCiAgLy8gV2FpdCBmb3IgdGhlIHVzZXIgdG8gcGljayB0aGUgZmlsZXMuCiAgY29uc3QgZmlsZXMgPSB5aWVsZCB7CiAgICBwcm9taXNlOiBQcm9taXNlLnJhY2UoW3BpY2tlZFByb21pc2UsIHRpbWVvdXRQcm9taXNlLCBjYW5jZWxQcm9taXNlXSksCiAgICByZXNwb25zZTogewogICAgICBhY3Rpb246ICdzdGFydGluZycsCiAgICB9CiAgfTsKCiAgaWYgKCFmaWxlcykgewogICAgcmV0dXJuIHsKICAgICAgcmVzcG9uc2U6IHsKICAgICAgICBhY3Rpb246ICdjb21wbGV0ZScsCiAgICAgIH0KICAgIH07CiAgfQoKICBjYW5jZWwucmVtb3ZlKCk7CgogIC8vIERpc2FibGUgdGhlIGlucHV0IGVsZW1lbnQgc2luY2UgZnVydGhlciBwaWNrcyBhcmUgbm90IGFsbG93ZWQuCiAgaW5wdXRFbGVtZW50LmRpc2FibGVkID0gdHJ1ZTsKCiAgZm9yIChjb25zdCBmaWxlIG9mIGZpbGVzKSB7CiAgICBjb25zdCBsaSA9IGRvY3VtZW50LmNyZWF0ZUVsZW1lbnQoJ2xpJyk7CiAgICBsaS5hcHBlbmQoc3BhbihmaWxlLm5hbWUsIHtmb250V2VpZ2h0OiAnYm9sZCd9KSk7CiAgICBsaS5hcHBlbmQoc3BhbigKICAgICAgICBgKCR7ZmlsZS50eXBlIHx8ICduL2EnfSkgLSAke2ZpbGUuc2l6ZX0gYnl0ZXMsIGAgKwogICAgICAgIGBsYXN0IG1vZGlmaWVkOiAkewogICAgICAgICAgICBmaWxlLmxhc3RNb2RpZmllZERhdGUgPyBmaWxlLmxhc3RNb2RpZmllZERhdGUudG9Mb2NhbGVEYXRlU3RyaW5nKCkgOgogICAgICAgICAgICAgICAgICAgICAgICAgICAgICAgICAgICAnbi9hJ30gLSBgKSk7CiAgICBjb25zdCBwZXJjZW50ID0gc3BhbignMCUgZG9uZScpOwogICAgbGkuYXBwZW5kQ2hpbGQocGVyY2VudCk7CgogICAgb3V0cHV0RWxlbWVudC5hcHBlbmRDaGlsZChsaSk7CgogICAgY29uc3QgZmlsZURhdGFQcm9taXNlID0gbmV3IFByb21pc2UoKHJlc29sdmUpID0+IHsKICAgICAgY29uc3QgcmVhZGVyID0gbmV3IEZpbGVSZWFkZXIoKTsKICAgICAgcmVhZGVyLm9ubG9hZCA9IChlKSA9PiB7CiAgICAgICAgcmVzb2x2ZShlLnRhcmdldC5yZXN1bHQpOwogICAgICB9OwogICAgICByZWFkZXIucmVhZEFzQXJyYXlCdWZmZXIoZmlsZSk7CiAgICB9KTsKICAgIC8vIFdhaXQgZm9yIHRoZSBkYXRhIHRvIGJlIHJlYWR5LgogICAgbGV0IGZpbGVEYXRhID0geWllbGQgewogICAgICBwcm9taXNlOiBmaWxlRGF0YVByb21pc2UsCiAgICAgIHJlc3BvbnNlOiB7CiAgICAgICAgYWN0aW9uOiAnY29udGludWUnLAogICAgICB9CiAgICB9OwoKICAgIC8vIFVzZSBhIGNodW5rZWQgc2VuZGluZyB0byBhdm9pZCBtZXNzYWdlIHNpemUgbGltaXRzLiBTZWUgYi82MjExNTY2MC4KICAgIGxldCBwb3NpdGlvbiA9IDA7CiAgICB3aGlsZSAocG9zaXRpb24gPCBmaWxlRGF0YS5ieXRlTGVuZ3RoKSB7CiAgICAgIGNvbnN0IGxlbmd0aCA9IE1hdGgubWluKGZpbGVEYXRhLmJ5dGVMZW5ndGggLSBwb3NpdGlvbiwgTUFYX1BBWUxPQURfU0laRSk7CiAgICAgIGNvbnN0IGNodW5rID0gbmV3IFVpbnQ4QXJyYXkoZmlsZURhdGEsIHBvc2l0aW9uLCBsZW5ndGgpOwogICAgICBwb3NpdGlvbiArPSBsZW5ndGg7CgogICAgICBjb25zdCBiYXNlNjQgPSBidG9hKFN0cmluZy5mcm9tQ2hhckNvZGUuYXBwbHkobnVsbCwgY2h1bmspKTsKICAgICAgeWllbGQgewogICAgICAgIHJlc3BvbnNlOiB7CiAgICAgICAgICBhY3Rpb246ICdhcHBlbmQnLAogICAgICAgICAgZmlsZTogZmlsZS5uYW1lLAogICAgICAgICAgZGF0YTogYmFzZTY0LAogICAgICAgIH0sCiAgICAgIH07CiAgICAgIHBlcmNlbnQudGV4dENvbnRlbnQgPQogICAgICAgICAgYCR7TWF0aC5yb3VuZCgocG9zaXRpb24gLyBmaWxlRGF0YS5ieXRlTGVuZ3RoKSAqIDEwMCl9JSBkb25lYDsKICAgIH0KICB9CgogIC8vIEFsbCBkb25lLgogIHlpZWxkIHsKICAgIHJlc3BvbnNlOiB7CiAgICAgIGFjdGlvbjogJ2NvbXBsZXRlJywKICAgIH0KICB9Owp9CgpzY29wZS5nb29nbGUgPSBzY29wZS5nb29nbGUgfHwge307CnNjb3BlLmdvb2dsZS5jb2xhYiA9IHNjb3BlLmdvb2dsZS5jb2xhYiB8fCB7fTsKc2NvcGUuZ29vZ2xlLmNvbGFiLl9maWxlcyA9IHsKICBfdXBsb2FkRmlsZXMsCiAgX3VwbG9hZEZpbGVzQ29udGludWUsCn07Cn0pKHNlbGYpOwo=",
              "ok": true,
              "headers": [
                [
                  "content-type",
                  "application/javascript"
                ]
              ],
              "status": 200,
              "status_text": ""
            }
          },
          "base_uri": "https://localhost:8080/",
          "height": 74
        }
      },
      "source": [
        "uploaded = files.upload()"
      ],
      "execution_count": 0,
      "outputs": [
        {
          "output_type": "display_data",
          "data": {
            "text/html": [
              "\n",
              "     <input type=\"file\" id=\"files-da511235-c582-4027-b405-31427e24dfa3\" name=\"files[]\" multiple disabled />\n",
              "     <output id=\"result-da511235-c582-4027-b405-31427e24dfa3\">\n",
              "      Upload widget is only available when the cell has been executed in the\n",
              "      current browser session. Please rerun this cell to enable.\n",
              "      </output>\n",
              "      <script src=\"/nbextensions/google.colab/files.js\"></script> "
            ],
            "text/plain": [
              "<IPython.core.display.HTML object>"
            ]
          },
          "metadata": {
            "tags": []
          }
        },
        {
          "output_type": "stream",
          "text": [
            "Saving data_tweet.zip to data_tweet.zip\n"
          ],
          "name": "stdout"
        }
      ]
    },
    {
      "cell_type": "code",
      "metadata": {
        "id": "hbqq4vxf-T34",
        "colab_type": "code",
        "outputId": "a4a88ad9-f891-4a50-b986-8ca4794db5c1",
        "colab": {
          "base_uri": "https://localhost:8080/",
          "height": 102
        }
      },
      "source": [
        "!unzip 'data_tweet.zip'"
      ],
      "execution_count": 0,
      "outputs": [
        {
          "output_type": "stream",
          "text": [
            "Archive:  data_tweet.zip\n",
            "   creating: data_tweet/\n",
            "  inflating: data_tweet/2018-E-c-En-test.txt  \n",
            "  inflating: data_tweet/2018-E-c-En-train.txt  \n",
            "  inflating: data_tweet/key_norm.csv  \n"
          ],
          "name": "stdout"
        }
      ]
    },
    {
      "cell_type": "code",
      "metadata": {
        "id": "R7q0nUk5CXm2",
        "colab_type": "code",
        "outputId": "9c1d70d9-8bb0-4a25-bf12-e59e4ac31616",
        "colab": {
          "base_uri": "https://localhost:8080/",
          "height": 445
        }
      },
      "source": [
        "df = pd.read_csv('data_tweet/2018-E-c-En-train.txt', sep='\\t')\n",
        "df.head()"
      ],
      "execution_count": 0,
      "outputs": [
        {
          "output_type": "execute_result",
          "data": {
            "text/html": [
              "<div>\n",
              "<style scoped>\n",
              "    .dataframe tbody tr th:only-of-type {\n",
              "        vertical-align: middle;\n",
              "    }\n",
              "\n",
              "    .dataframe tbody tr th {\n",
              "        vertical-align: top;\n",
              "    }\n",
              "\n",
              "    .dataframe thead th {\n",
              "        text-align: right;\n",
              "    }\n",
              "</style>\n",
              "<table border=\"1\" class=\"dataframe\">\n",
              "  <thead>\n",
              "    <tr style=\"text-align: right;\">\n",
              "      <th></th>\n",
              "      <th>ID</th>\n",
              "      <th>Tweet</th>\n",
              "      <th>anger</th>\n",
              "      <th>anticipation</th>\n",
              "      <th>disgust</th>\n",
              "      <th>fear</th>\n",
              "      <th>joy</th>\n",
              "      <th>love</th>\n",
              "      <th>optimism</th>\n",
              "      <th>pessimism</th>\n",
              "      <th>sadness</th>\n",
              "      <th>surprise</th>\n",
              "      <th>trust</th>\n",
              "    </tr>\n",
              "  </thead>\n",
              "  <tbody>\n",
              "    <tr>\n",
              "      <th>0</th>\n",
              "      <td>2017-En-21441</td>\n",
              "      <td>“Worry is a down payment on a problem you may ...</td>\n",
              "      <td>0</td>\n",
              "      <td>1</td>\n",
              "      <td>0</td>\n",
              "      <td>0</td>\n",
              "      <td>0</td>\n",
              "      <td>0</td>\n",
              "      <td>1</td>\n",
              "      <td>0</td>\n",
              "      <td>0</td>\n",
              "      <td>0</td>\n",
              "      <td>1</td>\n",
              "    </tr>\n",
              "    <tr>\n",
              "      <th>1</th>\n",
              "      <td>2017-En-31535</td>\n",
              "      <td>Whatever you decide to do make sure it makes y...</td>\n",
              "      <td>0</td>\n",
              "      <td>0</td>\n",
              "      <td>0</td>\n",
              "      <td>0</td>\n",
              "      <td>1</td>\n",
              "      <td>1</td>\n",
              "      <td>1</td>\n",
              "      <td>0</td>\n",
              "      <td>0</td>\n",
              "      <td>0</td>\n",
              "      <td>0</td>\n",
              "    </tr>\n",
              "    <tr>\n",
              "      <th>2</th>\n",
              "      <td>2017-En-21068</td>\n",
              "      <td>@Max_Kellerman  it also helps that the majorit...</td>\n",
              "      <td>1</td>\n",
              "      <td>0</td>\n",
              "      <td>1</td>\n",
              "      <td>0</td>\n",
              "      <td>1</td>\n",
              "      <td>0</td>\n",
              "      <td>1</td>\n",
              "      <td>0</td>\n",
              "      <td>0</td>\n",
              "      <td>0</td>\n",
              "      <td>0</td>\n",
              "    </tr>\n",
              "    <tr>\n",
              "      <th>3</th>\n",
              "      <td>2017-En-31436</td>\n",
              "      <td>Accept the challenges so that you can literall...</td>\n",
              "      <td>0</td>\n",
              "      <td>0</td>\n",
              "      <td>0</td>\n",
              "      <td>0</td>\n",
              "      <td>1</td>\n",
              "      <td>0</td>\n",
              "      <td>1</td>\n",
              "      <td>0</td>\n",
              "      <td>0</td>\n",
              "      <td>0</td>\n",
              "      <td>0</td>\n",
              "    </tr>\n",
              "    <tr>\n",
              "      <th>4</th>\n",
              "      <td>2017-En-22195</td>\n",
              "      <td>My roommate: it's okay that we can't spell bec...</td>\n",
              "      <td>1</td>\n",
              "      <td>0</td>\n",
              "      <td>1</td>\n",
              "      <td>0</td>\n",
              "      <td>0</td>\n",
              "      <td>0</td>\n",
              "      <td>0</td>\n",
              "      <td>0</td>\n",
              "      <td>0</td>\n",
              "      <td>0</td>\n",
              "      <td>0</td>\n",
              "    </tr>\n",
              "  </tbody>\n",
              "</table>\n",
              "</div>"
            ],
            "text/plain": [
              "              ID  ... trust\n",
              "0  2017-En-21441  ...     1\n",
              "1  2017-En-31535  ...     0\n",
              "2  2017-En-21068  ...     0\n",
              "3  2017-En-31436  ...     0\n",
              "4  2017-En-22195  ...     0\n",
              "\n",
              "[5 rows x 13 columns]"
            ]
          },
          "metadata": {
            "tags": []
          },
          "execution_count": 14
        }
      ]
    },
    {
      "cell_type": "markdown",
      "metadata": {
        "id": "Y90DkCeM3zvS",
        "colab_type": "text"
      },
      "source": [
        "# Preprocessing"
      ]
    },
    {
      "cell_type": "code",
      "metadata": {
        "id": "a7fFdusVDy8-",
        "colab_type": "code",
        "colab": {}
      },
      "source": [
        "df_tweet = df_train['Tweet']"
      ],
      "execution_count": 0,
      "outputs": []
    },
    {
      "cell_type": "code",
      "metadata": {
        "id": "K0HYQl_fvjxp",
        "colab_type": "code",
        "colab": {}
      },
      "source": [
        "from nltk.tokenize import WordPunctTokenizer\n",
        "from bs4 import BeautifulSoup\n",
        "import re\n",
        "tok = WordPunctTokenizer()\n",
        "pat1 = r'@[A-Za-z0-9]+'\n",
        "pat2 = r'https?://[A-Za-z0-9./]+'\n",
        "combined_pat = r'|'.join((pat1, pat2))\n",
        "\n",
        "def tweet_cleaner(text):\n",
        "    soup = BeautifulSoup(text, 'lxml')\n",
        "    souped = soup.get_text()\n",
        "    stripped = re.sub(combined_pat, '', souped)\n",
        "    try:\n",
        "        clean = stripped.decode(\"utf-8-sig\").replace(u\"\\ufffd\", \"?\")\n",
        "    except:\n",
        "        clean = stripped\n",
        "    letters_only = re.sub(\"[^a-zA-Z]\", \" \", clean)\n",
        "    lower_case = letters_only.lower()\n",
        "    words = tok.tokenize(lower_case)\n",
        "    return (\" \".join(words)).strip()"
      ],
      "execution_count": 0,
      "outputs": []
    },
    {
      "cell_type": "code",
      "metadata": {
        "id": "U87s2MvnvvKF",
        "colab_type": "code",
        "outputId": "9361d267-79c7-4494-9d57-852734e8804e",
        "colab": {
          "base_uri": "https://localhost:8080/",
          "height": 119
        }
      },
      "source": [
        "df_tweet = df_tweet.apply(lambda text: tweet_cleaner(text))\n",
        "df_tweet.head()"
      ],
      "execution_count": 0,
      "outputs": [
        {
          "output_type": "execute_result",
          "data": {
            "text/plain": [
              "0    worry is a down payment on a problem you may n...\n",
              "1    whatever you decide to do make sure it makes y...\n",
              "2    kellerman it also helps that the majority of n...\n",
              "3    accept the challenges so that you can literall...\n",
              "4    my roommate it s okay that we can t spell beca...\n",
              "Name: Tweet, dtype: object"
            ]
          },
          "metadata": {
            "tags": []
          },
          "execution_count": 22
        }
      ]
    },
    {
      "cell_type": "markdown",
      "metadata": {
        "id": "RaD99mf_36mE",
        "colab_type": "text"
      },
      "source": [
        "# Feature Extraction"
      ]
    },
    {
      "cell_type": "code",
      "metadata": {
        "id": "DJHa0HvTEL6d",
        "colab_type": "code",
        "colab": {}
      },
      "source": [
        "from sklearn.feature_extraction.text import CountVectorizer\n",
        "\n",
        "tweet_train = CountVectorizer().fit_transform(df_tweet)"
      ],
      "execution_count": 0,
      "outputs": []
    },
    {
      "cell_type": "code",
      "metadata": {
        "id": "MzX94JifE4ms",
        "colab_type": "code",
        "colab": {}
      },
      "source": [
        "from sklearn.feature_extraction.text import TfidfTransformer\n",
        "\n",
        "tweet_tfidf = TfidfTransformer().fit_transform(tweet_train)"
      ],
      "execution_count": 0,
      "outputs": []
    },
    {
      "cell_type": "code",
      "metadata": {
        "id": "_Kp3AUfkFYTF",
        "colab_type": "code",
        "colab": {}
      },
      "source": [
        "from sklearn.naive_bayes import MultinomialNB\n",
        "from sklearn.svm import SVC\n",
        "from sklearn.metrics import accuracy_score, f1_score, precision_score, recall_score"
      ],
      "execution_count": 0,
      "outputs": []
    },
    {
      "cell_type": "code",
      "metadata": {
        "id": "EtWR9q-dGjfa",
        "colab_type": "code",
        "colab": {}
      },
      "source": [
        "from sklearn.model_selection import train_test_split"
      ],
      "execution_count": 0,
      "outputs": []
    },
    {
      "cell_type": "code",
      "metadata": {
        "id": "RtSEXmLzGqOS",
        "colab_type": "code",
        "colab": {}
      },
      "source": [
        "X = tweet_tfidf\n",
        "\n",
        "y_anger = df['anger']\n",
        "y_anticipation = df['anticipation']\n",
        "y_disgust = df['disgust']\n",
        "y_fear = df['fear']\n",
        "y_joy = df['joy']\n",
        "y_love = df['love']\n",
        "y_optimism = df['optimism']\n",
        "y_pessimism = df['pessimism']\n",
        "y_sadness = df['sadness']\n",
        "y_surprise = df['surprise']\n",
        "y_trust = df['trust']"
      ],
      "execution_count": 0,
      "outputs": []
    },
    {
      "cell_type": "code",
      "metadata": {
        "id": "-d5GBGXIHGg1",
        "colab_type": "code",
        "colab": {}
      },
      "source": [
        "X_train, X_test = train_test_split(X, test_size=0.25)\n",
        "\n",
        "y_train_anger, y_test_anger = train_test_split(y_anger, test_size=0.25)\n",
        "y_train_anticipation, y_test_anticipation = train_test_split(y_anticipation, test_size=0.25)\n",
        "y_train_disgust, y_test_disgust = train_test_split(y_disgust, test_size=0.25)\n",
        "y_train_fear, y_test_fear = train_test_split(y_fear, test_size=0.25)\n",
        "y_train_joy, y_test_joy = train_test_split(y_joy, test_size=0.25)\n",
        "y_train_love, y_test_love = train_test_split(y_love, test_size=0.25)\n",
        "y_train_optimism, y_test_optimism = train_test_split(y_optimism, test_size=0.25)\n",
        "y_train_pessimism, y_test_pessimism = train_test_split(y_pessimism, test_size=0.25)\n",
        "y_train_sadness, y_test_sadness = train_test_split(y_sadness, test_size=0.25)\n",
        "y_train_surprise, y_test_surprise = train_test_split(y_surprise, test_size=0.25)\n",
        "y_train_trust, y_test_trust = train_test_split(y_trust, test_size=0.25)"
      ],
      "execution_count": 0,
      "outputs": []
    },
    {
      "cell_type": "markdown",
      "metadata": {
        "id": "Xo9dR20_4AB0",
        "colab_type": "text"
      },
      "source": [
        "# Classification With Naive Bayes"
      ]
    },
    {
      "cell_type": "markdown",
      "metadata": {
        "id": "Rkdj373f20ZO",
        "colab_type": "text"
      },
      "source": [
        "### Anger Emotion Clasification"
      ]
    },
    {
      "cell_type": "code",
      "metadata": {
        "id": "H_wz8MpSHZ9Y",
        "colab_type": "code",
        "outputId": "7dd3adf9-c080-4223-c05f-c1e25458b925",
        "colab": {
          "base_uri": "https://localhost:8080/",
          "height": 85
        }
      },
      "source": [
        "clf_nb_anger = MultinomialNB()\n",
        "clf_nb_anger.fit(X_train, y_train_anger)\n",
        "\n",
        "pred_nb_anger = clf_nb_anger.predict(X_test)\n",
        "print(\"Accuracy Anger Emotion\\t: \",accuracy_score(y_test_anger, pred_nb_anger))\n",
        "print(\"Precision Anger Emotion\\t: \",precision_score(y_test_anger, pred_nb_anger))\n",
        "print(\"Recall Anger Emotion\\t: \",recall_score(y_test_anger, pred_nb_anger))\n",
        "print(\"F1-score Anger Emotion\\t: \",f1_score(y_test_anger, pred_nb_anger))"
      ],
      "execution_count": 0,
      "outputs": [
        {
          "output_type": "stream",
          "text": [
            "Accuracy Anger Emotion\t:  0.6292397660818714\n",
            "Precision Anger Emotion\t:  0.41509433962264153\n",
            "Recall Anger Emotion\t:  0.0352\n",
            "F1-score Anger Emotion\t:  0.06489675516224189\n"
          ],
          "name": "stdout"
        }
      ]
    },
    {
      "cell_type": "markdown",
      "metadata": {
        "colab_type": "text",
        "id": "wP86syTf9MBr"
      },
      "source": [
        "### Anticipation Emotion Clasification"
      ]
    },
    {
      "cell_type": "code",
      "metadata": {
        "colab_type": "code",
        "outputId": "0ecc4202-2969-4be7-a4bc-1e0a94fec2ec",
        "id": "LA-A8OgV9MBv",
        "colab": {
          "base_uri": "https://localhost:8080/",
          "height": 173
        }
      },
      "source": [
        "clf_nb_anticipation = MultinomialNB()\n",
        "clf_nb_anticipation.fit(X_train, y_train_anticipation)\n",
        "\n",
        "pred_nb_anticipation = clf_nb_anticipation.predict(X_test)\n",
        "print(\"Accuracy anticipation Emotion\\t: \",accuracy_score(y_test_anticipation, pred_nb_anticipation))\n",
        "print(\"Precision anticipation Emotion\\t: \",precision_score(y_test_anticipation, pred_nb_anticipation))\n",
        "print(\"Recall anticipation Emotion\\t: \",recall_score(y_test_anticipation, pred_nb_anticipation))\n",
        "print(\"F1-score anticipation Emotion\\t: \",f1_score(y_test_anticipation, pred_nb_anticipation))"
      ],
      "execution_count": 0,
      "outputs": [
        {
          "output_type": "stream",
          "text": [
            "Accuracy anticipation Emotion\t:  0.8584795321637427\n",
            "Precision anticipation Emotion\t:  0.0\n",
            "Recall anticipation Emotion\t:  0.0\n",
            "F1-score anticipation Emotion\t:  0.0\n"
          ],
          "name": "stdout"
        },
        {
          "output_type": "stream",
          "text": [
            "/usr/local/lib/python3.6/dist-packages/sklearn/metrics/classification.py:1437: UndefinedMetricWarning: Precision is ill-defined and being set to 0.0 due to no predicted samples.\n",
            "  'precision', 'predicted', average, warn_for)\n",
            "/usr/local/lib/python3.6/dist-packages/sklearn/metrics/classification.py:1437: UndefinedMetricWarning: F-score is ill-defined and being set to 0.0 due to no predicted samples.\n",
            "  'precision', 'predicted', average, warn_for)\n"
          ],
          "name": "stderr"
        }
      ]
    },
    {
      "cell_type": "markdown",
      "metadata": {
        "colab_type": "text",
        "id": "HN1E83dy9kc2"
      },
      "source": [
        "### Disgust Emotion Clasification"
      ]
    },
    {
      "cell_type": "code",
      "metadata": {
        "colab_type": "code",
        "outputId": "d190ebb9-ca28-4266-b7d2-a3ca5f7a50e1",
        "id": "AmCjLtdW9kc4",
        "colab": {
          "base_uri": "https://localhost:8080/",
          "height": 85
        }
      },
      "source": [
        "clf_nb_disgust = MultinomialNB()\n",
        "clf_nb_disgust.fit(X_train, y_train_disgust)\n",
        "\n",
        "pred_nb_disgust = clf_nb_disgust.predict(X_test)\n",
        "print(\"Accuracy disgust Emotion\\t: \",accuracy_score(y_test_disgust, pred_nb_disgust))\n",
        "print(\"Precision disgust Emotion\\t: \",precision_score(y_test_disgust, pred_nb_disgust))\n",
        "print(\"Recall disgust Emotion\\t\\t: \",recall_score(y_test_disgust, pred_nb_disgust))\n",
        "print(\"F1-score disgust Emotion\\t: \",f1_score(y_test_disgust, pred_nb_disgust))"
      ],
      "execution_count": 0,
      "outputs": [
        {
          "output_type": "stream",
          "text": [
            "Accuracy disgust Emotion\t:  0.5982456140350877\n",
            "Precision disgust Emotion\t:  0.2711864406779661\n",
            "Recall disgust Emotion\t\t:  0.024242424242424242\n",
            "F1-score disgust Emotion\t:  0.044506258692628656\n"
          ],
          "name": "stdout"
        }
      ]
    },
    {
      "cell_type": "markdown",
      "metadata": {
        "colab_type": "text",
        "id": "pNnQZpBV9qrg"
      },
      "source": [
        "### Fear Emotion Clasification"
      ]
    },
    {
      "cell_type": "code",
      "metadata": {
        "colab_type": "code",
        "outputId": "06f8e99d-b2db-4d78-fcf0-68c6893e45a4",
        "id": "EyXjM5Xk9qri",
        "colab": {
          "base_uri": "https://localhost:8080/",
          "height": 85
        }
      },
      "source": [
        "clf_nb_fear = MultinomialNB()\n",
        "clf_nb_fear.fit(X_train, y_train_fear)\n",
        "\n",
        "pred_nb_fear = clf_nb_fear.predict(X_test)\n",
        "print(\"Accuracy fear Emotion\\t: \",accuracy_score(y_test_fear, pred_nb_fear))\n",
        "print(\"Precision fear Emotion\\t: \",precision_score(y_test_fear, pred_nb_fear))\n",
        "print(\"Recall fear Emotion\\t: \",recall_score(y_test_fear, pred_nb_fear))\n",
        "print(\"F1-score fear Emotion\\t: \",f1_score(y_test_fear, pred_nb_fear))"
      ],
      "execution_count": 0,
      "outputs": [
        {
          "output_type": "stream",
          "text": [
            "Accuracy fear Emotion\t:  0.808187134502924\n",
            "Precision fear Emotion\t:  0.0\n",
            "Recall fear Emotion\t:  0.0\n",
            "F1-score fear Emotion\t:  0.0\n"
          ],
          "name": "stdout"
        }
      ]
    },
    {
      "cell_type": "markdown",
      "metadata": {
        "colab_type": "text",
        "id": "hlQ2gOon9rp_"
      },
      "source": [
        "### Joy Emotion Clasification"
      ]
    },
    {
      "cell_type": "code",
      "metadata": {
        "colab_type": "code",
        "outputId": "4d177b61-d691-4643-d206-24d108d64857",
        "id": "-3mML1VY9rqD",
        "colab": {
          "base_uri": "https://localhost:8080/",
          "height": 85
        }
      },
      "source": [
        "clf_nb_joy = MultinomialNB()\n",
        "clf_nb_joy.fit(X_train, y_train_joy)\n",
        "\n",
        "pred_nb_joy = clf_nb_joy.predict(X_test)\n",
        "print(\"Accuracy joy Emotion\\t: \",accuracy_score(y_test_joy, pred_nb_joy))\n",
        "print(\"Precision joy Emotion\\t: \",precision_score(y_test_joy, pred_nb_joy))\n",
        "print(\"Recall joy Emotion\\t: \",recall_score(y_test_joy, pred_nb_joy))\n",
        "print(\"F1-score joy Emotion\\t: \",f1_score(y_test_joy, pred_nb_joy))"
      ],
      "execution_count": 0,
      "outputs": [
        {
          "output_type": "stream",
          "text": [
            "Accuracy joy Emotion\t:  0.6257309941520468\n",
            "Precision joy Emotion\t:  0.3333333333333333\n",
            "Recall joy Emotion\t:  0.02073365231259968\n",
            "F1-score joy Emotion\t:  0.03903903903903904\n"
          ],
          "name": "stdout"
        }
      ]
    },
    {
      "cell_type": "markdown",
      "metadata": {
        "colab_type": "text",
        "id": "jDNp5xgX9ttE"
      },
      "source": [
        "### Love Emotion Clasification"
      ]
    },
    {
      "cell_type": "code",
      "metadata": {
        "colab_type": "code",
        "outputId": "3dc8a713-493e-4134-e5e5-f956e8f6adb9",
        "id": "J0Nfiz7R9ttG",
        "colab": {
          "base_uri": "https://localhost:8080/",
          "height": 173
        }
      },
      "source": [
        "clf_nb_love= MultinomialNB()\n",
        "clf_nb_love.fit(X_train, y_train_love)\n",
        "\n",
        "pred_nb_love = clf_nb_love.predict(X_test)\n",
        "print(\"Accuracy Anger Emotion\\t: \",accuracy_score(y_test_love, pred_nb_love))\n",
        "print(\"Precision Anger Emotion\\t: \",precision_score(y_test_love, pred_nb_love))\n",
        "print(\"Recall Anger Emotion\\t: \",recall_score(y_test_love, pred_nb_love))\n",
        "print(\"F1-score Anger Emotion\\t: \",f1_score(y_test_love, pred_nb_love))"
      ],
      "execution_count": 0,
      "outputs": [
        {
          "output_type": "stream",
          "text": [
            "Accuracy Anger Emotion\t:  0.8970760233918129\n",
            "Precision Anger Emotion\t:  0.0\n",
            "Recall Anger Emotion\t:  0.0\n",
            "F1-score Anger Emotion\t:  0.0\n"
          ],
          "name": "stdout"
        },
        {
          "output_type": "stream",
          "text": [
            "/usr/local/lib/python3.6/dist-packages/sklearn/metrics/classification.py:1437: UndefinedMetricWarning: Precision is ill-defined and being set to 0.0 due to no predicted samples.\n",
            "  'precision', 'predicted', average, warn_for)\n",
            "/usr/local/lib/python3.6/dist-packages/sklearn/metrics/classification.py:1437: UndefinedMetricWarning: F-score is ill-defined and being set to 0.0 due to no predicted samples.\n",
            "  'precision', 'predicted', average, warn_for)\n"
          ],
          "name": "stderr"
        }
      ]
    },
    {
      "cell_type": "markdown",
      "metadata": {
        "colab_type": "text",
        "id": "YQyIoOx99utE"
      },
      "source": [
        "### Optimism Emotion Clasification"
      ]
    },
    {
      "cell_type": "code",
      "metadata": {
        "colab_type": "code",
        "outputId": "373835f8-87e6-4771-cca4-ea0cc9f0c99c",
        "id": "YrnyO3wy9utG",
        "colab": {
          "base_uri": "https://localhost:8080/",
          "height": 85
        }
      },
      "source": [
        "clf_nb_optimism = MultinomialNB()\n",
        "clf_nb_optimism.fit(X_train, y_train_optimism)\n",
        "\n",
        "pred_nb_optimism = clf_nb_optimism.predict(X_test)\n",
        "print(\"Accuracy optimism Emotion\\t: \",accuracy_score(y_test_optimism, pred_nb_optimism))\n",
        "print(\"Precision optimism Emotion\\t: \",precision_score(y_test_optimism, pred_nb_optimism))\n",
        "print(\"Recall optimism Emotion\\t\\t: \",recall_score(y_test_optimism, pred_nb_optimism))\n",
        "print(\"F1-score optimism Emotion\\t: \",f1_score(y_test_optimism, pred_nb_optimism))"
      ],
      "execution_count": 0,
      "outputs": [
        {
          "output_type": "stream",
          "text": [
            "Accuracy optimism Emotion\t:  0.7\n",
            "Precision optimism Emotion\t:  0.0\n",
            "Recall optimism Emotion\t\t:  0.0\n",
            "F1-score optimism Emotion\t:  0.0\n"
          ],
          "name": "stdout"
        }
      ]
    },
    {
      "cell_type": "markdown",
      "metadata": {
        "colab_type": "text",
        "id": "bMXm7RUs9vWL"
      },
      "source": [
        "### Pessimism Emotion Clasification"
      ]
    },
    {
      "cell_type": "code",
      "metadata": {
        "colab_type": "code",
        "outputId": "6a7b1e30-5025-4d5f-e5d8-d20935b68762",
        "id": "kXoDh1eO9vWN",
        "colab": {
          "base_uri": "https://localhost:8080/",
          "height": 173
        }
      },
      "source": [
        "clf_nb_pessimism = MultinomialNB()\n",
        "clf_nb_pessimism.fit(X_train, y_train_pessimism)\n",
        "\n",
        "pred_nb_pessimism = clf_nb_pessimism.predict(X_test)\n",
        "print(\"Accuracy pessimism Emotion\\t: \",accuracy_score(y_test_pessimism, pred_nb_pessimism))\n",
        "print(\"Precision pessimism Emotion\\t: \",precision_score(y_test_pessimism, pred_nb_pessimism))\n",
        "print(\"Recall pessimism Emotion\\t: \",recall_score(y_test_pessimism, pred_nb_pessimism))\n",
        "print(\"F1-score pessimism Emotion\\t: \",f1_score(y_test_pessimism, pred_nb_pessimism))"
      ],
      "execution_count": 0,
      "outputs": [
        {
          "output_type": "stream",
          "text": [
            "Accuracy pessimism Emotion\t:  0.8842105263157894\n",
            "Precision pessimism Emotion\t:  0.0\n",
            "Recall pessimism Emotion\t:  0.0\n",
            "F1-score pessimism Emotion\t:  0.0\n"
          ],
          "name": "stdout"
        },
        {
          "output_type": "stream",
          "text": [
            "/usr/local/lib/python3.6/dist-packages/sklearn/metrics/classification.py:1437: UndefinedMetricWarning: Precision is ill-defined and being set to 0.0 due to no predicted samples.\n",
            "  'precision', 'predicted', average, warn_for)\n",
            "/usr/local/lib/python3.6/dist-packages/sklearn/metrics/classification.py:1437: UndefinedMetricWarning: F-score is ill-defined and being set to 0.0 due to no predicted samples.\n",
            "  'precision', 'predicted', average, warn_for)\n"
          ],
          "name": "stderr"
        }
      ]
    },
    {
      "cell_type": "markdown",
      "metadata": {
        "colab_type": "text",
        "id": "Ilg1dkvy9wBR"
      },
      "source": [
        "### Sadness Emotion Clasification"
      ]
    },
    {
      "cell_type": "code",
      "metadata": {
        "colab_type": "code",
        "outputId": "7dc8d043-1fc2-4a54-e804-b54453c22b34",
        "id": "uYyPqH_y9wBW",
        "colab": {
          "base_uri": "https://localhost:8080/",
          "height": 85
        }
      },
      "source": [
        "clf_nb_sadness = MultinomialNB()\n",
        "clf_nb_sadness.fit(X_train, y_train_sadness)\n",
        "\n",
        "pred_nb_sadness = clf_nb_sadness.predict(X_test)\n",
        "print(\"Accuracy Anger Emotion\\t: \",accuracy_score(y_test_sadness, pred_nb_sadness))\n",
        "print(\"Precision Anger Emotion\\t: \",precision_score(y_test_sadness, pred_nb_sadness))\n",
        "print(\"Recall Anger Emotion\\t: \",recall_score(y_test_sadness, pred_nb_sadness))\n",
        "print(\"F1-score Anger Emotion\\t: \",f1_score(y_test_sadness, pred_nb_sadness))"
      ],
      "execution_count": 0,
      "outputs": [
        {
          "output_type": "stream",
          "text": [
            "Accuracy Anger Emotion\t:  0.7134502923976608\n",
            "Precision Anger Emotion\t:  0.25\n",
            "Recall Anger Emotion\t:  0.00411522633744856\n",
            "F1-score Anger Emotion\t:  0.008097165991902836\n"
          ],
          "name": "stdout"
        }
      ]
    },
    {
      "cell_type": "markdown",
      "metadata": {
        "colab_type": "text",
        "id": "nVvZrVHU9wrK"
      },
      "source": [
        "### Surprise Emotion Clasification"
      ]
    },
    {
      "cell_type": "code",
      "metadata": {
        "colab_type": "code",
        "outputId": "1356dbaa-fe26-4b7c-d499-f4698615e321",
        "id": "Lu7Ye1q69wrM",
        "colab": {
          "base_uri": "https://localhost:8080/",
          "height": 173
        }
      },
      "source": [
        "clf_nb_surprise = MultinomialNB()\n",
        "clf_nb_surprise.fit(X_train, y_train_surprise)\n",
        "\n",
        "pred_nb_surprise = clf_nb_surprise.predict(X_test)\n",
        "print(\"Accuracy Anger Emotion\\t: \",accuracy_score(y_test_surprise, pred_nb_surprise))\n",
        "print(\"Precision Anger Emotion\\t: \",precision_score(y_test_surprise, pred_nb_surprise))\n",
        "print(\"Recall Anger Emotion\\t: \",recall_score(y_test_surprise, pred_nb_surprise))\n",
        "print(\"F1-score Anger Emotion\\t: \",f1_score(y_test_surprise, pred_nb_surprise))"
      ],
      "execution_count": 0,
      "outputs": [
        {
          "output_type": "stream",
          "text": [
            "Accuracy Anger Emotion\t:  0.9450292397660819\n",
            "Precision Anger Emotion\t:  0.0\n",
            "Recall Anger Emotion\t:  0.0\n",
            "F1-score Anger Emotion\t:  0.0\n"
          ],
          "name": "stdout"
        },
        {
          "output_type": "stream",
          "text": [
            "/usr/local/lib/python3.6/dist-packages/sklearn/metrics/classification.py:1437: UndefinedMetricWarning: Precision is ill-defined and being set to 0.0 due to no predicted samples.\n",
            "  'precision', 'predicted', average, warn_for)\n",
            "/usr/local/lib/python3.6/dist-packages/sklearn/metrics/classification.py:1437: UndefinedMetricWarning: F-score is ill-defined and being set to 0.0 due to no predicted samples.\n",
            "  'precision', 'predicted', average, warn_for)\n"
          ],
          "name": "stderr"
        }
      ]
    },
    {
      "cell_type": "markdown",
      "metadata": {
        "colab_type": "text",
        "id": "mZmfJ0bw9ysi"
      },
      "source": [
        "### Trust Emotion Clasification"
      ]
    },
    {
      "cell_type": "code",
      "metadata": {
        "colab_type": "code",
        "outputId": "3eea9b8d-250d-4d0e-a60f-70d125e38c6f",
        "id": "rsZK71Ut9ysk",
        "colab": {
          "base_uri": "https://localhost:8080/",
          "height": 173
        }
      },
      "source": [
        "clf_nb_trust = MultinomialNB()\n",
        "clf_nb_trust.fit(X_train, y_train_trust)\n",
        "\n",
        "pred_nb_trust = clf_nb_trust.predict(X_test)\n",
        "print(\"Accuracy Anger Emotion\\t: \",accuracy_score(y_test_trust, pred_nb_trust))\n",
        "print(\"Precision Anger Emotion\\t: \",precision_score(y_test_trust, pred_nb_trust))\n",
        "print(\"Recall Anger Emotion\\t: \",recall_score(y_test_trust, pred_nb_trust))\n",
        "print(\"F1-score Anger Emotion\\t: \",f1_score(y_test_trust, pred_nb_trust))"
      ],
      "execution_count": 0,
      "outputs": [
        {
          "output_type": "stream",
          "text": [
            "Accuracy Anger Emotion\t:  0.9543859649122807\n",
            "Precision Anger Emotion\t:  0.0\n",
            "Recall Anger Emotion\t:  0.0\n",
            "F1-score Anger Emotion\t:  0.0\n"
          ],
          "name": "stdout"
        },
        {
          "output_type": "stream",
          "text": [
            "/usr/local/lib/python3.6/dist-packages/sklearn/metrics/classification.py:1437: UndefinedMetricWarning: Precision is ill-defined and being set to 0.0 due to no predicted samples.\n",
            "  'precision', 'predicted', average, warn_for)\n",
            "/usr/local/lib/python3.6/dist-packages/sklearn/metrics/classification.py:1437: UndefinedMetricWarning: F-score is ill-defined and being set to 0.0 due to no predicted samples.\n",
            "  'precision', 'predicted', average, warn_for)\n"
          ],
          "name": "stderr"
        }
      ]
    },
    {
      "cell_type": "code",
      "metadata": {
        "id": "ULef3cKuEMmq",
        "colab_type": "code",
        "colab": {}
      },
      "source": [
        ""
      ],
      "execution_count": 0,
      "outputs": []
    }
  ]
}