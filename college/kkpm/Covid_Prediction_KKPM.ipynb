{
  "nbformat": 4,
  "nbformat_minor": 0,
  "metadata": {
    "colab": {
      "name": "Covid Prediction - KKPM.ipynb",
      "provenance": [],
      "collapsed_sections": [],
      "toc_visible": true
    },
    "kernelspec": {
      "name": "python3",
      "display_name": "Python 3"
    }
  },
  "cells": [
    {
      "cell_type": "markdown",
      "metadata": {
        "id": "IwZF6PpLHedb",
        "colab_type": "text"
      },
      "source": [
        "# **1. Initial Data**"
      ]
    },
    {
      "cell_type": "code",
      "metadata": {
        "id": "XgwuWgQBMdZx",
        "colab_type": "code",
        "colab": {}
      },
      "source": [
        "import pandas as pd\n",
        "import matplotlib.pyplot as plt\n",
        "import numpy as np"
      ],
      "execution_count": 0,
      "outputs": []
    },
    {
      "cell_type": "code",
      "metadata": {
        "id": "ZieOEND-G0fr",
        "colab_type": "code",
        "outputId": "9ac25997-f6c3-494d-cc5b-480dd4010cc0",
        "colab": {
          "base_uri": "https://localhost:8080/",
          "height": 1000
        }
      },
      "source": [
        "df = pd.read_csv('/content/drive/My Drive/KKPM/covid_id_confirmed.csv')\n",
        "df"
      ],
      "execution_count": 2,
      "outputs": [
        {
          "output_type": "execute_result",
          "data": {
            "text/html": [
              "<div>\n",
              "<style scoped>\n",
              "    .dataframe tbody tr th:only-of-type {\n",
              "        vertical-align: middle;\n",
              "    }\n",
              "\n",
              "    .dataframe tbody tr th {\n",
              "        vertical-align: top;\n",
              "    }\n",
              "\n",
              "    .dataframe thead th {\n",
              "        text-align: right;\n",
              "    }\n",
              "</style>\n",
              "<table border=\"1\" class=\"dataframe\">\n",
              "  <thead>\n",
              "    <tr style=\"text-align: right;\">\n",
              "      <th></th>\n",
              "      <th>date</th>\n",
              "      <th>Positif</th>\n",
              "    </tr>\n",
              "  </thead>\n",
              "  <tbody>\n",
              "    <tr>\n",
              "      <th>0</th>\n",
              "      <td>2020-3-16</td>\n",
              "      <td>134</td>\n",
              "    </tr>\n",
              "    <tr>\n",
              "      <th>1</th>\n",
              "      <td>2020-3-17</td>\n",
              "      <td>172</td>\n",
              "    </tr>\n",
              "    <tr>\n",
              "      <th>2</th>\n",
              "      <td>2020-3-18</td>\n",
              "      <td>227</td>\n",
              "    </tr>\n",
              "    <tr>\n",
              "      <th>3</th>\n",
              "      <td>2020-3-19</td>\n",
              "      <td>311</td>\n",
              "    </tr>\n",
              "    <tr>\n",
              "      <th>4</th>\n",
              "      <td>2020-3-20</td>\n",
              "      <td>369</td>\n",
              "    </tr>\n",
              "    <tr>\n",
              "      <th>5</th>\n",
              "      <td>2020-3-21</td>\n",
              "      <td>450</td>\n",
              "    </tr>\n",
              "    <tr>\n",
              "      <th>6</th>\n",
              "      <td>2020-3-22</td>\n",
              "      <td>514</td>\n",
              "    </tr>\n",
              "    <tr>\n",
              "      <th>7</th>\n",
              "      <td>2020-3-23</td>\n",
              "      <td>579</td>\n",
              "    </tr>\n",
              "    <tr>\n",
              "      <th>8</th>\n",
              "      <td>2020-3-24</td>\n",
              "      <td>686</td>\n",
              "    </tr>\n",
              "    <tr>\n",
              "      <th>9</th>\n",
              "      <td>2020-3-25</td>\n",
              "      <td>790</td>\n",
              "    </tr>\n",
              "    <tr>\n",
              "      <th>10</th>\n",
              "      <td>2020-3-26</td>\n",
              "      <td>893</td>\n",
              "    </tr>\n",
              "    <tr>\n",
              "      <th>11</th>\n",
              "      <td>2020-3-27</td>\n",
              "      <td>1046</td>\n",
              "    </tr>\n",
              "    <tr>\n",
              "      <th>12</th>\n",
              "      <td>2020-3-28</td>\n",
              "      <td>1155</td>\n",
              "    </tr>\n",
              "    <tr>\n",
              "      <th>13</th>\n",
              "      <td>2020-3-29</td>\n",
              "      <td>1285</td>\n",
              "    </tr>\n",
              "    <tr>\n",
              "      <th>14</th>\n",
              "      <td>2020-3-30</td>\n",
              "      <td>1414</td>\n",
              "    </tr>\n",
              "    <tr>\n",
              "      <th>15</th>\n",
              "      <td>2020-3-31</td>\n",
              "      <td>1528</td>\n",
              "    </tr>\n",
              "    <tr>\n",
              "      <th>16</th>\n",
              "      <td>2020-4-1</td>\n",
              "      <td>1677</td>\n",
              "    </tr>\n",
              "    <tr>\n",
              "      <th>17</th>\n",
              "      <td>2020-4-2</td>\n",
              "      <td>1790</td>\n",
              "    </tr>\n",
              "    <tr>\n",
              "      <th>18</th>\n",
              "      <td>2020-4-3</td>\n",
              "      <td>1986</td>\n",
              "    </tr>\n",
              "    <tr>\n",
              "      <th>19</th>\n",
              "      <td>2020-4-4</td>\n",
              "      <td>2092</td>\n",
              "    </tr>\n",
              "    <tr>\n",
              "      <th>20</th>\n",
              "      <td>2020-4-5</td>\n",
              "      <td>2273</td>\n",
              "    </tr>\n",
              "    <tr>\n",
              "      <th>21</th>\n",
              "      <td>2020-4-6</td>\n",
              "      <td>2491</td>\n",
              "    </tr>\n",
              "    <tr>\n",
              "      <th>22</th>\n",
              "      <td>2020-4-7</td>\n",
              "      <td>2738</td>\n",
              "    </tr>\n",
              "    <tr>\n",
              "      <th>23</th>\n",
              "      <td>2020-4-8</td>\n",
              "      <td>2956</td>\n",
              "    </tr>\n",
              "    <tr>\n",
              "      <th>24</th>\n",
              "      <td>2020-4-9</td>\n",
              "      <td>3293</td>\n",
              "    </tr>\n",
              "    <tr>\n",
              "      <th>25</th>\n",
              "      <td>2020-4-10</td>\n",
              "      <td>3512</td>\n",
              "    </tr>\n",
              "    <tr>\n",
              "      <th>26</th>\n",
              "      <td>2020-4-11</td>\n",
              "      <td>3842</td>\n",
              "    </tr>\n",
              "    <tr>\n",
              "      <th>27</th>\n",
              "      <td>2020-4-12</td>\n",
              "      <td>4241</td>\n",
              "    </tr>\n",
              "    <tr>\n",
              "      <th>28</th>\n",
              "      <td>2020-4-13</td>\n",
              "      <td>4557</td>\n",
              "    </tr>\n",
              "    <tr>\n",
              "      <th>29</th>\n",
              "      <td>2020-4-14</td>\n",
              "      <td>4839</td>\n",
              "    </tr>\n",
              "    <tr>\n",
              "      <th>30</th>\n",
              "      <td>2020-4-15</td>\n",
              "      <td>5136</td>\n",
              "    </tr>\n",
              "    <tr>\n",
              "      <th>31</th>\n",
              "      <td>2020-4-16</td>\n",
              "      <td>5516</td>\n",
              "    </tr>\n",
              "  </tbody>\n",
              "</table>\n",
              "</div>"
            ],
            "text/plain": [
              "         date  Positif\n",
              "0   2020-3-16      134\n",
              "1   2020-3-17      172\n",
              "2   2020-3-18      227\n",
              "3   2020-3-19      311\n",
              "4   2020-3-20      369\n",
              "5   2020-3-21      450\n",
              "6   2020-3-22      514\n",
              "7   2020-3-23      579\n",
              "8   2020-3-24      686\n",
              "9   2020-3-25      790\n",
              "10  2020-3-26      893\n",
              "11  2020-3-27     1046\n",
              "12  2020-3-28     1155\n",
              "13  2020-3-29     1285\n",
              "14  2020-3-30     1414\n",
              "15  2020-3-31     1528\n",
              "16   2020-4-1     1677\n",
              "17   2020-4-2     1790\n",
              "18   2020-4-3     1986\n",
              "19   2020-4-4     2092\n",
              "20   2020-4-5     2273\n",
              "21   2020-4-6     2491\n",
              "22   2020-4-7     2738\n",
              "23   2020-4-8     2956\n",
              "24   2020-4-9     3293\n",
              "25  2020-4-10     3512\n",
              "26  2020-4-11     3842\n",
              "27  2020-4-12     4241\n",
              "28  2020-4-13     4557\n",
              "29  2020-4-14     4839\n",
              "30  2020-4-15     5136\n",
              "31  2020-4-16     5516"
            ]
          },
          "metadata": {
            "tags": []
          },
          "execution_count": 2
        }
      ]
    },
    {
      "cell_type": "markdown",
      "metadata": {
        "id": "bbFSN7buwwZz",
        "colab_type": "text"
      },
      "source": [
        "# **2. Data Preprocessing**"
      ]
    },
    {
      "cell_type": "code",
      "metadata": {
        "id": "EcO0P6MgOl2m",
        "colab_type": "code",
        "colab": {}
      },
      "source": [
        "df.set_index('date', inplace=True)"
      ],
      "execution_count": 0,
      "outputs": []
    },
    {
      "cell_type": "code",
      "metadata": {
        "id": "krRQZ7IPuiHI",
        "colab_type": "code",
        "colab": {}
      },
      "source": [
        "def list_min_1(list):\n",
        "  min_1 = [1]\n",
        "  for i in range(len(list)-1):\n",
        "    min_1.append(list[i])\n",
        "  return min_1"
      ],
      "execution_count": 0,
      "outputs": []
    },
    {
      "cell_type": "code",
      "metadata": {
        "id": "QVJLFpBqucd0",
        "colab_type": "code",
        "outputId": "cf465186-da1f-487b-8442-f617f63091ac",
        "colab": {
          "base_uri": "https://localhost:8080/",
          "height": 390
        }
      },
      "source": [
        "#Menambah kolom Hari (Berisikan hari ke 1, 2, dst)\n",
        "new_col = np.arange(1, df.shape[0]+1)\n",
        "df.insert(loc=0, column='Hari', value=new_col)\n",
        "\n",
        "#Menambah kolom Pos H-1 (Berisikan jumlah positif pada H-1)\n",
        "h_min_1 = list_min_1(df['Positif'].values.tolist())\n",
        "df.insert(loc=1, column='Pos H-1', value=h_min_1)\n",
        "\n",
        "#Menambah kolom Peningkatan (Berisikan jumlah penigkatan dari hari sebelumnya)\n",
        "df[\"Peningkatan\"] = df[\"Positif\"].diff()\n",
        "df = df.fillna(1)\n",
        "df.head(10)"
      ],
      "execution_count": 5,
      "outputs": [
        {
          "output_type": "execute_result",
          "data": {
            "text/html": [
              "<div>\n",
              "<style scoped>\n",
              "    .dataframe tbody tr th:only-of-type {\n",
              "        vertical-align: middle;\n",
              "    }\n",
              "\n",
              "    .dataframe tbody tr th {\n",
              "        vertical-align: top;\n",
              "    }\n",
              "\n",
              "    .dataframe thead th {\n",
              "        text-align: right;\n",
              "    }\n",
              "</style>\n",
              "<table border=\"1\" class=\"dataframe\">\n",
              "  <thead>\n",
              "    <tr style=\"text-align: right;\">\n",
              "      <th></th>\n",
              "      <th>Hari</th>\n",
              "      <th>Pos H-1</th>\n",
              "      <th>Positif</th>\n",
              "      <th>Peningkatan</th>\n",
              "    </tr>\n",
              "    <tr>\n",
              "      <th>date</th>\n",
              "      <th></th>\n",
              "      <th></th>\n",
              "      <th></th>\n",
              "      <th></th>\n",
              "    </tr>\n",
              "  </thead>\n",
              "  <tbody>\n",
              "    <tr>\n",
              "      <th>2020-3-16</th>\n",
              "      <td>1</td>\n",
              "      <td>1</td>\n",
              "      <td>134</td>\n",
              "      <td>1.0</td>\n",
              "    </tr>\n",
              "    <tr>\n",
              "      <th>2020-3-17</th>\n",
              "      <td>2</td>\n",
              "      <td>134</td>\n",
              "      <td>172</td>\n",
              "      <td>38.0</td>\n",
              "    </tr>\n",
              "    <tr>\n",
              "      <th>2020-3-18</th>\n",
              "      <td>3</td>\n",
              "      <td>172</td>\n",
              "      <td>227</td>\n",
              "      <td>55.0</td>\n",
              "    </tr>\n",
              "    <tr>\n",
              "      <th>2020-3-19</th>\n",
              "      <td>4</td>\n",
              "      <td>227</td>\n",
              "      <td>311</td>\n",
              "      <td>84.0</td>\n",
              "    </tr>\n",
              "    <tr>\n",
              "      <th>2020-3-20</th>\n",
              "      <td>5</td>\n",
              "      <td>311</td>\n",
              "      <td>369</td>\n",
              "      <td>58.0</td>\n",
              "    </tr>\n",
              "    <tr>\n",
              "      <th>2020-3-21</th>\n",
              "      <td>6</td>\n",
              "      <td>369</td>\n",
              "      <td>450</td>\n",
              "      <td>81.0</td>\n",
              "    </tr>\n",
              "    <tr>\n",
              "      <th>2020-3-22</th>\n",
              "      <td>7</td>\n",
              "      <td>450</td>\n",
              "      <td>514</td>\n",
              "      <td>64.0</td>\n",
              "    </tr>\n",
              "    <tr>\n",
              "      <th>2020-3-23</th>\n",
              "      <td>8</td>\n",
              "      <td>514</td>\n",
              "      <td>579</td>\n",
              "      <td>65.0</td>\n",
              "    </tr>\n",
              "    <tr>\n",
              "      <th>2020-3-24</th>\n",
              "      <td>9</td>\n",
              "      <td>579</td>\n",
              "      <td>686</td>\n",
              "      <td>107.0</td>\n",
              "    </tr>\n",
              "    <tr>\n",
              "      <th>2020-3-25</th>\n",
              "      <td>10</td>\n",
              "      <td>686</td>\n",
              "      <td>790</td>\n",
              "      <td>104.0</td>\n",
              "    </tr>\n",
              "  </tbody>\n",
              "</table>\n",
              "</div>"
            ],
            "text/plain": [
              "           Hari  Pos H-1  Positif  Peningkatan\n",
              "date                                          \n",
              "2020-3-16     1        1      134          1.0\n",
              "2020-3-17     2      134      172         38.0\n",
              "2020-3-18     3      172      227         55.0\n",
              "2020-3-19     4      227      311         84.0\n",
              "2020-3-20     5      311      369         58.0\n",
              "2020-3-21     6      369      450         81.0\n",
              "2020-3-22     7      450      514         64.0\n",
              "2020-3-23     8      514      579         65.0\n",
              "2020-3-24     9      579      686        107.0\n",
              "2020-3-25    10      686      790        104.0"
            ]
          },
          "metadata": {
            "tags": []
          },
          "execution_count": 5
        }
      ]
    },
    {
      "cell_type": "markdown",
      "metadata": {
        "id": "N4C8OiPLKkqU",
        "colab_type": "text"
      },
      "source": [
        "# **3. Data Understanding**"
      ]
    },
    {
      "cell_type": "markdown",
      "metadata": {
        "id": "ho0no-M2vB8h",
        "colab_type": "text"
      },
      "source": [
        "## Correlasi Data"
      ]
    },
    {
      "cell_type": "code",
      "metadata": {
        "id": "LGBT8xDhSnjR",
        "colab_type": "code",
        "outputId": "f39ed53b-7ae3-4a2e-ab16-6b16d5617a88",
        "colab": {
          "base_uri": "https://localhost:8080/",
          "height": 68
        }
      },
      "source": [
        "print(\"Corr Hari and Positif\\t\\t:\", df['Hari'].corr(df['Positif']))\n",
        "print(\"Corr Hari and Peningkatan\\t:\", df['Hari'].corr(df['Peningkatan']))\n",
        "print(\"Corr Positif hari ini dan\\t:\", df['Pos H-1'].corr(df['Positif']))"
      ],
      "execution_count": 6,
      "outputs": [
        {
          "output_type": "stream",
          "text": [
            "Corr Hari and Positif\t\t: 0.965829733227327\n",
            "Corr Hari and Peningkatan\t: 0.9197812611482625\n",
            "Corr Positif hari ini dan\t: 0.9996671105573532\n"
          ],
          "name": "stdout"
        }
      ]
    },
    {
      "cell_type": "markdown",
      "metadata": {
        "id": "4FROL_y5vGbP",
        "colab_type": "text"
      },
      "source": [
        "## Ploting Data"
      ]
    },
    {
      "cell_type": "code",
      "metadata": {
        "id": "2qFAqBT7TMPr",
        "colab_type": "code",
        "outputId": "90c0a487-aad7-4ef0-b993-4ae0bc4c814f",
        "colab": {
          "base_uri": "https://localhost:8080/",
          "height": 458
        }
      },
      "source": [
        "df['Positif'].plot(kind='line', stacked=False, figsize=(12, 7))\n",
        "plt.ylabel('Total Perhari')\n",
        "plt.title('Data Total Kasus Positif Perhari')\n",
        "plt.show()"
      ],
      "execution_count": 7,
      "outputs": [
        {
          "output_type": "display_data",
          "data": {
            "image/png": "[encoded data removed]",
            "text/plain": [
              "<Figure size 864x504 with 1 Axes>"
            ]
          },
          "metadata": {
            "tags": [],
            "needs_background": "light"
          }
        }
      ]
    },
    {
      "cell_type": "code",
      "metadata": {
        "id": "rGmuSOlOPdKq",
        "colab_type": "code",
        "outputId": "51278b0f-d734-405b-89d8-66d8f5835a36",
        "colab": {
          "base_uri": "https://localhost:8080/",
          "height": 458
        }
      },
      "source": [
        "df['Peningkatan'].plot(kind='line', stacked=False, figsize=(12, 7))\n",
        "plt.ylabel('Jum Peningkatan Perhari')\n",
        "plt.title('Data Peningkatan Kasus Positif Perhari')\n",
        "plt.show()"
      ],
      "execution_count": 8,
      "outputs": [
        {
          "output_type": "display_data",
          "data": {
            "image/png": "[encoded data removed]",
            "text/plain": [
              "<Figure size 864x504 with 1 Axes>"
            ]
          },
          "metadata": {
            "tags": [],
            "needs_background": "light"
          }
        }
      ]
    },
    {
      "cell_type": "code",
      "metadata": {
        "id": "kPw_sGOGzBKe",
        "colab_type": "code",
        "outputId": "27d51c61-4f46-47a8-9ca1-416017d6c5cb",
        "colab": {
          "base_uri": "https://localhost:8080/",
          "height": 458
        }
      },
      "source": [
        "df.plot(x = \"Pos H-1\", y = 'Positif', kind='line', stacked=False, figsize=(12, 7))\n",
        "plt.ylabel('Total Positif')\n",
        "plt.xlabel('Positif H-1')\n",
        "plt.title('Data Positif Perhari terhadap Positif H-1')\n",
        "plt.show()"
      ],
      "execution_count": 9,
      "outputs": [
        {
          "output_type": "display_data",
          "data": {
            "image/png": "[encoded data removed]",
            "text/plain": [
              "<Figure size 864x504 with 1 Axes>"
            ]
          },
          "metadata": {
            "tags": [],
            "needs_background": "light"
          }
        }
      ]
    },
    {
      "cell_type": "markdown",
      "metadata": {
        "id": "YB5nA0tFvQq9",
        "colab_type": "text"
      },
      "source": [
        "## Describe Data"
      ]
    },
    {
      "cell_type": "code",
      "metadata": {
        "id": "rDIpV4awY93y",
        "colab_type": "code",
        "outputId": "ca744dff-1771-4485-9245-797a984072c8",
        "colab": {
          "base_uri": "https://localhost:8080/",
          "height": 297
        }
      },
      "source": [
        "df[['Positif','Peningkatan']].describe()"
      ],
      "execution_count": 10,
      "outputs": [
        {
          "output_type": "execute_result",
          "data": {
            "text/html": [
              "<div>\n",
              "<style scoped>\n",
              "    .dataframe tbody tr th:only-of-type {\n",
              "        vertical-align: middle;\n",
              "    }\n",
              "\n",
              "    .dataframe tbody tr th {\n",
              "        vertical-align: top;\n",
              "    }\n",
              "\n",
              "    .dataframe thead th {\n",
              "        text-align: right;\n",
              "    }\n",
              "</style>\n",
              "<table border=\"1\" class=\"dataframe\">\n",
              "  <thead>\n",
              "    <tr style=\"text-align: right;\">\n",
              "      <th></th>\n",
              "      <th>Positif</th>\n",
              "      <th>Peningkatan</th>\n",
              "    </tr>\n",
              "  </thead>\n",
              "  <tbody>\n",
              "    <tr>\n",
              "      <th>count</th>\n",
              "      <td>32.000000</td>\n",
              "      <td>32.000000</td>\n",
              "    </tr>\n",
              "    <tr>\n",
              "      <th>mean</th>\n",
              "      <td>2015.375000</td>\n",
              "      <td>168.218750</td>\n",
              "    </tr>\n",
              "    <tr>\n",
              "      <th>std</th>\n",
              "      <td>1609.640849</td>\n",
              "      <td>106.863112</td>\n",
              "    </tr>\n",
              "    <tr>\n",
              "      <th>min</th>\n",
              "      <td>134.000000</td>\n",
              "      <td>1.000000</td>\n",
              "    </tr>\n",
              "    <tr>\n",
              "      <th>25%</th>\n",
              "      <td>659.250000</td>\n",
              "      <td>98.250000</td>\n",
              "    </tr>\n",
              "    <tr>\n",
              "      <th>50%</th>\n",
              "      <td>1602.500000</td>\n",
              "      <td>129.500000</td>\n",
              "    </tr>\n",
              "    <tr>\n",
              "      <th>75%</th>\n",
              "      <td>3040.250000</td>\n",
              "      <td>226.000000</td>\n",
              "    </tr>\n",
              "    <tr>\n",
              "      <th>max</th>\n",
              "      <td>5516.000000</td>\n",
              "      <td>399.000000</td>\n",
              "    </tr>\n",
              "  </tbody>\n",
              "</table>\n",
              "</div>"
            ],
            "text/plain": [
              "           Positif  Peningkatan\n",
              "count    32.000000    32.000000\n",
              "mean   2015.375000   168.218750\n",
              "std    1609.640849   106.863112\n",
              "min     134.000000     1.000000\n",
              "25%     659.250000    98.250000\n",
              "50%    1602.500000   129.500000\n",
              "75%    3040.250000   226.000000\n",
              "max    5516.000000   399.000000"
            ]
          },
          "metadata": {
            "tags": []
          },
          "execution_count": 10
        }
      ]
    },
    {
      "cell_type": "code",
      "metadata": {
        "id": "LyCucHTCC_r2",
        "colab_type": "code",
        "colab": {}
      },
      "source": [
        "df_pos = df[['Hari','Positif']]\n",
        "df_pen = df[['Hari','Peningkatan']]\n",
        "df_h_1 = df[['Pos H-1','Positif']]"
      ],
      "execution_count": 0,
      "outputs": []
    },
    {
      "cell_type": "markdown",
      "metadata": {
        "id": "jEnXqDliKqTV",
        "colab_type": "text"
      },
      "source": [
        "# **4. Pemodelan**"
      ]
    },
    {
      "cell_type": "markdown",
      "metadata": {
        "id": "Rd_f96Njbowg",
        "colab_type": "text"
      },
      "source": [
        "## **Regresi Linear**\n",
        "\n",
        "![liner](https://i.ibb.co/dtjHq3G/Linear-aljabar.jpg)\n",
        "\n",
        "Rumus utama pada Regresi Linier Sederhana :\n",
        "\n",
        "> $y = ax + b$\n",
        "\n",
        "dimana :\n",
        "*   $y$ = Variabel dependen\n",
        "*   $x$ = Variable independen\n",
        "*   $a$ = Koefisien / slope (slope adalah tingkat kemiringan garis)\n",
        "*   $b$ = Konstanta / intercept (intercept adalah jarak titik y pada garis dari titik 0) \n"
      ]
    },
    {
      "cell_type": "code",
      "metadata": {
        "id": "N-7yurG30E8b",
        "colab_type": "code",
        "colab": {}
      },
      "source": [
        "def get_predict(x, a, b):\n",
        "  return (a * x) + b"
      ],
      "execution_count": 0,
      "outputs": []
    },
    {
      "cell_type": "markdown",
      "metadata": {
        "id": "un4Ysnh3gjaW",
        "colab_type": "text"
      },
      "source": [
        "Rumus Mencari Koefisien / Slope :\n",
        "> $ a = \\frac{n(\\Sigma xy) - (\\Sigma x)(\\Sigma y)} {n (\\Sigma x^2) - (\\Sigma x)^2}$\n"
      ]
    },
    {
      "cell_type": "markdown",
      "metadata": {
        "id": "DZFtVFukejE-",
        "colab_type": "text"
      },
      "source": [
        "Rumus Mencari Konstanta / intercept :\n",
        "> $ b = \\frac{(\\Sigma y)(\\Sigma x^2) - (\\Sigma x)(\\Sigma xy)} {n (\\Sigma x^2) - (\\Sigma x)^2}$\n",
        "\n"
      ]
    },
    {
      "cell_type": "code",
      "metadata": {
        "id": "z88p0lUgKuM8",
        "colab_type": "code",
        "colab": {}
      },
      "source": [
        "def get_slope_intercept(df, col_x, col_y):\n",
        "  n = df.shape[0]\n",
        "  sig_y = df[col_y].sum()\n",
        "  sig_x = df[col_x].sum()\n",
        "  sig_x2 = np.sum([i ** 2 for i in df[col_x].values.tolist()])\n",
        "  sig_x_2 = sig_x ** 2\n",
        "  sig_xy = np.sum([i[0] * i[1] for i in zip(df[col_x].values.tolist(), df[col_y].values.tolist())])\n",
        "\n",
        "  print('Jumlah Data\\t: ', n)\n",
        "  print('Sigma y\\t\\t: ', sig_y)\n",
        "  print('Sigma x\\t\\t: ', sig_x)\n",
        "  print('Sigma x^2\\t: ', sig_x2)\n",
        "  print('(Sigma x)^2\\t: ', sig_x_2)\n",
        "  print('Sigma xy\\t: ', sig_xy)\n",
        "\n",
        "  a = ((n * sig_xy) - (sig_x * sig_y))/(n*sig_x2-sig_x_2)\n",
        "  print('\\n\\nSlope\\t\\t: ', a)\n",
        "\n",
        "  b = ((sig_y * sig_x2) - (sig_x *  sig_xy))/(n*sig_x2-sig_x_2)\n",
        "  print('Intercept\\t: ', b)\n",
        "\n",
        "  return a, b"
      ],
      "execution_count": 0,
      "outputs": []
    },
    {
      "cell_type": "markdown",
      "metadata": {
        "id": "J5U_pGeZIttC",
        "colab_type": "text"
      },
      "source": [
        "## Evaluasi\n",
        "*Mean Squared Error* (MSE)\n",
        "\n",
        "> $ MSE = \\frac{1}{n} \\Sigma^n_{i=1} (y_i - y'_i)^2$\n"
      ]
    },
    {
      "cell_type": "code",
      "metadata": {
        "id": "IBYHM53Vrm6K",
        "colab_type": "code",
        "colab": {}
      },
      "source": [
        "def get_mse(actual, predict, n):\n",
        "  sigma_e_2 = 0\n",
        "  for i in range(n):\n",
        "    sigma_e_2 += (actual[i] - predict[i]) ** 2\n",
        "  mse = sigma_e_2/n\n",
        "  return mse"
      ],
      "execution_count": 0,
      "outputs": []
    },
    {
      "cell_type": "markdown",
      "metadata": {
        "id": "9PWu4dpFryRh",
        "colab_type": "text"
      },
      "source": [
        "*Mean Absolute Error* (MAE)\n",
        "> $ MAE = \\frac{1}{n} \\Sigma^n_{i=1} |{y_i - y'_i}|$\n"
      ]
    },
    {
      "cell_type": "code",
      "metadata": {
        "id": "u1G0eJ0Rr1MA",
        "colab_type": "code",
        "colab": {}
      },
      "source": [
        "def get_mae(actual, predict, n):\n",
        "  sigma_e_abs = 0\n",
        "  for i in range(n):\n",
        "    sigma_e_abs += abs(actual[i] - predict[i])\n",
        "  mae = sigma_e_abs/n\n",
        "  return mae"
      ],
      "execution_count": 0,
      "outputs": []
    },
    {
      "cell_type": "markdown",
      "metadata": {
        "id": "ofN8rGESr1q2",
        "colab_type": "text"
      },
      "source": [
        "*Mean absolute percentage error* (MAPE)\n",
        "> $ MAPE = \\frac{1}{n} \\Sigma^n_{i=1} \\frac{|{y_i - y'_i}|}{y_i}$"
      ]
    },
    {
      "cell_type": "code",
      "metadata": {
        "id": "fc1i5Jo5r4LZ",
        "colab_type": "code",
        "colab": {}
      },
      "source": [
        "def get_mape(actual, predict, n):\n",
        "  sigma_e_per = 0\n",
        "  for i in range(n):\n",
        "    sigma_e_per += (abs(actual[i] - predict[i]))/actual[i]\n",
        "  mape = sigma_e_per/n\n",
        "  return mape"
      ],
      "execution_count": 0,
      "outputs": []
    },
    {
      "cell_type": "markdown",
      "metadata": {
        "id": "610KlSPz9fIv",
        "colab_type": "text"
      },
      "source": [
        "## Prediksi Berdasarkan Total Perhari"
      ]
    },
    {
      "cell_type": "code",
      "metadata": {
        "id": "uf1H7D9iXqLz",
        "colab_type": "code",
        "outputId": "ef9b92d4-240f-4d59-9eaf-967121d64dd7",
        "colab": {
          "base_uri": "https://localhost:8080/",
          "height": 187
        }
      },
      "source": [
        "a, b = get_slope_intercept(df_pos, 'Hari', 'Positif')"
      ],
      "execution_count": 17,
      "outputs": [
        {
          "output_type": "stream",
          "text": [
            "Jumlah Data\t:  32\n",
            "Sigma y\t\t:  64492\n",
            "Sigma x\t\t:  528\n",
            "Sigma x^2\t:  11440\n",
            "(Sigma x)^2\t:  278784\n",
            "Sigma xy\t:  1516216\n",
            "\n",
            "\n",
            "Slope\t\t:  165.72507331378299\n",
            "Intercept\t:  -719.0887096774194\n"
          ],
          "name": "stdout"
        }
      ]
    },
    {
      "cell_type": "code",
      "metadata": {
        "id": "81lWor2t0Sl7",
        "colab_type": "code",
        "outputId": "c1aaef01-bd68-4bd7-df7b-12c3efa649f4",
        "colab": {
          "base_uri": "https://localhost:8080/",
          "height": 390
        }
      },
      "source": [
        "Pred_Pos = [round(get_predict(i, a, b)) for i in np.arange(1, df_pos.shape[0]+1)]\n",
        "df_pos.insert(loc= 1, column='Pred_Pos', value=Pred_Pos)\n",
        "df_pos.tail(10)"
      ],
      "execution_count": 18,
      "outputs": [
        {
          "output_type": "execute_result",
          "data": {
            "text/html": [
              "<div>\n",
              "<style scoped>\n",
              "    .dataframe tbody tr th:only-of-type {\n",
              "        vertical-align: middle;\n",
              "    }\n",
              "\n",
              "    .dataframe tbody tr th {\n",
              "        vertical-align: top;\n",
              "    }\n",
              "\n",
              "    .dataframe thead th {\n",
              "        text-align: right;\n",
              "    }\n",
              "</style>\n",
              "<table border=\"1\" class=\"dataframe\">\n",
              "  <thead>\n",
              "    <tr style=\"text-align: right;\">\n",
              "      <th></th>\n",
              "      <th>Hari</th>\n",
              "      <th>Pred_Pos</th>\n",
              "      <th>Positif</th>\n",
              "    </tr>\n",
              "    <tr>\n",
              "      <th>date</th>\n",
              "      <th></th>\n",
              "      <th></th>\n",
              "      <th></th>\n",
              "    </tr>\n",
              "  </thead>\n",
              "  <tbody>\n",
              "    <tr>\n",
              "      <th>2020-4-7</th>\n",
              "      <td>23</td>\n",
              "      <td>3093.0</td>\n",
              "      <td>2738</td>\n",
              "    </tr>\n",
              "    <tr>\n",
              "      <th>2020-4-8</th>\n",
              "      <td>24</td>\n",
              "      <td>3258.0</td>\n",
              "      <td>2956</td>\n",
              "    </tr>\n",
              "    <tr>\n",
              "      <th>2020-4-9</th>\n",
              "      <td>25</td>\n",
              "      <td>3424.0</td>\n",
              "      <td>3293</td>\n",
              "    </tr>\n",
              "    <tr>\n",
              "      <th>2020-4-10</th>\n",
              "      <td>26</td>\n",
              "      <td>3590.0</td>\n",
              "      <td>3512</td>\n",
              "    </tr>\n",
              "    <tr>\n",
              "      <th>2020-4-11</th>\n",
              "      <td>27</td>\n",
              "      <td>3755.0</td>\n",
              "      <td>3842</td>\n",
              "    </tr>\n",
              "    <tr>\n",
              "      <th>2020-4-12</th>\n",
              "      <td>28</td>\n",
              "      <td>3921.0</td>\n",
              "      <td>4241</td>\n",
              "    </tr>\n",
              "    <tr>\n",
              "      <th>2020-4-13</th>\n",
              "      <td>29</td>\n",
              "      <td>4087.0</td>\n",
              "      <td>4557</td>\n",
              "    </tr>\n",
              "    <tr>\n",
              "      <th>2020-4-14</th>\n",
              "      <td>30</td>\n",
              "      <td>4253.0</td>\n",
              "      <td>4839</td>\n",
              "    </tr>\n",
              "    <tr>\n",
              "      <th>2020-4-15</th>\n",
              "      <td>31</td>\n",
              "      <td>4418.0</td>\n",
              "      <td>5136</td>\n",
              "    </tr>\n",
              "    <tr>\n",
              "      <th>2020-4-16</th>\n",
              "      <td>32</td>\n",
              "      <td>4584.0</td>\n",
              "      <td>5516</td>\n",
              "    </tr>\n",
              "  </tbody>\n",
              "</table>\n",
              "</div>"
            ],
            "text/plain": [
              "           Hari  Pred_Pos  Positif\n",
              "date                              \n",
              "2020-4-7     23    3093.0     2738\n",
              "2020-4-8     24    3258.0     2956\n",
              "2020-4-9     25    3424.0     3293\n",
              "2020-4-10    26    3590.0     3512\n",
              "2020-4-11    27    3755.0     3842\n",
              "2020-4-12    28    3921.0     4241\n",
              "2020-4-13    29    4087.0     4557\n",
              "2020-4-14    30    4253.0     4839\n",
              "2020-4-15    31    4418.0     5136\n",
              "2020-4-16    32    4584.0     5516"
            ]
          },
          "metadata": {
            "tags": []
          },
          "execution_count": 18
        }
      ]
    },
    {
      "cell_type": "code",
      "metadata": {
        "id": "AH0z8lEn2Goh",
        "colab_type": "code",
        "outputId": "9eaf633f-6206-469f-c865-0c19136e78ad",
        "colab": {
          "base_uri": "https://localhost:8080/",
          "height": 458
        }
      },
      "source": [
        "df_pos[['Positif', 'Pred_Pos']].plot(kind='line', stacked=False, figsize=(12, 7))\n",
        "plt.ylabel('Total Perhari')\n",
        "plt.title('Predikasi Berdasarkan Total Kasus Positif Perhari')\n",
        "plt.show()"
      ],
      "execution_count": 19,
      "outputs": [
        {
          "output_type": "display_data",
          "data": {
            "image/png": "[encoded data removed]",
            "text/plain": [
              "<Figure size 864x504 with 1 Axes>"
            ]
          },
          "metadata": {
            "tags": [],
            "needs_background": "light"
          }
        }
      ]
    },
    {
      "cell_type": "markdown",
      "metadata": {
        "id": "QDizsMYeveGV",
        "colab_type": "text"
      },
      "source": [
        "### Evaluasi Prediksi"
      ]
    },
    {
      "cell_type": "code",
      "metadata": {
        "id": "qjk-pjvHvk-y",
        "colab_type": "code",
        "outputId": "85e523f1-ead1-42d3-b078-593434fcf6ce",
        "colab": {
          "base_uri": "https://localhost:8080/",
          "height": 85
        }
      },
      "source": [
        "print(\"Hasil Evaluasi :\")\n",
        "actual = df_pos['Positif'].values.tolist()\n",
        "predict = df_pos['Pred_Pos'].values.tolist()\n",
        "n = df_pos.shape[0]\n",
        "print(\"MSE\\t: \", get_mse(actual, predict, n))\n",
        "print(\"MAE\\t: \", get_mae(actual, predict, n))\n",
        "print(\"MAPE\\t: \", get_mape(actual, predict, n))"
      ],
      "execution_count": 35,
      "outputs": [
        {
          "output_type": "stream",
          "text": [
            "Hasil Evaluasi :\n",
            "MSE\t:  168617.3125\n",
            "MAE\t:  355.1875\n",
            "MAPE\t:  0.5275795937145055\n"
          ],
          "name": "stdout"
        }
      ]
    },
    {
      "cell_type": "markdown",
      "metadata": {
        "id": "uA2gl8OvImR8",
        "colab_type": "text"
      },
      "source": [
        "### Prediksi 17 s/d 21 April"
      ]
    },
    {
      "cell_type": "code",
      "metadata": {
        "id": "k5mZzVItGqh2",
        "colab_type": "code",
        "outputId": "ff4d1243-4d95-40b2-eb51-9121580753ce",
        "colab": {
          "base_uri": "https://localhost:8080/",
          "height": 102
        }
      },
      "source": [
        "for n,x in enumerate(range(33, 38)):\n",
        "  print(\"Prediksi Kasus Positif \", str(17+n),\" April 2020 : \", round(get_predict(x, a, b)))"
      ],
      "execution_count": 21,
      "outputs": [
        {
          "output_type": "stream",
          "text": [
            "Prediksi Kasus Positif  17  April 2020 :  4750.0\n",
            "Prediksi Kasus Positif  18  April 2020 :  4916.0\n",
            "Prediksi Kasus Positif  19  April 2020 :  5081.0\n",
            "Prediksi Kasus Positif  20  April 2020 :  5247.0\n",
            "Prediksi Kasus Positif  21  April 2020 :  5413.0\n"
          ],
          "name": "stdout"
        }
      ]
    },
    {
      "cell_type": "markdown",
      "metadata": {
        "id": "3WVBqxXLAfDv",
        "colab_type": "text"
      },
      "source": [
        "## Prediksi Berdasarkan Peningkatan Perhari"
      ]
    },
    {
      "cell_type": "code",
      "metadata": {
        "colab_type": "code",
        "outputId": "be41ecb9-16dc-42ea-8392-d2991bfbfdd7",
        "id": "VR-dQWNUAxT_",
        "colab": {
          "base_uri": "https://localhost:8080/",
          "height": 187
        }
      },
      "source": [
        "a1, b1 = get_slope_intercept(df_pen, 'Hari', 'Peningkatan')"
      ],
      "execution_count": 22,
      "outputs": [
        {
          "output_type": "stream",
          "text": [
            "Jumlah Data\t:  32\n",
            "Sigma y\t\t:  5383.0\n",
            "Sigma x\t\t:  528\n",
            "Sigma x^2\t:  11440\n",
            "(Sigma x)^2\t:  278784\n",
            "Sigma xy\t:  117403.0\n",
            "\n",
            "\n",
            "Slope\t\t:  10.477822580645162\n",
            "Intercept\t:  -4.665322580645161\n"
          ],
          "name": "stdout"
        }
      ]
    },
    {
      "cell_type": "code",
      "metadata": {
        "colab_type": "code",
        "outputId": "6800797d-7018-455f-ed1e-59abba02360d",
        "id": "Ctd8fan3AxUs",
        "colab": {
          "base_uri": "https://localhost:8080/",
          "height": 390
        }
      },
      "source": [
        "Pred_Pen = [round(get_predict(i, a1, b1)) for i in np.arange(1, df_pen.shape[0]+1)]\n",
        "df_pen.insert(loc= 1, column='Pred_Pen', value=Pred_Pen)\n",
        "df_pen.tail(10)"
      ],
      "execution_count": 23,
      "outputs": [
        {
          "output_type": "execute_result",
          "data": {
            "text/html": [
              "<div>\n",
              "<style scoped>\n",
              "    .dataframe tbody tr th:only-of-type {\n",
              "        vertical-align: middle;\n",
              "    }\n",
              "\n",
              "    .dataframe tbody tr th {\n",
              "        vertical-align: top;\n",
              "    }\n",
              "\n",
              "    .dataframe thead th {\n",
              "        text-align: right;\n",
              "    }\n",
              "</style>\n",
              "<table border=\"1\" class=\"dataframe\">\n",
              "  <thead>\n",
              "    <tr style=\"text-align: right;\">\n",
              "      <th></th>\n",
              "      <th>Hari</th>\n",
              "      <th>Pred_Pen</th>\n",
              "      <th>Peningkatan</th>\n",
              "    </tr>\n",
              "    <tr>\n",
              "      <th>date</th>\n",
              "      <th></th>\n",
              "      <th></th>\n",
              "      <th></th>\n",
              "    </tr>\n",
              "  </thead>\n",
              "  <tbody>\n",
              "    <tr>\n",
              "      <th>2020-4-7</th>\n",
              "      <td>23</td>\n",
              "      <td>236.0</td>\n",
              "      <td>247.0</td>\n",
              "    </tr>\n",
              "    <tr>\n",
              "      <th>2020-4-8</th>\n",
              "      <td>24</td>\n",
              "      <td>247.0</td>\n",
              "      <td>218.0</td>\n",
              "    </tr>\n",
              "    <tr>\n",
              "      <th>2020-4-9</th>\n",
              "      <td>25</td>\n",
              "      <td>257.0</td>\n",
              "      <td>337.0</td>\n",
              "    </tr>\n",
              "    <tr>\n",
              "      <th>2020-4-10</th>\n",
              "      <td>26</td>\n",
              "      <td>268.0</td>\n",
              "      <td>219.0</td>\n",
              "    </tr>\n",
              "    <tr>\n",
              "      <th>2020-4-11</th>\n",
              "      <td>27</td>\n",
              "      <td>278.0</td>\n",
              "      <td>330.0</td>\n",
              "    </tr>\n",
              "    <tr>\n",
              "      <th>2020-4-12</th>\n",
              "      <td>28</td>\n",
              "      <td>289.0</td>\n",
              "      <td>399.0</td>\n",
              "    </tr>\n",
              "    <tr>\n",
              "      <th>2020-4-13</th>\n",
              "      <td>29</td>\n",
              "      <td>299.0</td>\n",
              "      <td>316.0</td>\n",
              "    </tr>\n",
              "    <tr>\n",
              "      <th>2020-4-14</th>\n",
              "      <td>30</td>\n",
              "      <td>310.0</td>\n",
              "      <td>282.0</td>\n",
              "    </tr>\n",
              "    <tr>\n",
              "      <th>2020-4-15</th>\n",
              "      <td>31</td>\n",
              "      <td>320.0</td>\n",
              "      <td>297.0</td>\n",
              "    </tr>\n",
              "    <tr>\n",
              "      <th>2020-4-16</th>\n",
              "      <td>32</td>\n",
              "      <td>331.0</td>\n",
              "      <td>380.0</td>\n",
              "    </tr>\n",
              "  </tbody>\n",
              "</table>\n",
              "</div>"
            ],
            "text/plain": [
              "           Hari  Pred_Pen  Peningkatan\n",
              "date                                  \n",
              "2020-4-7     23     236.0        247.0\n",
              "2020-4-8     24     247.0        218.0\n",
              "2020-4-9     25     257.0        337.0\n",
              "2020-4-10    26     268.0        219.0\n",
              "2020-4-11    27     278.0        330.0\n",
              "2020-4-12    28     289.0        399.0\n",
              "2020-4-13    29     299.0        316.0\n",
              "2020-4-14    30     310.0        282.0\n",
              "2020-4-15    31     320.0        297.0\n",
              "2020-4-16    32     331.0        380.0"
            ]
          },
          "metadata": {
            "tags": []
          },
          "execution_count": 23
        }
      ]
    },
    {
      "cell_type": "code",
      "metadata": {
        "colab_type": "code",
        "outputId": "7897adef-beda-47d9-8db1-81a77a2c4f74",
        "id": "B6w4agJJF15c",
        "colab": {
          "base_uri": "https://localhost:8080/",
          "height": 458
        }
      },
      "source": [
        "df_pen[['Peningkatan', 'Pred_Pen']].plot(kind='line', stacked=False, figsize=(12, 7))\n",
        "plt.ylabel('Total Perhari')\n",
        "plt.title('Predikasi Berdasarkan Peningkatan Kasus Positif Perhari')\n",
        "plt.show()"
      ],
      "execution_count": 24,
      "outputs": [
        {
          "output_type": "display_data",
          "data": {
            "image/png": "[encoded data removed]",
            "text/plain": [
              "<Figure size 864x504 with 1 Axes>"
            ]
          },
          "metadata": {
            "tags": [],
            "needs_background": "light"
          }
        }
      ]
    },
    {
      "cell_type": "markdown",
      "metadata": {
        "id": "En-i8W_F1ghE",
        "colab_type": "text"
      },
      "source": [
        "### Evaluasi Prediksi"
      ]
    },
    {
      "cell_type": "code",
      "metadata": {
        "id": "cusXArCU1hM8",
        "colab_type": "code",
        "outputId": "a75b2157-828f-494f-a107-e17f5b7b0110",
        "colab": {
          "base_uri": "https://localhost:8080/",
          "height": 85
        }
      },
      "source": [
        "print(\"Hasil Evaluasi :\")\n",
        "actual1 = df_pen['Peningkatan'].values.tolist()\n",
        "predict1 = df_pen['Pred_Pen'].values.tolist()\n",
        "n1 = df_pen.shape[0]\n",
        "\n",
        "print(\"MSE\\t: \", get_mse(actual1, predict1, n1))\n",
        "print(\"MAE\\t: \", get_mae(actual1, predict1, n1))\n",
        "print(\"MAPE\\t: \", get_mape(actual1, predict1, n1))"
      ],
      "execution_count": 25,
      "outputs": [
        {
          "output_type": "stream",
          "text": [
            "Hasil Evaluasi :\n",
            "MSE\t:  1706.46875\n",
            "MAE\t:  31.53125\n",
            "MAPE\t:  0.38094757060596696\n"
          ],
          "name": "stdout"
        }
      ]
    },
    {
      "cell_type": "markdown",
      "metadata": {
        "id": "JcTqH5Vd1uzy",
        "colab_type": "text"
      },
      "source": [
        "### Prediksi 17 s/d 21 April"
      ]
    },
    {
      "cell_type": "code",
      "metadata": {
        "id": "guiDK37V1vUK",
        "colab_type": "code",
        "outputId": "dc193575-02bc-4281-bce3-25ea71e03f93",
        "colab": {
          "base_uri": "https://localhost:8080/",
          "height": 102
        }
      },
      "source": [
        "pos = df_pos['Positif'][31]\n",
        "for n,x in enumerate(range(33, 38)):\n",
        "  pen_predicr = round(get_predict(x, a1, b1))\n",
        "  if n == 0 :\n",
        "    pos_predict = pos + pen_predicr\n",
        "    print(\"Prediksi Kasus Positif\", str(17+n),\" April 2020 Meningkat : \", pen_predicr,\" Menjadi\", pos_predict)\n",
        "  else :\n",
        "    pos_predict += pen_predicr\n",
        "    print(\"Prediksi Kasus Positif\", str(17+n),\" April 2020 Meningkat : \", pen_predicr,\" Menjadi\", pos_predict)"
      ],
      "execution_count": 26,
      "outputs": [
        {
          "output_type": "stream",
          "text": [
            "Prediksi Kasus Positif 17  April 2020 Meningkat :  341.0  Menjadi 5857.0\n",
            "Prediksi Kasus Positif 18  April 2020 Meningkat :  352.0  Menjadi 6209.0\n",
            "Prediksi Kasus Positif 19  April 2020 Meningkat :  362.0  Menjadi 6571.0\n",
            "Prediksi Kasus Positif 20  April 2020 Meningkat :  373.0  Menjadi 6944.0\n",
            "Prediksi Kasus Positif 21  April 2020 Meningkat :  383.0  Menjadi 7327.0\n"
          ],
          "name": "stdout"
        }
      ]
    },
    {
      "cell_type": "markdown",
      "metadata": {
        "colab_type": "text",
        "id": "qybDtrg0_nj1"
      },
      "source": [
        "## Prediksi Berdasarkan Positif H-1"
      ]
    },
    {
      "cell_type": "code",
      "metadata": {
        "colab_type": "code",
        "outputId": "36f150e3-e564-41ef-dfc4-df18e2a7445c",
        "id": "DfjF8G7P_nka",
        "colab": {
          "base_uri": "https://localhost:8080/",
          "height": 187
        }
      },
      "source": [
        "a2, b2 = get_slope_intercept(df_h_1, 'Pos H-1', 'Positif')"
      ],
      "execution_count": 27,
      "outputs": [
        {
          "output_type": "stream",
          "text": [
            "Jumlah Data\t:  32\n",
            "Sigma y\t\t:  64492\n",
            "Sigma x\t\t:  58977\n",
            "Sigma x^2\t:  179868563\n",
            "(Sigma x)^2\t:  3478286529\n",
            "Sigma xy\t:  194443080\n",
            "\n",
            "\n",
            "Slope\t\t:  1.0619652799411412\n",
            "Intercept\t:  58.13980265347861\n"
          ],
          "name": "stdout"
        }
      ]
    },
    {
      "cell_type": "code",
      "metadata": {
        "colab_type": "code",
        "outputId": "66761c7f-059d-4fff-af12-52ceefb272e6",
        "id": "r6T_r6ze_nks",
        "colab": {
          "base_uri": "https://localhost:8080/",
          "height": 390
        }
      },
      "source": [
        "Pred_Pos = [round(get_predict(i, a2, b2)) for i in df_h_1['Pos H-1'].values.tolist()]\n",
        "df_h_1.insert(loc = 2, column='Pred_Pos', value=Pred_Pos)\n",
        "df_h_1.tail(10)"
      ],
      "execution_count": 28,
      "outputs": [
        {
          "output_type": "execute_result",
          "data": {
            "text/html": [
              "<div>\n",
              "<style scoped>\n",
              "    .dataframe tbody tr th:only-of-type {\n",
              "        vertical-align: middle;\n",
              "    }\n",
              "\n",
              "    .dataframe tbody tr th {\n",
              "        vertical-align: top;\n",
              "    }\n",
              "\n",
              "    .dataframe thead th {\n",
              "        text-align: right;\n",
              "    }\n",
              "</style>\n",
              "<table border=\"1\" class=\"dataframe\">\n",
              "  <thead>\n",
              "    <tr style=\"text-align: right;\">\n",
              "      <th></th>\n",
              "      <th>Pos H-1</th>\n",
              "      <th>Positif</th>\n",
              "      <th>Pred_Pos</th>\n",
              "    </tr>\n",
              "    <tr>\n",
              "      <th>date</th>\n",
              "      <th></th>\n",
              "      <th></th>\n",
              "      <th></th>\n",
              "    </tr>\n",
              "  </thead>\n",
              "  <tbody>\n",
              "    <tr>\n",
              "      <th>2020-4-7</th>\n",
              "      <td>2491</td>\n",
              "      <td>2738</td>\n",
              "      <td>2703.0</td>\n",
              "    </tr>\n",
              "    <tr>\n",
              "      <th>2020-4-8</th>\n",
              "      <td>2738</td>\n",
              "      <td>2956</td>\n",
              "      <td>2966.0</td>\n",
              "    </tr>\n",
              "    <tr>\n",
              "      <th>2020-4-9</th>\n",
              "      <td>2956</td>\n",
              "      <td>3293</td>\n",
              "      <td>3197.0</td>\n",
              "    </tr>\n",
              "    <tr>\n",
              "      <th>2020-4-10</th>\n",
              "      <td>3293</td>\n",
              "      <td>3512</td>\n",
              "      <td>3555.0</td>\n",
              "    </tr>\n",
              "    <tr>\n",
              "      <th>2020-4-11</th>\n",
              "      <td>3512</td>\n",
              "      <td>3842</td>\n",
              "      <td>3788.0</td>\n",
              "    </tr>\n",
              "    <tr>\n",
              "      <th>2020-4-12</th>\n",
              "      <td>3842</td>\n",
              "      <td>4241</td>\n",
              "      <td>4138.0</td>\n",
              "    </tr>\n",
              "    <tr>\n",
              "      <th>2020-4-13</th>\n",
              "      <td>4241</td>\n",
              "      <td>4557</td>\n",
              "      <td>4562.0</td>\n",
              "    </tr>\n",
              "    <tr>\n",
              "      <th>2020-4-14</th>\n",
              "      <td>4557</td>\n",
              "      <td>4839</td>\n",
              "      <td>4898.0</td>\n",
              "    </tr>\n",
              "    <tr>\n",
              "      <th>2020-4-15</th>\n",
              "      <td>4839</td>\n",
              "      <td>5136</td>\n",
              "      <td>5197.0</td>\n",
              "    </tr>\n",
              "    <tr>\n",
              "      <th>2020-4-16</th>\n",
              "      <td>5136</td>\n",
              "      <td>5516</td>\n",
              "      <td>5512.0</td>\n",
              "    </tr>\n",
              "  </tbody>\n",
              "</table>\n",
              "</div>"
            ],
            "text/plain": [
              "           Pos H-1  Positif  Pred_Pos\n",
              "date                                 \n",
              "2020-4-7      2491     2738    2703.0\n",
              "2020-4-8      2738     2956    2966.0\n",
              "2020-4-9      2956     3293    3197.0\n",
              "2020-4-10     3293     3512    3555.0\n",
              "2020-4-11     3512     3842    3788.0\n",
              "2020-4-12     3842     4241    4138.0\n",
              "2020-4-13     4241     4557    4562.0\n",
              "2020-4-14     4557     4839    4898.0\n",
              "2020-4-15     4839     5136    5197.0\n",
              "2020-4-16     5136     5516    5512.0"
            ]
          },
          "metadata": {
            "tags": []
          },
          "execution_count": 28
        }
      ]
    },
    {
      "cell_type": "code",
      "metadata": {
        "colab_type": "code",
        "outputId": "8f237636-7a9f-4244-be9e-03e4e21685df",
        "id": "5DcEJHth_nkz",
        "colab": {
          "base_uri": "https://localhost:8080/",
          "height": 458
        }
      },
      "source": [
        "df_h_1.set_index('Pos H-1').plot(kind='line', stacked=False, figsize=(12, 7))\n",
        "plt.ylabel('Total Positif')\n",
        "plt.xlabel('Positif H-1')\n",
        "plt.title('Predikasi Berdasarkan Kasus Positif H-1')\n",
        "plt.show()"
      ],
      "execution_count": 29,
      "outputs": [
        {
          "output_type": "display_data",
          "data": {
            "image/png": "[encoded data removed]",
            "text/plain": [
              "<Figure size 864x504 with 1 Axes>"
            ]
          },
          "metadata": {
            "tags": [],
            "needs_background": "light"
          }
        }
      ]
    },
    {
      "cell_type": "markdown",
      "metadata": {
        "colab_type": "text",
        "id": "HG4VR7Ty_nk5"
      },
      "source": [
        "### Evaluasi Prediksi"
      ]
    },
    {
      "cell_type": "code",
      "metadata": {
        "colab_type": "code",
        "outputId": "b410d14a-84b4-484f-961f-da5278741d07",
        "id": "7P5uAq9f_nk7",
        "colab": {
          "base_uri": "https://localhost:8080/",
          "height": 85
        }
      },
      "source": [
        "print(\"Hasil Evaluasi :\")\n",
        "actual = df_h_1['Positif'].values.tolist()\n",
        "predict = df_h_1['Pred_Pos'].values.tolist()\n",
        "n = df_h_1.shape[0]\n",
        "print(\"MSE\\t: \", get_mse(actual, predict, n))\n",
        "print(\"MAE\\t: \", get_mae(actual, predict, n))\n",
        "print(\"MAPE\\t: \", get_mape(actual, predict, n))"
      ],
      "execution_count": 30,
      "outputs": [
        {
          "output_type": "stream",
          "text": [
            "Hasil Evaluasi :\n",
            "MSE\t:  1676.65625\n",
            "MAE\t:  30.03125\n",
            "MAPE\t:  0.03990084274190543\n"
          ],
          "name": "stdout"
        }
      ]
    },
    {
      "cell_type": "markdown",
      "metadata": {
        "colab_type": "text",
        "id": "DCteHfwr_nlB"
      },
      "source": [
        "### Prediksi 17 s/d 21 April"
      ]
    },
    {
      "cell_type": "code",
      "metadata": {
        "colab_type": "code",
        "outputId": "c89ff98c-8f91-422b-a4d9-1b1f2d4c9090",
        "id": "lzJP2Rhg_nlC",
        "colab": {
          "base_uri": "https://localhost:8080/",
          "height": 102
        }
      },
      "source": [
        "x = df_h_1['Positif'][31]\n",
        "for i in range(5):\n",
        "  print(\"Prediksi Kasus Positif \", str(17+i),\" April 2020 : \", round(get_predict(int(x), a2, b2)))\n",
        "  x = round(get_predict(int(x), a2, b2))"
      ],
      "execution_count": 31,
      "outputs": [
        {
          "output_type": "stream",
          "text": [
            "Prediksi Kasus Positif  17  April 2020 :  5916.0\n",
            "Prediksi Kasus Positif  18  April 2020 :  6341.0\n",
            "Prediksi Kasus Positif  19  April 2020 :  6792.0\n",
            "Prediksi Kasus Positif  20  April 2020 :  7271.0\n",
            "Prediksi Kasus Positif  21  April 2020 :  7780.0\n"
          ],
          "name": "stdout"
        }
      ]
    },
    {
      "cell_type": "markdown",
      "metadata": {
        "id": "ifXGLAOAGsUp",
        "colab_type": "text"
      },
      "source": [
        "# **5. Kesimpulan**\n",
        "\n",
        "**Perbandingan Evaluasi**\n",
        "> ![alt text](https://i.ibb.co/pvG95DT/Summary-Error.jpg)\n",
        "\n",
        "**Perbandingan Prediksi**\n",
        "> ![alt text](https://i.ibb.co/6gzsfwy/Summary-Predic.jpg)\n",
        "\n",
        "Sampai dengan video ini dibuat data yang yang sudah rilis adalah sampai dengan 17 April 2020, mari kita bandingkan data sebenarnya dan hasil prediksi :\n",
        "\n",
        "Kasus Aktual Positif 17 April 2020 : **5923**\n",
        "\n",
        "*   Prediksi Berdasarkan Total Perhari : **4750**\n",
        "> 5923 - 4750 = 1.173\n",
        "*   Prediksi Berdasarkan Peningkatan Perhari : **5875**\n",
        "> 5923 - 5875 = 48\n",
        "*   Prediksi Berdasarkan Positif H-1 : **5916**\n",
        "> 5923 - 5916 = 7\n",
        "\n",
        "Maka disimpulakan model terbaik adalah :\n",
        "\n",
        "**Prediksi Berdasarkan Positif H-1**\n",
        "\n",
        "\n",
        "\n",
        "\n"
      ]
    },
    {
      "cell_type": "code",
      "metadata": {
        "id": "23pMiUkSOcgI",
        "colab_type": "code",
        "colab": {}
      },
      "source": [
        ""
      ],
      "execution_count": 0,
      "outputs": []
    }
  ]
}