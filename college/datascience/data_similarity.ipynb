{
  "nbformat": 4,
  "nbformat_minor": 0,
  "metadata": {
    "accelerator": "GPU",
    "colab": {
      "name": "Tugas_2_DS_Data_Similarity Ref.ipynb",
      "provenance": [],
      "collapsed_sections": [],
      "toc_visible": true
    },
    "kernelspec": {
      "display_name": "Python 3",
      "language": "python",
      "name": "python3"
    },
    "language_info": {
      "codemirror_mode": {
        "name": "ipython",
        "version": 3
      },
      "file_extension": ".py",
      "mimetype": "text/x-python",
      "name": "python",
      "nbconvert_exporter": "python",
      "pygments_lexer": "ipython3",
      "version": "3.7.0"
    }
  },
  "cells": [
    {
      "cell_type": "markdown",
      "metadata": {
        "colab_type": "text",
        "id": "aURCv6ngm4Hb"
      },
      "source": [
        "# **Assignment 2 DS : Data Similarity**\n",
        "\n",
        "Anggota Kelompok :\n",
        "\n",
        "\n",
        "1. Wanda Yusuf Alvian\t(19/448735/PPA/05818)\n",
        "2. Hari Surrisyad (19/448705/PPA/05788)\n",
        "3. Muhammad Irfan Indriyan (19/448713/PPA/05796)\n",
        "\n",
        "\n"
      ]
    },
    {
      "cell_type": "markdown",
      "metadata": {
        "colab_type": "text",
        "id": "aZbmnspOnT-_"
      },
      "source": [
        "## 1. Data Document"
      ]
    },
    {
      "cell_type": "code",
      "metadata": {
        "colab_type": "code",
        "id": "qqlF4scsoW96",
        "colab": {}
      },
      "source": [
        "import pandas as pd\n",
        "from collections import Counter\n",
        "import math"
      ],
      "execution_count": 0,
      "outputs": []
    },
    {
      "cell_type": "code",
      "metadata": {
        "colab_type": "code",
        "id": "EwG9YKkEmtfe",
        "outputId": "8bd9294e-19b5-413a-f1cf-3e4c06592a60",
        "colab": {
          "base_uri": "https://localhost:8080/",
          "height": 204
        }
      },
      "source": [
        "data_path = 'http://www.crowdflower.com/wp-content/uploads/2016/07/text_emotion.csv'\n",
        "\n",
        "data = pd.read_csv(data_path)\n",
        "data.head()"
      ],
      "execution_count": 0,
      "outputs": [
        {
          "output_type": "execute_result",
          "data": {
            "text/html": [
              "<div>\n",
              "<style scoped>\n",
              "    .dataframe tbody tr th:only-of-type {\n",
              "        vertical-align: middle;\n",
              "    }\n",
              "\n",
              "    .dataframe tbody tr th {\n",
              "        vertical-align: top;\n",
              "    }\n",
              "\n",
              "    .dataframe thead th {\n",
              "        text-align: right;\n",
              "    }\n",
              "</style>\n",
              "<table border=\"1\" class=\"dataframe\">\n",
              "  <thead>\n",
              "    <tr style=\"text-align: right;\">\n",
              "      <th></th>\n",
              "      <th>tweet_id</th>\n",
              "      <th>sentiment</th>\n",
              "      <th>author</th>\n",
              "      <th>content</th>\n",
              "    </tr>\n",
              "  </thead>\n",
              "  <tbody>\n",
              "    <tr>\n",
              "      <th>0</th>\n",
              "      <td>1956967341</td>\n",
              "      <td>empty</td>\n",
              "      <td>xoshayzers</td>\n",
              "      <td>@tiffanylue i know  i was listenin to bad habi...</td>\n",
              "    </tr>\n",
              "    <tr>\n",
              "      <th>1</th>\n",
              "      <td>1956967666</td>\n",
              "      <td>sadness</td>\n",
              "      <td>wannamama</td>\n",
              "      <td>Layin n bed with a headache  ughhhh...waitin o...</td>\n",
              "    </tr>\n",
              "    <tr>\n",
              "      <th>2</th>\n",
              "      <td>1956967696</td>\n",
              "      <td>sadness</td>\n",
              "      <td>coolfunky</td>\n",
              "      <td>Funeral ceremony...gloomy friday...</td>\n",
              "    </tr>\n",
              "    <tr>\n",
              "      <th>3</th>\n",
              "      <td>1956967789</td>\n",
              "      <td>enthusiasm</td>\n",
              "      <td>czareaquino</td>\n",
              "      <td>wants to hang out with friends SOON!</td>\n",
              "    </tr>\n",
              "    <tr>\n",
              "      <th>4</th>\n",
              "      <td>1956968416</td>\n",
              "      <td>neutral</td>\n",
              "      <td>xkilljoyx</td>\n",
              "      <td>@dannycastillo We want to trade with someone w...</td>\n",
              "    </tr>\n",
              "  </tbody>\n",
              "</table>\n",
              "</div>"
            ],
            "text/plain": [
              "     tweet_id  ...                                            content\n",
              "0  1956967341  ...  @tiffanylue i know  i was listenin to bad habi...\n",
              "1  1956967666  ...  Layin n bed with a headache  ughhhh...waitin o...\n",
              "2  1956967696  ...                Funeral ceremony...gloomy friday...\n",
              "3  1956967789  ...               wants to hang out with friends SOON!\n",
              "4  1956968416  ...  @dannycastillo We want to trade with someone w...\n",
              "\n",
              "[5 rows x 4 columns]"
            ]
          },
          "metadata": {
            "tags": []
          },
          "execution_count": 4
        }
      ]
    },
    {
      "cell_type": "markdown",
      "metadata": {
        "colab_type": "text",
        "id": "IPNxGPTDccU2"
      },
      "source": [
        "### Cosine Similarity"
      ]
    },
    {
      "cell_type": "code",
      "metadata": {
        "colab_type": "code",
        "id": "Sn6txYjam18_",
        "colab": {}
      },
      "source": [
        "def doc_similarity(doc1, doc2):\n",
        "  c1 = Counter(doc1.split())\n",
        "  c2 = Counter(doc2.split())\n",
        "  terms = set(c1).union(c2)\n",
        "  dotprod = sum(c1.get(k, 0) * c2.get(k, 0) for k in terms)\n",
        "  magA = math.sqrt(sum(c1.get(k, 0)**2 for k in terms))\n",
        "  magB = math.sqrt(sum(c2.get(k, 0)**2 for k in terms))\n",
        "  return dotprod / (magA * magB)"
      ],
      "execution_count": 0,
      "outputs": []
    },
    {
      "cell_type": "code",
      "metadata": {
        "colab_type": "code",
        "id": "-KOx_Kd1omkT",
        "outputId": "1b537a20-9d1f-48d1-e837-998cc3124404",
        "colab": {
          "base_uri": "https://localhost:8080/",
          "height": 34
        }
      },
      "source": [
        "doc1 = data['content'][0]\n",
        "doc2 = data['content'][1]\n",
        "\n",
        "print('Similarity Measure :', doc_similarity(doc1, doc2))\n",
        "\n",
        "# Similariy dalam persen, semakin mendekati 100% semakin similar"
      ],
      "execution_count": 0,
      "outputs": [
        {
          "output_type": "stream",
          "text": [
            "Similarity Measure : 0.0\n"
          ],
          "name": "stdout"
        }
      ]
    },
    {
      "cell_type": "markdown",
      "metadata": {
        "colab_type": "text",
        "id": "8w4d6a7Tw1Ei"
      },
      "source": [
        "Rreferences :\n",
        "\n",
        "\n",
        "1.   https://stackoverflow.com/questions/54427663/using-cosine-similarity-for-two-text-files\n",
        "\n"
      ]
    },
    {
      "cell_type": "markdown",
      "metadata": {
        "colab_type": "text",
        "id": "BhnxKTzqZxCq"
      },
      "source": [
        "## 2. Data Time Series"
      ]
    },
    {
      "cell_type": "markdown",
      "metadata": {
        "colab_type": "text",
        "id": "_lq2FciUbTdA"
      },
      "source": [
        "### Correlation Coefficient"
      ]
    },
    {
      "cell_type": "code",
      "metadata": {
        "colab_type": "code",
        "id": "xFpBiLUIbTdF",
        "outputId": "a1562357-04fe-4b65-b709-f4d98950908d",
        "colab": {}
      },
      "source": [
        "#Explore Data\n",
        "import pandas as pd\n",
        "import numpy as np\n",
        "data = pd.read_csv('https://timeseries.weebly.com/uploads/2/1/0/8/21086414/_visitors.csv', sep = ',')\n",
        "\n",
        "#lima data pertama\n",
        "print(data.head(5))"
      ],
      "execution_count": 0,
      "outputs": [
        {
          "output_type": "stream",
          "text": [
            "     Date  Australia  China, People's Republic of  Japan  United Kingdom\n",
            "0  1998Q4      20288                         1089   5938           13831\n",
            "1  1999Q1      22047                         1492   6925           23271\n",
            "2  1999Q2      14362                         1450   4353            9756\n",
            "3  1999Q3      15775                         1551   6855            7899\n",
            "4  1999Q4      21209                         2020   6216           15778\n"
          ],
          "name": "stdout"
        }
      ]
    },
    {
      "cell_type": "code",
      "metadata": {
        "colab_type": "code",
        "id": "YXorSjzDbTdY",
        "outputId": "6b9ef3a0-c5a7-499e-d682-ca85886c6671",
        "colab": {}
      },
      "source": [
        "#Similarity antara visitor Australia dengan China\n",
        "doc1 = data['Australia']\n",
        "doc2 = data['China, People\\'s Republic of']\n",
        "\n",
        "def timeseries_similarity(doc1, doc2):\n",
        "    return doc1.corr(doc2)\n",
        "print(timeseries_similarity(doc1, doc2))"
      ],
      "execution_count": 0,
      "outputs": [
        {
          "output_type": "stream",
          "text": [
            "0.514040455599168\n"
          ],
          "name": "stdout"
        }
      ]
    },
    {
      "cell_type": "code",
      "metadata": {
        "colab_type": "code",
        "id": "ZymZzj-abTdi",
        "outputId": "58776fdf-f2de-46c6-8035-7c8d094496d3",
        "colab": {}
      },
      "source": [
        "#call function\n",
        "#Similarity antara visitor Australia dengan Jepang\n",
        "print(timeseries_similarity(data['Japan'], data['Australia']))"
      ],
      "execution_count": 0,
      "outputs": [
        {
          "output_type": "stream",
          "text": [
            "-0.12769976670685487\n"
          ],
          "name": "stdout"
        }
      ]
    },
    {
      "cell_type": "code",
      "metadata": {
        "colab_type": "code",
        "id": "EAYo3e3QbTdr",
        "outputId": "ee91aa74-da94-4139-c3e3-40c2f8ad559a",
        "colab": {}
      },
      "source": [
        "#Similarity antara Japan dengan United Kingdom\n",
        "print(timeseries_similarity(data['Japan'], data['United Kingdom']))"
      ],
      "execution_count": 0,
      "outputs": [
        {
          "output_type": "stream",
          "text": [
            "0.35726026594832816\n"
          ],
          "name": "stdout"
        }
      ]
    },
    {
      "cell_type": "code",
      "metadata": {
        "colab_type": "code",
        "id": "cf4MEyrwbTd0",
        "outputId": "4f88e829-8d4d-4a97-bf36-267d607c0be6",
        "colab": {}
      },
      "source": [
        "#Similarity antara visitor China dengan Japan\n",
        "print(timeseries_similarity(data['China, People\\'s Republic of'], data['Japan']))"
      ],
      "execution_count": 0,
      "outputs": [
        {
          "output_type": "stream",
          "text": [
            "-0.012998270685293934\n"
          ],
          "name": "stdout"
        }
      ]
    },
    {
      "cell_type": "code",
      "metadata": {
        "colab_type": "code",
        "id": "k8pEyTpHbTd_",
        "outputId": "b9aca21f-4930-4529-a2ec-96b6979c0620",
        "colab": {}
      },
      "source": [
        "#Similarity antara Visitor Australia dengan UK\n",
        "print(timeseries_similarity(data['Australia'], data['United Kingdom']))"
      ],
      "execution_count": 0,
      "outputs": [
        {
          "output_type": "stream",
          "text": [
            "0.7364743157628297\n"
          ],
          "name": "stdout"
        }
      ]
    },
    {
      "cell_type": "markdown",
      "metadata": {
        "colab_type": "text",
        "id": "bCU9KmAdbTeJ"
      },
      "source": [
        "### Euclidean Distance "
      ]
    },
    {
      "cell_type": "markdown",
      "metadata": {
        "colab_type": "text",
        "id": "VxcsYUejbTeM"
      },
      "source": [
        "The Euclidean distance between two time series can be visualized as the square root of the sum of the squared length ofthe vertical hatch lines (Batista et al., 2013)"
      ]
    },
    {
      "cell_type": "code",
      "metadata": {
        "colab_type": "code",
        "id": "F-qAaxxVbTeO",
        "colab": {}
      },
      "source": [
        "#def timeseries_euclid(data1, data2):\n",
        "\n",
        "from math import sqrt\n",
        "\n",
        "temp = 0\n",
        "\n",
        "#fungsi untuk menghitung euclidean distance\n",
        "def ts_euclideandist(data1, data2):\n",
        "    for i in range(54):\n",
        "        global temp\n",
        "        temp += (data1[i] - data2[i])**2\n",
        "    return sqrt(temp)"
      ],
      "execution_count": 0,
      "outputs": []
    },
    {
      "cell_type": "markdown",
      "metadata": {
        "colab_type": "text",
        "id": "9igKVk9TbTeV"
      },
      "source": [
        "#### Call function"
      ]
    },
    {
      "cell_type": "code",
      "metadata": {
        "colab_type": "code",
        "id": "iIkPXgg6bTeX",
        "outputId": "cc9c1084-4a63-42a3-84a4-122ab80964d1",
        "colab": {}
      },
      "source": [
        "#Similarity distance antara data Australia dengan Jepang\n",
        "print(ts_euclideandist(data['Australia'], data['Japan']))"
      ],
      "execution_count": 0,
      "outputs": [
        {
          "output_type": "stream",
          "text": [
            "171762.48199475926\n"
          ],
          "name": "stdout"
        }
      ]
    },
    {
      "cell_type": "code",
      "metadata": {
        "colab_type": "code",
        "id": "4jE3EhjDbTeg",
        "outputId": "741d68d7-2a4d-43da-d8a9-5be3f2e3cd99",
        "colab": {}
      },
      "source": [
        "#Similarity distance antara data Australia dengan China\n",
        "print(ts_euclideandist(data['Australia'], data['China, People\\'s Republic of']))"
      ],
      "execution_count": 0,
      "outputs": [
        {
          "output_type": "stream",
          "text": [
            "243584.21952786678\n"
          ],
          "name": "stdout"
        }
      ]
    },
    {
      "cell_type": "code",
      "metadata": {
        "colab_type": "code",
        "id": "mpbOy_-lbTeo",
        "colab": {}
      },
      "source": [
        "Reference:\n",
        "\n",
        "Batista, Gustavo & Keogh, Eamonn & Tataw, Oben & Alves de Souza, Vinícius. (2013). CID: An efficient complexity-invariant distance for time series. Data Mining and Knowledge Discovery. 28. 10.1007/s10618-013-0312-3."
      ],
      "execution_count": 0,
      "outputs": []
    },
    {
      "cell_type": "markdown",
      "metadata": {
        "colab_type": "text",
        "id": "4wd3ALffaKtR"
      },
      "source": [
        "## 3. Data Graph"
      ]
    },
    {
      "cell_type": "code",
      "metadata": {
        "ExecuteTime": {
          "end_time": "2020-02-23T09:12:11.238740Z",
          "start_time": "2020-02-23T09:12:11.007875Z"
        },
        "colab_type": "code",
        "id": "I0lg6-_4TNgZ",
        "outputId": "a2d47e1f-42f1-47b7-9f5b-19d8ca910fcd",
        "colab": {}
      },
      "source": [
        "import zipfile\n",
        "\n",
        "import matplotlib.pyplot as plt\n",
        "import networkx as nx\n",
        "\n",
        "\n",
        "zf = zipfile.ZipFile('sampson_data.zip')  # zipfile object\n",
        "e1 = StringIO(zf.read('samplike1.txt'))  # read info file\n",
        "e2 = StringIO(zf.read('samplike2.txt'))  # read info file\n",
        "\n",
        "G1 = nx.read_edgelist(e1, delimiter='\\t')\n",
        "G2 = nx.read_edgelist(e2, delimiter='\\t')\n",
        "\n",
        "pos = nx.spring_layout(G1, iterations=100)\n",
        "plt.clf()\n",
        "\n",
        "plt.subplot(221)\n",
        "plt.title('samplike1')\n",
        "nx.draw(G1, pos, node_size=50, with_labels=False) # node size adalah ukuran dari node bukan jumlah node \n",
        "plt.subplot(222)\n",
        "plt.title('samplike2')\n",
        "nx.draw(G2, pos, node_size=50, with_labels=False)\n",
        "plt.show()"
      ],
      "execution_count": 0,
      "outputs": [
        {
          "output_type": "display_data",
          "data": {
            "image/png": "[encoded data removed]",
            "text/plain": [
              "<Figure size 432x288 with 2 Axes>"
            ]
          },
          "metadata": {
            "tags": []
          }
        }
      ]
    },
    {
      "cell_type": "code",
      "metadata": {
        "ExecuteTime": {
          "end_time": "2020-02-23T09:12:12.003866Z",
          "start_time": "2020-02-23T09:12:11.989873Z"
        },
        "colab_type": "code",
        "id": "6miX22WrTNgv",
        "outputId": "c61c5f59-ee55-402d-eeb2-ecb79c479036",
        "colab": {}
      },
      "source": [
        "def select_k(spectrum, minimum_energy = 0.9):\n",
        "    running_total = 0.0\n",
        "    total = sum(spectrum)\n",
        "    if total == 0.0:\n",
        "        return len(spectrum)\n",
        "    for i in range(len(spectrum)):\n",
        "        running_total += spectrum[i]\n",
        "        if running_total / total >= minimum_energy:\n",
        "            return i + 1\n",
        "    return len(spectrum)\n",
        "\n",
        "def similarity(G1,G2):\n",
        "    laplacian1 = nx.spectrum.laplacian_spectrum(G1)\n",
        "    laplacian2 = nx.spectrum.laplacian_spectrum(G2)\n",
        "\n",
        "    k1 = select_k(laplacian1)\n",
        "    k2 = select_k(laplacian2)\n",
        "    k = min(k1, k2)\n",
        "\n",
        "    return sum((laplacian1[:k] - laplacian2[:k])**2)\n",
        "\n",
        "\n",
        "\n",
        "print(similarity(G1,G2))\n"
      ],
      "execution_count": 0,
      "outputs": [
        {
          "output_type": "stream",
          "text": [
            "5.310187217258027\n"
          ],
          "name": "stdout"
        }
      ]
    },
    {
      "cell_type": "markdown",
      "metadata": {
        "colab_type": "text",
        "id": "9OkV3miBTNg-"
      },
      "source": [
        "references :\n",
        "1. https://stackoverflow.com/questions/12122021/python-implementation-of-a-graph-similarity-grading-algorithm\n",
        "2. https://www.cs.cmu.edu/~jingx/docs/DBreport.pdf\n",
        "3. https://networkx.github.io/documentation/stable/auto_examples/drawing/plot_sampson.html"
      ]
    }
  ]
}