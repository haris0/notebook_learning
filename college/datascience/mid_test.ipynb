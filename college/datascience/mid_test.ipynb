{
  "nbformat": 4,
  "nbformat_minor": 0,
  "metadata": {
    "colab": {
      "name": "UTS DS - Hari Surrisyad.ipynb",
      "provenance": [],
      "toc_visible": true
    },
    "kernelspec": {
      "name": "python3",
      "display_name": "Python 3"
    },
    "accelerator": "GPU"
  },
  "cells": [
    {
      "cell_type": "markdown",
      "metadata": {
        "id": "XWLg9bBiiBmg",
        "colab_type": "text"
      },
      "source": [
        "# **Nomor 3**\n",
        "File Credit.csv memuat 11 atribut yang terdiri dari 7 atribut bertipe kontinyu: balance (rata-rata tunggakan kartu kredit), age, cards (jumlah kartu kredit), education (lama sekolah), income (dalam dollars), limit (batas kredit), dan rating (rating kredit), dan 4 atribut bertipe diskrit: gender, student (status mahasiswa), status (status perkawinan), and ethnicity (etnis)."
      ]
    },
    {
      "cell_type": "code",
      "metadata": {
        "id": "ucPflgzHidBR",
        "colab_type": "code",
        "colab": {}
      },
      "source": [
        "import pandas as pd\n",
        "from sklearn.naive_bayes import GaussianNB\n",
        "from sklearn import svm\n",
        "from sklearn.model_selection import train_test_split\n",
        "from sklearn.metrics import confusion_matrix\n",
        "from sklearn import preprocessing\n",
        "from sklearn.model_selection import cross_val_score\n",
        "import numpy as np\n",
        "from sklearn.feature_selection import SelectKBest, chi2\n",
        "from sklearn.ensemble import RandomForestClassifier\n",
        "from sklearn.tree import export_graphviz\n",
        "import pydot"
      ],
      "execution_count": 0,
      "outputs": []
    },
    {
      "cell_type": "code",
      "metadata": {
        "id": "umIMUNd6iWvo",
        "colab_type": "code",
        "outputId": "e8eec0cd-7ecc-4c35-e607-4e0cf0cf9439",
        "colab": {
          "base_uri": "https://localhost:8080/",
          "height": 204
        }
      },
      "source": [
        "dfc = pd.read_csv('/content/drive/My Drive/Data Science/Credit.csv')\n",
        "dfc = dfc.drop(['Unnamed: 0'], axis=1)\n",
        "dfc.head()"
      ],
      "execution_count": 0,
      "outputs": [
        {
          "output_type": "execute_result",
          "data": {
            "text/html": [
              "<div>\n",
              "<style scoped>\n",
              "    .dataframe tbody tr th:only-of-type {\n",
              "        vertical-align: middle;\n",
              "    }\n",
              "\n",
              "    .dataframe tbody tr th {\n",
              "        vertical-align: top;\n",
              "    }\n",
              "\n",
              "    .dataframe thead th {\n",
              "        text-align: right;\n",
              "    }\n",
              "</style>\n",
              "<table border=\"1\" class=\"dataframe\">\n",
              "  <thead>\n",
              "    <tr style=\"text-align: right;\">\n",
              "      <th></th>\n",
              "      <th>Income</th>\n",
              "      <th>Limit</th>\n",
              "      <th>Rating</th>\n",
              "      <th>Cards</th>\n",
              "      <th>Age</th>\n",
              "      <th>Education</th>\n",
              "      <th>Gender</th>\n",
              "      <th>Student</th>\n",
              "      <th>Married</th>\n",
              "      <th>Ethnicity</th>\n",
              "      <th>Balance</th>\n",
              "    </tr>\n",
              "  </thead>\n",
              "  <tbody>\n",
              "    <tr>\n",
              "      <th>0</th>\n",
              "      <td>14.891</td>\n",
              "      <td>3606</td>\n",
              "      <td>283</td>\n",
              "      <td>2</td>\n",
              "      <td>34</td>\n",
              "      <td>11</td>\n",
              "      <td>Male</td>\n",
              "      <td>No</td>\n",
              "      <td>Yes</td>\n",
              "      <td>Caucasian</td>\n",
              "      <td>333</td>\n",
              "    </tr>\n",
              "    <tr>\n",
              "      <th>1</th>\n",
              "      <td>106.025</td>\n",
              "      <td>6645</td>\n",
              "      <td>483</td>\n",
              "      <td>3</td>\n",
              "      <td>82</td>\n",
              "      <td>15</td>\n",
              "      <td>Female</td>\n",
              "      <td>Yes</td>\n",
              "      <td>Yes</td>\n",
              "      <td>Asian</td>\n",
              "      <td>903</td>\n",
              "    </tr>\n",
              "    <tr>\n",
              "      <th>2</th>\n",
              "      <td>104.593</td>\n",
              "      <td>7075</td>\n",
              "      <td>514</td>\n",
              "      <td>4</td>\n",
              "      <td>71</td>\n",
              "      <td>11</td>\n",
              "      <td>Male</td>\n",
              "      <td>No</td>\n",
              "      <td>No</td>\n",
              "      <td>Asian</td>\n",
              "      <td>580</td>\n",
              "    </tr>\n",
              "    <tr>\n",
              "      <th>3</th>\n",
              "      <td>148.924</td>\n",
              "      <td>9504</td>\n",
              "      <td>681</td>\n",
              "      <td>3</td>\n",
              "      <td>36</td>\n",
              "      <td>11</td>\n",
              "      <td>Female</td>\n",
              "      <td>No</td>\n",
              "      <td>No</td>\n",
              "      <td>Asian</td>\n",
              "      <td>964</td>\n",
              "    </tr>\n",
              "    <tr>\n",
              "      <th>4</th>\n",
              "      <td>55.882</td>\n",
              "      <td>4897</td>\n",
              "      <td>357</td>\n",
              "      <td>2</td>\n",
              "      <td>68</td>\n",
              "      <td>16</td>\n",
              "      <td>Male</td>\n",
              "      <td>No</td>\n",
              "      <td>Yes</td>\n",
              "      <td>Caucasian</td>\n",
              "      <td>331</td>\n",
              "    </tr>\n",
              "  </tbody>\n",
              "</table>\n",
              "</div>"
            ],
            "text/plain": [
              "    Income  Limit  Rating  Cards  ...  Student  Married  Ethnicity Balance\n",
              "0   14.891   3606     283      2  ...       No      Yes  Caucasian     333\n",
              "1  106.025   6645     483      3  ...      Yes      Yes      Asian     903\n",
              "2  104.593   7075     514      4  ...       No       No      Asian     580\n",
              "3  148.924   9504     681      3  ...       No       No      Asian     964\n",
              "4   55.882   4897     357      2  ...       No      Yes  Caucasian     331\n",
              "\n",
              "[5 rows x 11 columns]"
            ]
          },
          "metadata": {
            "tags": []
          },
          "execution_count": 105
        }
      ]
    },
    {
      "cell_type": "markdown",
      "metadata": {
        "id": "u412UnoqiRBG",
        "colab_type": "text"
      },
      "source": [
        "## a. \n",
        "Hitung nilai minimum, maximum, rata-rata, standar deviasi dari atribut Limit"
      ]
    },
    {
      "cell_type": "code",
      "metadata": {
        "id": "1asO-r2_iA4A",
        "colab_type": "code",
        "outputId": "a5bc524d-4581-478e-a4c0-3fec4c464edb",
        "colab": {
          "base_uri": "https://localhost:8080/",
          "height": 102
        }
      },
      "source": [
        "print(\"Limit :\")\n",
        "print('Min \\t\\t: ', dfc['Limit'].min())\n",
        "print('Max \\t\\t: ', dfc['Limit'].max())\n",
        "print('Mean \\t\\t: ', dfc['Limit'].mean())\n",
        "print('Standar deviasi\\t: ', dfc['Limit'].std())"
      ],
      "execution_count": 0,
      "outputs": [
        {
          "output_type": "stream",
          "text": [
            "Limit :\n",
            "Min \t\t:  855\n",
            "Max \t\t:  13913\n",
            "Mean \t\t:  4735.6\n",
            "Standar deviasi\t:  2308.1988475431426\n"
          ],
          "name": "stdout"
        }
      ]
    },
    {
      "cell_type": "markdown",
      "metadata": {
        "id": "iY3oUjZaiwsg",
        "colab_type": "text"
      },
      "source": [
        "## b. \n",
        "Hitung nilai modus, median, inter-quartile range dari atribut Limit."
      ]
    },
    {
      "cell_type": "code",
      "metadata": {
        "id": "Ates9iIRjhBT",
        "colab_type": "code",
        "outputId": "1bcf9d28-0bb5-48f6-a543-ba11f48620b6",
        "colab": {
          "base_uri": "https://localhost:8080/",
          "height": 289
        }
      },
      "source": [
        "print(\"Limit :\")\n",
        "modes = dfc['Limit'].mode()\n",
        "for n,mode in enumerate(modes):\n",
        "  print('Mode ',n+1,'\\t: ',mode )\n",
        "  \n",
        "print('Median \\t\\t: ', dfc['Limit'].median())\n",
        "\n",
        "limit = dfc['Limit'].values\n",
        "iqr = np.subtract(*np.percentile(limit, [75, 25]))\n",
        "print('IQR \\t\\t: ', iqr)"
      ],
      "execution_count": 0,
      "outputs": [
        {
          "output_type": "stream",
          "text": [
            "Limit :\n",
            "Mode  1 \t:  855\n",
            "Mode  2 \t:  2120\n",
            "Mode  3 \t:  2525\n",
            "Mode  4 \t:  2860\n",
            "Mode  5 \t:  3388\n",
            "Mode  6 \t:  3461\n",
            "Mode  7 \t:  3907\n",
            "Mode  8 \t:  4391\n",
            "Mode  9 \t:  5140\n",
            "Mode  10 \t:  5673\n",
            "Mode  11 \t:  6386\n",
            "Mode  12 \t:  6662\n",
            "Mode  13 \t:  6819\n",
            "Median \t\t:  4622.5\n",
            "IQR \t\t:  2784.75\n"
          ],
          "name": "stdout"
        }
      ]
    },
    {
      "cell_type": "markdown",
      "metadata": {
        "id": "uTQqAIZYi1gK",
        "colab_type": "text"
      },
      "source": [
        "## c. \n",
        "Hitung rata-rata tunggakan (Balance) orang Asia."
      ]
    },
    {
      "cell_type": "code",
      "metadata": {
        "id": "3yqzi5UjjrX0",
        "colab_type": "code",
        "outputId": "cc352b51-3106-4486-9ef6-b9d1349acba5",
        "colab": {
          "base_uri": "https://localhost:8080/",
          "height": 80
        }
      },
      "source": [
        "dfc_asian = dfc[(dfc.Ethnicity == 'Asian')]\n",
        "display(dfc_asian.groupby(['Ethnicity'])['Balance'].mean().reset_index())"
      ],
      "execution_count": 0,
      "outputs": [
        {
          "output_type": "display_data",
          "data": {
            "text/html": [
              "<div>\n",
              "<style scoped>\n",
              "    .dataframe tbody tr th:only-of-type {\n",
              "        vertical-align: middle;\n",
              "    }\n",
              "\n",
              "    .dataframe tbody tr th {\n",
              "        vertical-align: top;\n",
              "    }\n",
              "\n",
              "    .dataframe thead th {\n",
              "        text-align: right;\n",
              "    }\n",
              "</style>\n",
              "<table border=\"1\" class=\"dataframe\">\n",
              "  <thead>\n",
              "    <tr style=\"text-align: right;\">\n",
              "      <th></th>\n",
              "      <th>Ethnicity</th>\n",
              "      <th>Balance</th>\n",
              "    </tr>\n",
              "  </thead>\n",
              "  <tbody>\n",
              "    <tr>\n",
              "      <th>0</th>\n",
              "      <td>Asian</td>\n",
              "      <td>512.313725</td>\n",
              "    </tr>\n",
              "  </tbody>\n",
              "</table>\n",
              "</div>"
            ],
            "text/plain": [
              "  Ethnicity     Balance\n",
              "0     Asian  512.313725"
            ]
          },
          "metadata": {
            "tags": []
          }
        }
      ]
    },
    {
      "cell_type": "markdown",
      "metadata": {
        "id": "Br0GH92Mi7Z3",
        "colab_type": "text"
      },
      "source": [
        "## d. \n",
        "Tentukan koefisien korelasi atribut Income dan Age dengan atribut Balance. Atribut manakah yang lebih berpengaruh pada atribut Balance? Berikan alasannya\n"
      ]
    },
    {
      "cell_type": "code",
      "metadata": {
        "id": "fefCRN6Fj8_c",
        "colab_type": "code",
        "outputId": "52055434-abda-47ad-f6fd-5b67de932ef5",
        "colab": {
          "base_uri": "https://localhost:8080/",
          "height": 51
        }
      },
      "source": [
        "print(\"Corr Income and Balance :\", dfc['Income'].corr(dfc['Balance']))\n",
        "print(\"Corr Age and Balance :\", dfc['Age'].corr(dfc['Balance']))"
      ],
      "execution_count": 0,
      "outputs": [
        {
          "output_type": "stream",
          "text": [
            "Corr Income and Balance : 0.4636564570157573\n",
            "Corr Age and Balance : 0.0018351188590736576\n"
          ],
          "name": "stdout"
        }
      ]
    },
    {
      "cell_type": "markdown",
      "metadata": {
        "id": "X1pF5FiPkCq0",
        "colab_type": "text"
      },
      "source": [
        "**Income lebih berpengaruh**, Alasan : keduanya Income dan age memiliki correlasi positive terhadapa Balance tetapai income memiliki nilai correlasi yang lebih besar, sehingga dapat disimpulkan Income memiliki pengaruh lebih besar dari pada age terhadapa balance"
      ]
    },
    {
      "cell_type": "markdown",
      "metadata": {
        "id": "S4xNqya-jDJh",
        "colab_type": "text"
      },
      "source": [
        "## e. \n",
        "Misalkan nilai atribut Cards dari pelanggan ke-1 kosong (missing value), diisi dengan nilai berapakah nilai kosong tersebut?"
      ]
    },
    {
      "cell_type": "code",
      "metadata": {
        "id": "w6yZzCqdkXsA",
        "colab_type": "code",
        "outputId": "6ad91fe0-92ad-46ac-80cc-c0ce12042849",
        "colab": {
          "base_uri": "https://localhost:8080/",
          "height": 34
        }
      },
      "source": [
        "print('Mean Card : ',round(dfc['Cards'].mean()))"
      ],
      "execution_count": 0,
      "outputs": [
        {
          "output_type": "stream",
          "text": [
            "Mean Card :  3\n"
          ],
          "name": "stdout"
        }
      ]
    },
    {
      "cell_type": "markdown",
      "metadata": {
        "id": "HP0CQ9nTkcYI",
        "colab_type": "text"
      },
      "source": [
        "Pada nilai Card pelanggan ke-1 bisa diisi dengan rerata dari semua niali cards **yaitu 3**"
      ]
    },
    {
      "cell_type": "markdown",
      "metadata": {
        "id": "jOS8sYk_jVRu",
        "colab_type": "text"
      },
      "source": [
        "## f. \n",
        "Tentukan nilai Age dari pelanggan ke-2 jika atribut Age dinormalisasi menggunakan min-max.\n"
      ]
    },
    {
      "cell_type": "code",
      "metadata": {
        "id": "qMQX8DnjkpqS",
        "colab_type": "code",
        "outputId": "a5692c81-f80a-4fab-e66f-02a84428ae77",
        "colab": {
          "base_uri": "https://localhost:8080/",
          "height": 102
        }
      },
      "source": [
        "min_max_scaler = preprocessing.MinMaxScaler()\n",
        "ages = dfc[[\"Age\"]]\n",
        "ages_normalize = min_max_scaler.fit_transform(ages)\n",
        "ages_normalize[:5]"
      ],
      "execution_count": 0,
      "outputs": [
        {
          "output_type": "execute_result",
          "data": {
            "text/plain": [
              "array([[0.147],\n",
              "       [0.787],\n",
              "       [0.64 ],\n",
              "       [0.173],\n",
              "       [0.6  ]])"
            ]
          },
          "metadata": {
            "tags": []
          },
          "execution_count": 111
        }
      ]
    },
    {
      "cell_type": "markdown",
      "metadata": {
        "id": "oVRslsvwkwUa",
        "colab_type": "text"
      },
      "source": [
        "Age dari pelanggan ke-2 setelah minmax normalize adalah **0.78666667**"
      ]
    },
    {
      "cell_type": "markdown",
      "metadata": {
        "id": "wV-OdKDJja3H",
        "colab_type": "text"
      },
      "source": [
        "## g. \n",
        "Lakukan diskritisasi pada atribut Age menjadi 3 kategori umur, yaitu muda = [20, 35], sedang = [36, 55], tua = [56, 100]. Tentukan jumlah pelanggan pada masing-masing ketegori usia"
      ]
    },
    {
      "cell_type": "code",
      "metadata": {
        "id": "lUp3M0c4h020",
        "colab_type": "code",
        "outputId": "fe6af9d9-360f-4f39-cd77-a4a59b10325a",
        "colab": {
          "base_uri": "https://localhost:8080/",
          "height": 204
        }
      },
      "source": [
        "bins = [20, 36, 56, 100]\n",
        "\n",
        "labels = ['Muda', 'Sedang', 'Tua']\n",
        "dfc['Age_cat'] = pd.cut(dfc.Age, bins, labels = labels,include_lowest = True)\n",
        "dfc.head()"
      ],
      "execution_count": 0,
      "outputs": [
        {
          "output_type": "execute_result",
          "data": {
            "text/html": [
              "<div>\n",
              "<style scoped>\n",
              "    .dataframe tbody tr th:only-of-type {\n",
              "        vertical-align: middle;\n",
              "    }\n",
              "\n",
              "    .dataframe tbody tr th {\n",
              "        vertical-align: top;\n",
              "    }\n",
              "\n",
              "    .dataframe thead th {\n",
              "        text-align: right;\n",
              "    }\n",
              "</style>\n",
              "<table border=\"1\" class=\"dataframe\">\n",
              "  <thead>\n",
              "    <tr style=\"text-align: right;\">\n",
              "      <th></th>\n",
              "      <th>Income</th>\n",
              "      <th>Limit</th>\n",
              "      <th>Rating</th>\n",
              "      <th>Cards</th>\n",
              "      <th>Age</th>\n",
              "      <th>Education</th>\n",
              "      <th>Gender</th>\n",
              "      <th>Student</th>\n",
              "      <th>Married</th>\n",
              "      <th>Ethnicity</th>\n",
              "      <th>Balance</th>\n",
              "      <th>Age_cat</th>\n",
              "    </tr>\n",
              "  </thead>\n",
              "  <tbody>\n",
              "    <tr>\n",
              "      <th>0</th>\n",
              "      <td>14.891</td>\n",
              "      <td>3606</td>\n",
              "      <td>283</td>\n",
              "      <td>2</td>\n",
              "      <td>34</td>\n",
              "      <td>11</td>\n",
              "      <td>Male</td>\n",
              "      <td>No</td>\n",
              "      <td>Yes</td>\n",
              "      <td>Caucasian</td>\n",
              "      <td>333</td>\n",
              "      <td>Muda</td>\n",
              "    </tr>\n",
              "    <tr>\n",
              "      <th>1</th>\n",
              "      <td>106.025</td>\n",
              "      <td>6645</td>\n",
              "      <td>483</td>\n",
              "      <td>3</td>\n",
              "      <td>82</td>\n",
              "      <td>15</td>\n",
              "      <td>Female</td>\n",
              "      <td>Yes</td>\n",
              "      <td>Yes</td>\n",
              "      <td>Asian</td>\n",
              "      <td>903</td>\n",
              "      <td>Tua</td>\n",
              "    </tr>\n",
              "    <tr>\n",
              "      <th>2</th>\n",
              "      <td>104.593</td>\n",
              "      <td>7075</td>\n",
              "      <td>514</td>\n",
              "      <td>4</td>\n",
              "      <td>71</td>\n",
              "      <td>11</td>\n",
              "      <td>Male</td>\n",
              "      <td>No</td>\n",
              "      <td>No</td>\n",
              "      <td>Asian</td>\n",
              "      <td>580</td>\n",
              "      <td>Tua</td>\n",
              "    </tr>\n",
              "    <tr>\n",
              "      <th>3</th>\n",
              "      <td>148.924</td>\n",
              "      <td>9504</td>\n",
              "      <td>681</td>\n",
              "      <td>3</td>\n",
              "      <td>36</td>\n",
              "      <td>11</td>\n",
              "      <td>Female</td>\n",
              "      <td>No</td>\n",
              "      <td>No</td>\n",
              "      <td>Asian</td>\n",
              "      <td>964</td>\n",
              "      <td>Muda</td>\n",
              "    </tr>\n",
              "    <tr>\n",
              "      <th>4</th>\n",
              "      <td>55.882</td>\n",
              "      <td>4897</td>\n",
              "      <td>357</td>\n",
              "      <td>2</td>\n",
              "      <td>68</td>\n",
              "      <td>16</td>\n",
              "      <td>Male</td>\n",
              "      <td>No</td>\n",
              "      <td>Yes</td>\n",
              "      <td>Caucasian</td>\n",
              "      <td>331</td>\n",
              "      <td>Tua</td>\n",
              "    </tr>\n",
              "  </tbody>\n",
              "</table>\n",
              "</div>"
            ],
            "text/plain": [
              "    Income  Limit  Rating  Cards  ...  Married  Ethnicity Balance Age_cat\n",
              "0   14.891   3606     283      2  ...      Yes  Caucasian     333    Muda\n",
              "1  106.025   6645     483      3  ...      Yes      Asian     903     Tua\n",
              "2  104.593   7075     514      4  ...       No      Asian     580     Tua\n",
              "3  148.924   9504     681      3  ...       No      Asian     964    Muda\n",
              "4   55.882   4897     357      2  ...      Yes  Caucasian     331     Tua\n",
              "\n",
              "[5 rows x 12 columns]"
            ]
          },
          "metadata": {
            "tags": []
          },
          "execution_count": 112
        }
      ]
    },
    {
      "cell_type": "code",
      "metadata": {
        "id": "ovWH7bjhk5dP",
        "colab_type": "code",
        "outputId": "917dfd37-d930-4b6c-d880-8e14dc6698a3",
        "colab": {
          "base_uri": "https://localhost:8080/",
          "height": 102
        }
      },
      "source": [
        "dfc.groupby('Age_cat').Age_cat.agg('count')"
      ],
      "execution_count": 0,
      "outputs": [
        {
          "output_type": "execute_result",
          "data": {
            "text/plain": [
              "Age_cat\n",
              "Muda       67\n",
              "Sedang    139\n",
              "Tua       194\n",
              "Name: Age_cat, dtype: int64"
            ]
          },
          "metadata": {
            "tags": []
          },
          "execution_count": 113
        }
      ]
    },
    {
      "cell_type": "markdown",
      "metadata": {
        "id": "o4h--ZLclZXQ",
        "colab_type": "text"
      },
      "source": [
        "# Nomor 4"
      ]
    },
    {
      "cell_type": "code",
      "metadata": {
        "id": "lTRWB4Bflqwu",
        "colab_type": "code",
        "outputId": "e9f8db7c-6cc6-4824-e38c-4862babefeb4",
        "colab": {
          "base_uri": "https://localhost:8080/",
          "height": 204
        }
      },
      "source": [
        "df = pd.read_csv('/content/drive/My Drive/Data Science/bank-data.csv')\n",
        "df.head()"
      ],
      "execution_count": 0,
      "outputs": [
        {
          "output_type": "execute_result",
          "data": {
            "text/html": [
              "<div>\n",
              "<style scoped>\n",
              "    .dataframe tbody tr th:only-of-type {\n",
              "        vertical-align: middle;\n",
              "    }\n",
              "\n",
              "    .dataframe tbody tr th {\n",
              "        vertical-align: top;\n",
              "    }\n",
              "\n",
              "    .dataframe thead th {\n",
              "        text-align: right;\n",
              "    }\n",
              "</style>\n",
              "<table border=\"1\" class=\"dataframe\">\n",
              "  <thead>\n",
              "    <tr style=\"text-align: right;\">\n",
              "      <th></th>\n",
              "      <th>id</th>\n",
              "      <th>age</th>\n",
              "      <th>sex</th>\n",
              "      <th>region</th>\n",
              "      <th>income</th>\n",
              "      <th>married</th>\n",
              "      <th>children</th>\n",
              "      <th>car</th>\n",
              "      <th>save_act</th>\n",
              "      <th>current_act</th>\n",
              "      <th>mortgage</th>\n",
              "      <th>pep</th>\n",
              "    </tr>\n",
              "  </thead>\n",
              "  <tbody>\n",
              "    <tr>\n",
              "      <th>0</th>\n",
              "      <td>ID12101</td>\n",
              "      <td>48</td>\n",
              "      <td>FEMALE</td>\n",
              "      <td>INNER_CITY</td>\n",
              "      <td>17546.0</td>\n",
              "      <td>NO</td>\n",
              "      <td>1</td>\n",
              "      <td>NO</td>\n",
              "      <td>NO</td>\n",
              "      <td>NO</td>\n",
              "      <td>NO</td>\n",
              "      <td>YES</td>\n",
              "    </tr>\n",
              "    <tr>\n",
              "      <th>1</th>\n",
              "      <td>ID12102</td>\n",
              "      <td>40</td>\n",
              "      <td>MALE</td>\n",
              "      <td>TOWN</td>\n",
              "      <td>30085.1</td>\n",
              "      <td>YES</td>\n",
              "      <td>3</td>\n",
              "      <td>YES</td>\n",
              "      <td>NO</td>\n",
              "      <td>YES</td>\n",
              "      <td>YES</td>\n",
              "      <td>NO</td>\n",
              "    </tr>\n",
              "    <tr>\n",
              "      <th>2</th>\n",
              "      <td>ID12103</td>\n",
              "      <td>51</td>\n",
              "      <td>FEMALE</td>\n",
              "      <td>INNER_CITY</td>\n",
              "      <td>16575.4</td>\n",
              "      <td>YES</td>\n",
              "      <td>0</td>\n",
              "      <td>YES</td>\n",
              "      <td>YES</td>\n",
              "      <td>YES</td>\n",
              "      <td>NO</td>\n",
              "      <td>NO</td>\n",
              "    </tr>\n",
              "    <tr>\n",
              "      <th>3</th>\n",
              "      <td>ID12104</td>\n",
              "      <td>23</td>\n",
              "      <td>FEMALE</td>\n",
              "      <td>TOWN</td>\n",
              "      <td>20375.4</td>\n",
              "      <td>YES</td>\n",
              "      <td>3</td>\n",
              "      <td>NO</td>\n",
              "      <td>NO</td>\n",
              "      <td>YES</td>\n",
              "      <td>NO</td>\n",
              "      <td>NO</td>\n",
              "    </tr>\n",
              "    <tr>\n",
              "      <th>4</th>\n",
              "      <td>ID12105</td>\n",
              "      <td>57</td>\n",
              "      <td>FEMALE</td>\n",
              "      <td>RURAL</td>\n",
              "      <td>50576.3</td>\n",
              "      <td>YES</td>\n",
              "      <td>0</td>\n",
              "      <td>NO</td>\n",
              "      <td>YES</td>\n",
              "      <td>NO</td>\n",
              "      <td>NO</td>\n",
              "      <td>NO</td>\n",
              "    </tr>\n",
              "  </tbody>\n",
              "</table>\n",
              "</div>"
            ],
            "text/plain": [
              "        id  age     sex      region  ...  save_act current_act  mortgage  pep\n",
              "0  ID12101   48  FEMALE  INNER_CITY  ...        NO          NO        NO  YES\n",
              "1  ID12102   40    MALE        TOWN  ...        NO         YES       YES   NO\n",
              "2  ID12103   51  FEMALE  INNER_CITY  ...       YES         YES        NO   NO\n",
              "3  ID12104   23  FEMALE        TOWN  ...        NO         YES        NO   NO\n",
              "4  ID12105   57  FEMALE       RURAL  ...       YES          NO        NO   NO\n",
              "\n",
              "[5 rows x 12 columns]"
            ]
          },
          "metadata": {
            "tags": []
          },
          "execution_count": 114
        }
      ]
    },
    {
      "cell_type": "markdown",
      "metadata": {
        "id": "47csjbzXlw0a",
        "colab_type": "text"
      },
      "source": [
        "## Preprocessing"
      ]
    },
    {
      "cell_type": "code",
      "metadata": {
        "id": "D94gPt4Ulzrm",
        "colab_type": "code",
        "outputId": "92b5e48a-1dcb-4487-9735-bd06acd8aa1a",
        "colab": {
          "base_uri": "https://localhost:8080/",
          "height": 359
        }
      },
      "source": [
        "df_pre = df\n",
        "le = preprocessing.LabelEncoder() \n",
        "# ubah colomn bernilai categorical menjadi numerik\n",
        "cat_col = ['sex','married', 'car', 'save_act', 'current_act','mortgage','pep']\n",
        "df_pre[cat_col] = df_pre[cat_col].apply(lambda col: le.fit_transform(col))\n",
        "df_pre.head(10)"
      ],
      "execution_count": 0,
      "outputs": [
        {
          "output_type": "execute_result",
          "data": {
            "text/html": [
              "<div>\n",
              "<style scoped>\n",
              "    .dataframe tbody tr th:only-of-type {\n",
              "        vertical-align: middle;\n",
              "    }\n",
              "\n",
              "    .dataframe tbody tr th {\n",
              "        vertical-align: top;\n",
              "    }\n",
              "\n",
              "    .dataframe thead th {\n",
              "        text-align: right;\n",
              "    }\n",
              "</style>\n",
              "<table border=\"1\" class=\"dataframe\">\n",
              "  <thead>\n",
              "    <tr style=\"text-align: right;\">\n",
              "      <th></th>\n",
              "      <th>id</th>\n",
              "      <th>age</th>\n",
              "      <th>sex</th>\n",
              "      <th>region</th>\n",
              "      <th>income</th>\n",
              "      <th>married</th>\n",
              "      <th>children</th>\n",
              "      <th>car</th>\n",
              "      <th>save_act</th>\n",
              "      <th>current_act</th>\n",
              "      <th>mortgage</th>\n",
              "      <th>pep</th>\n",
              "    </tr>\n",
              "  </thead>\n",
              "  <tbody>\n",
              "    <tr>\n",
              "      <th>0</th>\n",
              "      <td>ID12101</td>\n",
              "      <td>48</td>\n",
              "      <td>0</td>\n",
              "      <td>INNER_CITY</td>\n",
              "      <td>17546.00</td>\n",
              "      <td>0</td>\n",
              "      <td>1</td>\n",
              "      <td>0</td>\n",
              "      <td>0</td>\n",
              "      <td>0</td>\n",
              "      <td>0</td>\n",
              "      <td>1</td>\n",
              "    </tr>\n",
              "    <tr>\n",
              "      <th>1</th>\n",
              "      <td>ID12102</td>\n",
              "      <td>40</td>\n",
              "      <td>1</td>\n",
              "      <td>TOWN</td>\n",
              "      <td>30085.10</td>\n",
              "      <td>1</td>\n",
              "      <td>3</td>\n",
              "      <td>1</td>\n",
              "      <td>0</td>\n",
              "      <td>1</td>\n",
              "      <td>1</td>\n",
              "      <td>0</td>\n",
              "    </tr>\n",
              "    <tr>\n",
              "      <th>2</th>\n",
              "      <td>ID12103</td>\n",
              "      <td>51</td>\n",
              "      <td>0</td>\n",
              "      <td>INNER_CITY</td>\n",
              "      <td>16575.40</td>\n",
              "      <td>1</td>\n",
              "      <td>0</td>\n",
              "      <td>1</td>\n",
              "      <td>1</td>\n",
              "      <td>1</td>\n",
              "      <td>0</td>\n",
              "      <td>0</td>\n",
              "    </tr>\n",
              "    <tr>\n",
              "      <th>3</th>\n",
              "      <td>ID12104</td>\n",
              "      <td>23</td>\n",
              "      <td>0</td>\n",
              "      <td>TOWN</td>\n",
              "      <td>20375.40</td>\n",
              "      <td>1</td>\n",
              "      <td>3</td>\n",
              "      <td>0</td>\n",
              "      <td>0</td>\n",
              "      <td>1</td>\n",
              "      <td>0</td>\n",
              "      <td>0</td>\n",
              "    </tr>\n",
              "    <tr>\n",
              "      <th>4</th>\n",
              "      <td>ID12105</td>\n",
              "      <td>57</td>\n",
              "      <td>0</td>\n",
              "      <td>RURAL</td>\n",
              "      <td>50576.30</td>\n",
              "      <td>1</td>\n",
              "      <td>0</td>\n",
              "      <td>0</td>\n",
              "      <td>1</td>\n",
              "      <td>0</td>\n",
              "      <td>0</td>\n",
              "      <td>0</td>\n",
              "    </tr>\n",
              "    <tr>\n",
              "      <th>5</th>\n",
              "      <td>ID12106</td>\n",
              "      <td>57</td>\n",
              "      <td>0</td>\n",
              "      <td>TOWN</td>\n",
              "      <td>37869.60</td>\n",
              "      <td>1</td>\n",
              "      <td>2</td>\n",
              "      <td>0</td>\n",
              "      <td>1</td>\n",
              "      <td>1</td>\n",
              "      <td>0</td>\n",
              "      <td>1</td>\n",
              "    </tr>\n",
              "    <tr>\n",
              "      <th>6</th>\n",
              "      <td>ID12107</td>\n",
              "      <td>22</td>\n",
              "      <td>1</td>\n",
              "      <td>RURAL</td>\n",
              "      <td>8877.07</td>\n",
              "      <td>0</td>\n",
              "      <td>0</td>\n",
              "      <td>0</td>\n",
              "      <td>0</td>\n",
              "      <td>1</td>\n",
              "      <td>0</td>\n",
              "      <td>1</td>\n",
              "    </tr>\n",
              "    <tr>\n",
              "      <th>7</th>\n",
              "      <td>ID12108</td>\n",
              "      <td>58</td>\n",
              "      <td>1</td>\n",
              "      <td>TOWN</td>\n",
              "      <td>24946.60</td>\n",
              "      <td>1</td>\n",
              "      <td>0</td>\n",
              "      <td>1</td>\n",
              "      <td>1</td>\n",
              "      <td>1</td>\n",
              "      <td>0</td>\n",
              "      <td>0</td>\n",
              "    </tr>\n",
              "    <tr>\n",
              "      <th>8</th>\n",
              "      <td>ID12109</td>\n",
              "      <td>37</td>\n",
              "      <td>0</td>\n",
              "      <td>SUBURBAN</td>\n",
              "      <td>25304.30</td>\n",
              "      <td>1</td>\n",
              "      <td>2</td>\n",
              "      <td>1</td>\n",
              "      <td>0</td>\n",
              "      <td>0</td>\n",
              "      <td>0</td>\n",
              "      <td>0</td>\n",
              "    </tr>\n",
              "    <tr>\n",
              "      <th>9</th>\n",
              "      <td>ID12110</td>\n",
              "      <td>54</td>\n",
              "      <td>1</td>\n",
              "      <td>TOWN</td>\n",
              "      <td>24212.10</td>\n",
              "      <td>1</td>\n",
              "      <td>2</td>\n",
              "      <td>1</td>\n",
              "      <td>1</td>\n",
              "      <td>1</td>\n",
              "      <td>0</td>\n",
              "      <td>0</td>\n",
              "    </tr>\n",
              "  </tbody>\n",
              "</table>\n",
              "</div>"
            ],
            "text/plain": [
              "        id  age  sex      region  ...  save_act  current_act  mortgage  pep\n",
              "0  ID12101   48    0  INNER_CITY  ...         0            0         0    1\n",
              "1  ID12102   40    1        TOWN  ...         0            1         1    0\n",
              "2  ID12103   51    0  INNER_CITY  ...         1            1         0    0\n",
              "3  ID12104   23    0        TOWN  ...         0            1         0    0\n",
              "4  ID12105   57    0       RURAL  ...         1            0         0    0\n",
              "5  ID12106   57    0        TOWN  ...         1            1         0    1\n",
              "6  ID12107   22    1       RURAL  ...         0            1         0    1\n",
              "7  ID12108   58    1        TOWN  ...         1            1         0    0\n",
              "8  ID12109   37    0    SUBURBAN  ...         0            0         0    0\n",
              "9  ID12110   54    1        TOWN  ...         1            1         0    0\n",
              "\n",
              "[10 rows x 12 columns]"
            ]
          },
          "metadata": {
            "tags": []
          },
          "execution_count": 115
        }
      ]
    },
    {
      "cell_type": "code",
      "metadata": {
        "id": "Q4gaAO2H4y1S",
        "colab_type": "code",
        "outputId": "cfe25901-0bfa-4faf-e484-0fc1b63b5b5e",
        "colab": {
          "base_uri": "https://localhost:8080/",
          "height": 204
        }
      },
      "source": [
        "# creating instance of one-hot-encoder\n",
        "enc = preprocessing.OneHotEncoder(handle_unknown='ignore')\n",
        "# passing bridge-types-cat column (label encoded values of bridge_types)\n",
        "enc_df = pd.DataFrame(enc.fit_transform(df_pre[['region']]).toarray())\n",
        "# merge with main df bridge_df on key values\n",
        "df_pre = df_pre.join(enc_df)\n",
        "df_pre.head()"
      ],
      "execution_count": 0,
      "outputs": [
        {
          "output_type": "execute_result",
          "data": {
            "text/html": [
              "<div>\n",
              "<style scoped>\n",
              "    .dataframe tbody tr th:only-of-type {\n",
              "        vertical-align: middle;\n",
              "    }\n",
              "\n",
              "    .dataframe tbody tr th {\n",
              "        vertical-align: top;\n",
              "    }\n",
              "\n",
              "    .dataframe thead th {\n",
              "        text-align: right;\n",
              "    }\n",
              "</style>\n",
              "<table border=\"1\" class=\"dataframe\">\n",
              "  <thead>\n",
              "    <tr style=\"text-align: right;\">\n",
              "      <th></th>\n",
              "      <th>id</th>\n",
              "      <th>age</th>\n",
              "      <th>sex</th>\n",
              "      <th>region</th>\n",
              "      <th>income</th>\n",
              "      <th>married</th>\n",
              "      <th>children</th>\n",
              "      <th>car</th>\n",
              "      <th>save_act</th>\n",
              "      <th>current_act</th>\n",
              "      <th>mortgage</th>\n",
              "      <th>pep</th>\n",
              "      <th>0</th>\n",
              "      <th>1</th>\n",
              "      <th>2</th>\n",
              "      <th>3</th>\n",
              "    </tr>\n",
              "  </thead>\n",
              "  <tbody>\n",
              "    <tr>\n",
              "      <th>0</th>\n",
              "      <td>ID12101</td>\n",
              "      <td>48</td>\n",
              "      <td>0</td>\n",
              "      <td>INNER_CITY</td>\n",
              "      <td>17546.0</td>\n",
              "      <td>0</td>\n",
              "      <td>1</td>\n",
              "      <td>0</td>\n",
              "      <td>0</td>\n",
              "      <td>0</td>\n",
              "      <td>0</td>\n",
              "      <td>1</td>\n",
              "      <td>1.0</td>\n",
              "      <td>0.0</td>\n",
              "      <td>0.0</td>\n",
              "      <td>0.0</td>\n",
              "    </tr>\n",
              "    <tr>\n",
              "      <th>1</th>\n",
              "      <td>ID12102</td>\n",
              "      <td>40</td>\n",
              "      <td>1</td>\n",
              "      <td>TOWN</td>\n",
              "      <td>30085.1</td>\n",
              "      <td>1</td>\n",
              "      <td>3</td>\n",
              "      <td>1</td>\n",
              "      <td>0</td>\n",
              "      <td>1</td>\n",
              "      <td>1</td>\n",
              "      <td>0</td>\n",
              "      <td>0.0</td>\n",
              "      <td>0.0</td>\n",
              "      <td>0.0</td>\n",
              "      <td>1.0</td>\n",
              "    </tr>\n",
              "    <tr>\n",
              "      <th>2</th>\n",
              "      <td>ID12103</td>\n",
              "      <td>51</td>\n",
              "      <td>0</td>\n",
              "      <td>INNER_CITY</td>\n",
              "      <td>16575.4</td>\n",
              "      <td>1</td>\n",
              "      <td>0</td>\n",
              "      <td>1</td>\n",
              "      <td>1</td>\n",
              "      <td>1</td>\n",
              "      <td>0</td>\n",
              "      <td>0</td>\n",
              "      <td>1.0</td>\n",
              "      <td>0.0</td>\n",
              "      <td>0.0</td>\n",
              "      <td>0.0</td>\n",
              "    </tr>\n",
              "    <tr>\n",
              "      <th>3</th>\n",
              "      <td>ID12104</td>\n",
              "      <td>23</td>\n",
              "      <td>0</td>\n",
              "      <td>TOWN</td>\n",
              "      <td>20375.4</td>\n",
              "      <td>1</td>\n",
              "      <td>3</td>\n",
              "      <td>0</td>\n",
              "      <td>0</td>\n",
              "      <td>1</td>\n",
              "      <td>0</td>\n",
              "      <td>0</td>\n",
              "      <td>0.0</td>\n",
              "      <td>0.0</td>\n",
              "      <td>0.0</td>\n",
              "      <td>1.0</td>\n",
              "    </tr>\n",
              "    <tr>\n",
              "      <th>4</th>\n",
              "      <td>ID12105</td>\n",
              "      <td>57</td>\n",
              "      <td>0</td>\n",
              "      <td>RURAL</td>\n",
              "      <td>50576.3</td>\n",
              "      <td>1</td>\n",
              "      <td>0</td>\n",
              "      <td>0</td>\n",
              "      <td>1</td>\n",
              "      <td>0</td>\n",
              "      <td>0</td>\n",
              "      <td>0</td>\n",
              "      <td>0.0</td>\n",
              "      <td>1.0</td>\n",
              "      <td>0.0</td>\n",
              "      <td>0.0</td>\n",
              "    </tr>\n",
              "  </tbody>\n",
              "</table>\n",
              "</div>"
            ],
            "text/plain": [
              "        id  age  sex      region   income  ...  pep    0    1    2    3\n",
              "0  ID12101   48    0  INNER_CITY  17546.0  ...    1  1.0  0.0  0.0  0.0\n",
              "1  ID12102   40    1        TOWN  30085.1  ...    0  0.0  0.0  0.0  1.0\n",
              "2  ID12103   51    0  INNER_CITY  16575.4  ...    0  1.0  0.0  0.0  0.0\n",
              "3  ID12104   23    0        TOWN  20375.4  ...    0  0.0  0.0  0.0  1.0\n",
              "4  ID12105   57    0       RURAL  50576.3  ...    0  0.0  1.0  0.0  0.0\n",
              "\n",
              "[5 rows x 16 columns]"
            ]
          },
          "metadata": {
            "tags": []
          },
          "execution_count": 116
        }
      ]
    },
    {
      "cell_type": "code",
      "metadata": {
        "id": "PWmfnEPqJ6Ah",
        "colab_type": "code",
        "outputId": "28acbf0b-2a00-4f50-ed29-eae8ee725749",
        "colab": {
          "base_uri": "https://localhost:8080/",
          "height": 204
        }
      },
      "source": [
        "df_pre = df_pre.drop(['id','region'], axis = 1) # drop colomn id yang tidak di perlukan\n",
        "df_pre.head()"
      ],
      "execution_count": 0,
      "outputs": [
        {
          "output_type": "execute_result",
          "data": {
            "text/html": [
              "<div>\n",
              "<style scoped>\n",
              "    .dataframe tbody tr th:only-of-type {\n",
              "        vertical-align: middle;\n",
              "    }\n",
              "\n",
              "    .dataframe tbody tr th {\n",
              "        vertical-align: top;\n",
              "    }\n",
              "\n",
              "    .dataframe thead th {\n",
              "        text-align: right;\n",
              "    }\n",
              "</style>\n",
              "<table border=\"1\" class=\"dataframe\">\n",
              "  <thead>\n",
              "    <tr style=\"text-align: right;\">\n",
              "      <th></th>\n",
              "      <th>age</th>\n",
              "      <th>sex</th>\n",
              "      <th>income</th>\n",
              "      <th>married</th>\n",
              "      <th>children</th>\n",
              "      <th>car</th>\n",
              "      <th>save_act</th>\n",
              "      <th>current_act</th>\n",
              "      <th>mortgage</th>\n",
              "      <th>pep</th>\n",
              "      <th>0</th>\n",
              "      <th>1</th>\n",
              "      <th>2</th>\n",
              "      <th>3</th>\n",
              "    </tr>\n",
              "  </thead>\n",
              "  <tbody>\n",
              "    <tr>\n",
              "      <th>0</th>\n",
              "      <td>48</td>\n",
              "      <td>0</td>\n",
              "      <td>17546.0</td>\n",
              "      <td>0</td>\n",
              "      <td>1</td>\n",
              "      <td>0</td>\n",
              "      <td>0</td>\n",
              "      <td>0</td>\n",
              "      <td>0</td>\n",
              "      <td>1</td>\n",
              "      <td>1.0</td>\n",
              "      <td>0.0</td>\n",
              "      <td>0.0</td>\n",
              "      <td>0.0</td>\n",
              "    </tr>\n",
              "    <tr>\n",
              "      <th>1</th>\n",
              "      <td>40</td>\n",
              "      <td>1</td>\n",
              "      <td>30085.1</td>\n",
              "      <td>1</td>\n",
              "      <td>3</td>\n",
              "      <td>1</td>\n",
              "      <td>0</td>\n",
              "      <td>1</td>\n",
              "      <td>1</td>\n",
              "      <td>0</td>\n",
              "      <td>0.0</td>\n",
              "      <td>0.0</td>\n",
              "      <td>0.0</td>\n",
              "      <td>1.0</td>\n",
              "    </tr>\n",
              "    <tr>\n",
              "      <th>2</th>\n",
              "      <td>51</td>\n",
              "      <td>0</td>\n",
              "      <td>16575.4</td>\n",
              "      <td>1</td>\n",
              "      <td>0</td>\n",
              "      <td>1</td>\n",
              "      <td>1</td>\n",
              "      <td>1</td>\n",
              "      <td>0</td>\n",
              "      <td>0</td>\n",
              "      <td>1.0</td>\n",
              "      <td>0.0</td>\n",
              "      <td>0.0</td>\n",
              "      <td>0.0</td>\n",
              "    </tr>\n",
              "    <tr>\n",
              "      <th>3</th>\n",
              "      <td>23</td>\n",
              "      <td>0</td>\n",
              "      <td>20375.4</td>\n",
              "      <td>1</td>\n",
              "      <td>3</td>\n",
              "      <td>0</td>\n",
              "      <td>0</td>\n",
              "      <td>1</td>\n",
              "      <td>0</td>\n",
              "      <td>0</td>\n",
              "      <td>0.0</td>\n",
              "      <td>0.0</td>\n",
              "      <td>0.0</td>\n",
              "      <td>1.0</td>\n",
              "    </tr>\n",
              "    <tr>\n",
              "      <th>4</th>\n",
              "      <td>57</td>\n",
              "      <td>0</td>\n",
              "      <td>50576.3</td>\n",
              "      <td>1</td>\n",
              "      <td>0</td>\n",
              "      <td>0</td>\n",
              "      <td>1</td>\n",
              "      <td>0</td>\n",
              "      <td>0</td>\n",
              "      <td>0</td>\n",
              "      <td>0.0</td>\n",
              "      <td>1.0</td>\n",
              "      <td>0.0</td>\n",
              "      <td>0.0</td>\n",
              "    </tr>\n",
              "  </tbody>\n",
              "</table>\n",
              "</div>"
            ],
            "text/plain": [
              "   age  sex   income  married  children  car  ...  mortgage  pep    0    1    2    3\n",
              "0   48    0  17546.0        0         1    0  ...         0    1  1.0  0.0  0.0  0.0\n",
              "1   40    1  30085.1        1         3    1  ...         1    0  0.0  0.0  0.0  1.0\n",
              "2   51    0  16575.4        1         0    1  ...         0    0  1.0  0.0  0.0  0.0\n",
              "3   23    0  20375.4        1         3    0  ...         0    0  0.0  0.0  0.0  1.0\n",
              "4   57    0  50576.3        1         0    0  ...         0    0  0.0  1.0  0.0  0.0\n",
              "\n",
              "[5 rows x 14 columns]"
            ]
          },
          "metadata": {
            "tags": []
          },
          "execution_count": 117
        }
      ]
    },
    {
      "cell_type": "code",
      "metadata": {
        "id": "EFAxVcQBmUzM",
        "colab_type": "code",
        "outputId": "d39c6e5c-6d6e-450d-d4df-1a3dec8af8bd",
        "colab": {
          "base_uri": "https://localhost:8080/",
          "height": 204
        }
      },
      "source": [
        "# Melakukan normalisai pada colomn age dan income\n",
        "min_max_scaler = preprocessing.MinMaxScaler()\n",
        "df_pre['age'] = min_max_scaler.fit_transform(df_pre[[\"age\"]])\n",
        "df_pre['income'] = min_max_scaler.fit_transform(df_pre[[\"income\"]])\n",
        "df_pre.head()"
      ],
      "execution_count": 0,
      "outputs": [
        {
          "output_type": "execute_result",
          "data": {
            "text/html": [
              "<div>\n",
              "<style scoped>\n",
              "    .dataframe tbody tr th:only-of-type {\n",
              "        vertical-align: middle;\n",
              "    }\n",
              "\n",
              "    .dataframe tbody tr th {\n",
              "        vertical-align: top;\n",
              "    }\n",
              "\n",
              "    .dataframe thead th {\n",
              "        text-align: right;\n",
              "    }\n",
              "</style>\n",
              "<table border=\"1\" class=\"dataframe\">\n",
              "  <thead>\n",
              "    <tr style=\"text-align: right;\">\n",
              "      <th></th>\n",
              "      <th>age</th>\n",
              "      <th>sex</th>\n",
              "      <th>income</th>\n",
              "      <th>married</th>\n",
              "      <th>children</th>\n",
              "      <th>car</th>\n",
              "      <th>save_act</th>\n",
              "      <th>current_act</th>\n",
              "      <th>mortgage</th>\n",
              "      <th>pep</th>\n",
              "      <th>0</th>\n",
              "      <th>1</th>\n",
              "      <th>2</th>\n",
              "      <th>3</th>\n",
              "    </tr>\n",
              "  </thead>\n",
              "  <tbody>\n",
              "    <tr>\n",
              "      <th>0</th>\n",
              "      <td>0.612245</td>\n",
              "      <td>0</td>\n",
              "      <td>0.215634</td>\n",
              "      <td>0</td>\n",
              "      <td>1</td>\n",
              "      <td>0</td>\n",
              "      <td>0</td>\n",
              "      <td>0</td>\n",
              "      <td>0</td>\n",
              "      <td>1</td>\n",
              "      <td>1.0</td>\n",
              "      <td>0.0</td>\n",
              "      <td>0.0</td>\n",
              "      <td>0.0</td>\n",
              "    </tr>\n",
              "    <tr>\n",
              "      <th>1</th>\n",
              "      <td>0.448980</td>\n",
              "      <td>1</td>\n",
              "      <td>0.431395</td>\n",
              "      <td>1</td>\n",
              "      <td>3</td>\n",
              "      <td>1</td>\n",
              "      <td>0</td>\n",
              "      <td>1</td>\n",
              "      <td>1</td>\n",
              "      <td>0</td>\n",
              "      <td>0.0</td>\n",
              "      <td>0.0</td>\n",
              "      <td>0.0</td>\n",
              "      <td>1.0</td>\n",
              "    </tr>\n",
              "    <tr>\n",
              "      <th>2</th>\n",
              "      <td>0.673469</td>\n",
              "      <td>0</td>\n",
              "      <td>0.198933</td>\n",
              "      <td>1</td>\n",
              "      <td>0</td>\n",
              "      <td>1</td>\n",
              "      <td>1</td>\n",
              "      <td>1</td>\n",
              "      <td>0</td>\n",
              "      <td>0</td>\n",
              "      <td>1.0</td>\n",
              "      <td>0.0</td>\n",
              "      <td>0.0</td>\n",
              "      <td>0.0</td>\n",
              "    </tr>\n",
              "    <tr>\n",
              "      <th>3</th>\n",
              "      <td>0.102041</td>\n",
              "      <td>0</td>\n",
              "      <td>0.264320</td>\n",
              "      <td>1</td>\n",
              "      <td>3</td>\n",
              "      <td>0</td>\n",
              "      <td>0</td>\n",
              "      <td>1</td>\n",
              "      <td>0</td>\n",
              "      <td>0</td>\n",
              "      <td>0.0</td>\n",
              "      <td>0.0</td>\n",
              "      <td>0.0</td>\n",
              "      <td>1.0</td>\n",
              "    </tr>\n",
              "    <tr>\n",
              "      <th>4</th>\n",
              "      <td>0.795918</td>\n",
              "      <td>0</td>\n",
              "      <td>0.783987</td>\n",
              "      <td>1</td>\n",
              "      <td>0</td>\n",
              "      <td>0</td>\n",
              "      <td>1</td>\n",
              "      <td>0</td>\n",
              "      <td>0</td>\n",
              "      <td>0</td>\n",
              "      <td>0.0</td>\n",
              "      <td>1.0</td>\n",
              "      <td>0.0</td>\n",
              "      <td>0.0</td>\n",
              "    </tr>\n",
              "  </tbody>\n",
              "</table>\n",
              "</div>"
            ],
            "text/plain": [
              "        age  sex    income  married  children  ...  pep    0    1    2    3\n",
              "0  0.612245    0  0.215634        0         1  ...    1  1.0  0.0  0.0  0.0\n",
              "1  0.448980    1  0.431395        1         3  ...    0  0.0  0.0  0.0  1.0\n",
              "2  0.673469    0  0.198933        1         0  ...    0  1.0  0.0  0.0  0.0\n",
              "3  0.102041    0  0.264320        1         3  ...    0  0.0  0.0  0.0  1.0\n",
              "4  0.795918    0  0.783987        1         0  ...    0  0.0  1.0  0.0  0.0\n",
              "\n",
              "[5 rows x 14 columns]"
            ]
          },
          "metadata": {
            "tags": []
          },
          "execution_count": 118
        }
      ]
    },
    {
      "cell_type": "code",
      "metadata": {
        "id": "eJzLsW9ImfTS",
        "colab_type": "code",
        "colab": {}
      },
      "source": [
        "# Split data fitur ke var X dan data target ke var y\n",
        "X = df_pre.drop(['pep'], axis=1) \n",
        "y = df_pre['pep']\n",
        "\n",
        "# Split data menjadi data training dan data testing\n",
        "X_train, X_test, y_train, y_test = train_test_split(X, y, random_state=4)"
      ],
      "execution_count": 0,
      "outputs": []
    },
    {
      "cell_type": "markdown",
      "metadata": {
        "id": "QWZpN8PYlcFS",
        "colab_type": "text"
      },
      "source": [
        "## a. \n",
        "Menggunakan algoritma Naïve-Bayes, SVM, dan Random Forest, serta 10-fold Crossvalidation, buat 3 model menggunakan data tersebut. Tentukan algoritma yang paling\n",
        "bagus kinerjanya dan beri alasannya.\n"
      ]
    },
    {
      "cell_type": "markdown",
      "metadata": {
        "id": "gmCVSRdnm2bz",
        "colab_type": "text"
      },
      "source": [
        "### Naïve-Bayes"
      ]
    },
    {
      "cell_type": "code",
      "metadata": {
        "id": "7EICjeWGnH5e",
        "colab_type": "code",
        "outputId": "2e7625c3-a2a1-4424-c337-5831615b7a42",
        "colab": {
          "base_uri": "https://localhost:8080/",
          "height": 34
        }
      },
      "source": [
        "modelNB = GaussianNB()\n",
        "\n",
        "modelNB.fit(X_train, y_train)\n",
        "y_pred_nb = modelNB.predict(X_test)\n",
        "\n",
        "print('accuracy: ', modelNB.score(X_test, y_test))"
      ],
      "execution_count": 0,
      "outputs": [
        {
          "output_type": "stream",
          "text": [
            "accuracy:  0.6266666666666667\n"
          ],
          "name": "stdout"
        }
      ]
    },
    {
      "cell_type": "code",
      "metadata": {
        "id": "lskXOg3mnPPd",
        "colab_type": "code",
        "outputId": "ade63473-0bb9-4b28-f576-b13b30bb42f6",
        "colab": {
          "base_uri": "https://localhost:8080/",
          "height": 221
        }
      },
      "source": [
        "# 10 Fold Cross Validation\n",
        "scores = cross_val_score(modelNB, X, y, cv=10, scoring='accuracy')\n",
        "\n",
        "for n,score in enumerate(scores):\n",
        "  print(\"iter ke \",n,\"Acc : \",score)\n",
        "print(\"\\nMean acc :\",scores.mean())"
      ],
      "execution_count": 0,
      "outputs": [
        {
          "output_type": "stream",
          "text": [
            "iter ke  0 Acc :  0.6666666666666666\n",
            "iter ke  1 Acc :  0.5833333333333334\n",
            "iter ke  2 Acc :  0.5666666666666667\n",
            "iter ke  3 Acc :  0.6333333333333333\n",
            "iter ke  4 Acc :  0.7\n",
            "iter ke  5 Acc :  0.6166666666666667\n",
            "iter ke  6 Acc :  0.6833333333333333\n",
            "iter ke  7 Acc :  0.55\n",
            "iter ke  8 Acc :  0.7166666666666667\n",
            "iter ke  9 Acc :  0.6\n",
            "\n",
            "Mean acc : 0.6316666666666666\n"
          ],
          "name": "stdout"
        }
      ]
    },
    {
      "cell_type": "markdown",
      "metadata": {
        "id": "eQAh80NGnE-t",
        "colab_type": "text"
      },
      "source": [
        "### SVM"
      ]
    },
    {
      "cell_type": "code",
      "metadata": {
        "id": "GXERp6S2nsws",
        "colab_type": "code",
        "outputId": "14812a28-3885-4956-8dd7-d09b971c072f",
        "colab": {
          "base_uri": "https://localhost:8080/",
          "height": 34
        }
      },
      "source": [
        "modelSVM = svm.SVC(gamma='scale')\n",
        "\n",
        "modelSVM.fit(X_train, y_train)\n",
        "y_pred_svm = modelSVM.predict(X_test)\n",
        "\n",
        "print('accuracy: ', modelSVM.score(X_test, y_test))"
      ],
      "execution_count": 0,
      "outputs": [
        {
          "output_type": "stream",
          "text": [
            "accuracy:  0.8\n"
          ],
          "name": "stdout"
        }
      ]
    },
    {
      "cell_type": "code",
      "metadata": {
        "id": "ZxbXu7BLn_0u",
        "colab_type": "code",
        "outputId": "3f7fdeaf-f047-4c86-862b-4d38093e1f41",
        "colab": {
          "base_uri": "https://localhost:8080/",
          "height": 221
        }
      },
      "source": [
        "# 10 Fold Cross Validation\n",
        "scores = cross_val_score(modelSVM, X, y, cv=10, scoring='accuracy')\n",
        "\n",
        "for n,score in enumerate(scores):\n",
        "  print(\"iter ke \",n,\"Acc : \",score)\n",
        "print(\"\\nMean acc :\",scores.mean())"
      ],
      "execution_count": 0,
      "outputs": [
        {
          "output_type": "stream",
          "text": [
            "iter ke  0 Acc :  0.8166666666666667\n",
            "iter ke  1 Acc :  0.8\n",
            "iter ke  2 Acc :  0.85\n",
            "iter ke  3 Acc :  0.85\n",
            "iter ke  4 Acc :  0.9\n",
            "iter ke  5 Acc :  0.8333333333333334\n",
            "iter ke  6 Acc :  0.85\n",
            "iter ke  7 Acc :  0.7666666666666667\n",
            "iter ke  8 Acc :  0.8333333333333334\n",
            "iter ke  9 Acc :  0.8166666666666667\n",
            "\n",
            "Mean acc : 0.8316666666666667\n"
          ],
          "name": "stdout"
        }
      ]
    },
    {
      "cell_type": "markdown",
      "metadata": {
        "id": "mBiNYJix0j1x",
        "colab_type": "text"
      },
      "source": [
        "## Random Forrest"
      ]
    },
    {
      "cell_type": "code",
      "metadata": {
        "id": "jKoHKTkYy28k",
        "colab_type": "code",
        "outputId": "80edb058-a1ae-43c4-dc10-af0389d1fdbc",
        "colab": {
          "base_uri": "https://localhost:8080/",
          "height": 34
        }
      },
      "source": [
        "modelrf = RandomForestClassifier(n_estimators=100, \n",
        "                               bootstrap = True,\n",
        "                               max_features = 'sqrt')\n",
        "\n",
        "modelrf.fit(X_train, y_train)\n",
        "y_pred_rf = modelrf.predict(X_test)\n",
        "\n",
        "print('accuracy: ', modelrf.score(X_test, y_test))"
      ],
      "execution_count": 0,
      "outputs": [
        {
          "output_type": "stream",
          "text": [
            "accuracy:  0.8133333333333334\n"
          ],
          "name": "stdout"
        }
      ]
    },
    {
      "cell_type": "code",
      "metadata": {
        "id": "S2qDhraiT1d_",
        "colab_type": "code",
        "outputId": "8a256c28-8fd1-4702-d1ee-feb2ab943df8",
        "colab": {
          "base_uri": "https://localhost:8080/",
          "height": 221
        }
      },
      "source": [
        "# 10 Fold Cross Validation\n",
        "scores = cross_val_score(modelrf, X, y, cv=10, scoring='accuracy')\n",
        "\n",
        "for n,score in enumerate(scores):\n",
        "  print(\"iter ke \",n,\"Acc : \",score)\n",
        "print(\"\\nMean acc :\",scores.mean())"
      ],
      "execution_count": 0,
      "outputs": [
        {
          "output_type": "stream",
          "text": [
            "iter ke  0 Acc :  0.9\n",
            "iter ke  1 Acc :  0.8666666666666667\n",
            "iter ke  2 Acc :  0.8833333333333333\n",
            "iter ke  3 Acc :  0.8333333333333334\n",
            "iter ke  4 Acc :  0.9166666666666666\n",
            "iter ke  5 Acc :  0.8666666666666667\n",
            "iter ke  6 Acc :  0.8833333333333333\n",
            "iter ke  7 Acc :  0.7833333333333333\n",
            "iter ke  8 Acc :  0.85\n",
            "iter ke  9 Acc :  0.8166666666666667\n",
            "\n",
            "Mean acc : 0.86\n"
          ],
          "name": "stdout"
        }
      ]
    },
    {
      "cell_type": "markdown",
      "metadata": {
        "id": "9CWCZtAulhLj",
        "colab_type": "text"
      },
      "source": [
        "## b. \n",
        "Berdasarkan model terbaik pada (a), tunjukan confusion matrix yang dihasilkan dan\n",
        "hitung nilai precision, recall, dan f-measure secara manual."
      ]
    },
    {
      "cell_type": "code",
      "metadata": {
        "id": "dulRS7TgoU0Q",
        "colab_type": "code",
        "outputId": "6bce6322-dd45-4160-888e-fbaf9cd3d2c8",
        "colab": {
          "base_uri": "https://localhost:8080/",
          "height": 85
        }
      },
      "source": [
        "# Hasil terbaik pada soal a adalah SVM maka menggunakan hasil presiksi dari svm\n",
        "# yaitu y_pred_svm\n",
        "# Confusion matrix Data Testing\n",
        "cm = confusion_matrix(y_test, y_pred_rf)\n",
        "print(cm)\n",
        "TP = cm[0][0]\n",
        "FP = cm[0][1]\n",
        "FN = cm[1][0]\n",
        "TN = cm[1][1]\n",
        "print(\"\\nTP :\"+str(TP),\"FP :\"+str(FP),\"FN :\"+str(FN),\"TN :\"+str(TN))"
      ],
      "execution_count": 0,
      "outputs": [
        {
          "output_type": "stream",
          "text": [
            "[[74  7]\n",
            " [21 48]]\n",
            "\n",
            "TP :74 FP :7 FN :21 TN :48\n"
          ],
          "name": "stdout"
        }
      ]
    },
    {
      "cell_type": "code",
      "metadata": {
        "id": "vu4IxTg2pVzL",
        "colab_type": "code",
        "outputId": "5f872d62-637f-4efe-e742-011c5c6396e7",
        "colab": {
          "base_uri": "https://localhost:8080/",
          "height": 68
        }
      },
      "source": [
        "Precision = TP / (TP + FP)\n",
        "Recall = TP / (TP + FN)\n",
        "FMeasure = (2 * Precision * Recall) / (Precision + Recall)\n",
        "\n",
        "print('Precision\\t: ',Precision)\n",
        "print('Recall\\t\\t: ',Recall)\n",
        "print('F-Measure\\t: ',FMeasure)"
      ],
      "execution_count": 0,
      "outputs": [
        {
          "output_type": "stream",
          "text": [
            "Precision\t:  0.9135802469135802\n",
            "Recall\t\t:  0.7789473684210526\n",
            "F-Measure\t:  0.8409090909090909\n"
          ],
          "name": "stdout"
        }
      ]
    },
    {
      "cell_type": "code",
      "metadata": {
        "id": "a6kmpge1yDPi",
        "colab_type": "code",
        "colab": {}
      },
      "source": [
        ""
      ],
      "execution_count": 0,
      "outputs": []
    },
    {
      "cell_type": "markdown",
      "metadata": {
        "id": "2Iwh3BP_lkQp",
        "colab_type": "text"
      },
      "source": [
        "## c. \n",
        "Pilih 3 atribut pertama yang paling berpengaruh pada atribut pep. Note: soal (c) adalah tentang feature selection."
      ]
    },
    {
      "cell_type": "code",
      "metadata": {
        "id": "0uOXTBS-lDHz",
        "colab_type": "code",
        "outputId": "227396fc-5306-4b69-f754-fa1976327af7",
        "colab": {
          "base_uri": "https://localhost:8080/",
          "height": 221
        }
      },
      "source": [
        "# Feature extraction dengan chi square\n",
        "test = SelectKBest(score_func=chi2, k=3)\n",
        "fit = test.fit(X, y)\n",
        "\n",
        "# Menampilkan hasil scores\n",
        "np.set_printoptions(precision=3)\n",
        "print(fit.scores_)\n",
        "\n",
        "features = fit.transform(X)\n",
        "# Menampilkan features terpilih\n",
        "print(features[0:10,:])"
      ],
      "execution_count": 0,
      "outputs": [
        {
          "output_type": "stream",
          "text": [
            "[3.151e+00 6.583e-01 3.755e+00 7.332e+00 2.199e+00 1.088e-01 9.852e-01\n",
            " 9.165e-02 2.286e-01 3.677e-04 1.959e-01 2.102e+00 1.492e+00]\n",
            "[[0.612 0.216 0.   ]\n",
            " [0.449 0.431 1.   ]\n",
            " [0.673 0.199 1.   ]\n",
            " [0.102 0.264 1.   ]\n",
            " [0.796 0.784 1.   ]\n",
            " [0.796 0.565 1.   ]\n",
            " [0.082 0.066 0.   ]\n",
            " [0.816 0.343 1.   ]\n",
            " [0.388 0.349 1.   ]\n",
            " [0.735 0.33  1.   ]]\n"
          ],
          "name": "stdout"
        }
      ]
    },
    {
      "cell_type": "markdown",
      "metadata": {
        "id": "AFZLF__9qQm3",
        "colab_type": "text"
      },
      "source": [
        "Berdasarakan Feature Selection yang dilakukan maka dapat disimpulkan 3 Best Feature adalah : \n",
        "*  **age** \n",
        "*  **income**\n",
        "*  **married**"
      ]
    },
    {
      "cell_type": "code",
      "metadata": {
        "id": "wUA_Kh76qM5z",
        "colab_type": "code",
        "colab": {}
      },
      "source": [
        ""
      ],
      "execution_count": 0,
      "outputs": []
    }
  ]
}