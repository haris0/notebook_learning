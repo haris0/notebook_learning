{
  "nbformat": 4,
  "nbformat_minor": 0,
  "metadata": {
    "colab": {
      "name": "Tugas ABD Scart Data.ipynb",
      "provenance": [],
      "collapsed_sections": []
    },
    "kernelspec": {
      "name": "python3",
      "display_name": "Python 3"
    },
    "accelerator": "GPU"
  },
  "cells": [
    {
      "cell_type": "code",
      "metadata": {
        "id": "wMMiZOXka96V",
        "colab_type": "code",
        "outputId": "6ba1ea68-107e-4bf0-9030-3ebd9341a015",
        "colab": {
          "base_uri": "https://localhost:8080/",
          "height": 870
        }
      },
      "source": [
        "!pip install newspaper3k"
      ],
      "execution_count": 0,
      "outputs": [
        {
          "output_type": "stream",
          "text": [
            "Collecting newspaper3k\n",
            "\u001b[?25l  Downloading https://files.pythonhosted.org/packages/d7/b9/51afecb35bb61b188a4b44868001de348a0e8134b4dfa00ffc191567c4b9/newspaper3k-0.2.8-py3-none-any.whl (211kB)\n",
            "\r\u001b[K     |█▌                              | 10kB 31.0MB/s eta 0:00:01\r\u001b[K     |███                             | 20kB 26.4MB/s eta 0:00:01\r\u001b[K     |████▋                           | 30kB 31.5MB/s eta 0:00:01\r\u001b[K     |██████▏                         | 40kB 36.1MB/s eta 0:00:01\r\u001b[K     |███████▊                        | 51kB 23.0MB/s eta 0:00:01\r\u001b[K     |█████████▎                      | 61kB 25.7MB/s eta 0:00:01\r\u001b[K     |██████████▉                     | 71kB 20.9MB/s eta 0:00:01\r\u001b[K     |████████████▍                   | 81kB 22.5MB/s eta 0:00:01\r\u001b[K     |██████████████                  | 92kB 24.1MB/s eta 0:00:01\r\u001b[K     |███████████████▌                | 102kB 23.3MB/s eta 0:00:01\r\u001b[K     |█████████████████               | 112kB 23.3MB/s eta 0:00:01\r\u001b[K     |██████████████████▋             | 122kB 23.3MB/s eta 0:00:01\r\u001b[K     |████████████████████▏           | 133kB 23.3MB/s eta 0:00:01\r\u001b[K     |█████████████████████▊          | 143kB 23.3MB/s eta 0:00:01\r\u001b[K     |███████████████████████▎        | 153kB 23.3MB/s eta 0:00:01\r\u001b[K     |████████████████████████▉       | 163kB 23.3MB/s eta 0:00:01\r\u001b[K     |██████████████████████████▍     | 174kB 23.3MB/s eta 0:00:01\r\u001b[K     |████████████████████████████    | 184kB 23.3MB/s eta 0:00:01\r\u001b[K     |█████████████████████████████▌  | 194kB 23.3MB/s eta 0:00:01\r\u001b[K     |███████████████████████████████ | 204kB 23.3MB/s eta 0:00:01\r\u001b[K     |████████████████████████████████| 215kB 23.3MB/s \n",
            "\u001b[?25hRequirement already satisfied: Pillow>=3.3.0 in /usr/local/lib/python3.6/dist-packages (from newspaper3k) (6.2.2)\n",
            "Requirement already satisfied: nltk>=3.2.1 in /usr/local/lib/python3.6/dist-packages (from newspaper3k) (3.2.5)\n",
            "Collecting feedparser>=5.2.1\n",
            "\u001b[?25l  Downloading https://files.pythonhosted.org/packages/91/d8/7d37fec71ff7c9dbcdd80d2b48bcdd86d6af502156fc93846fb0102cb2c4/feedparser-5.2.1.tar.bz2 (192kB)\n",
            "\u001b[K     |████████████████████████████████| 194kB 39.1MB/s \n",
            "\u001b[?25hCollecting feedfinder2>=0.0.4\n",
            "  Downloading https://files.pythonhosted.org/packages/35/82/1251fefec3bb4b03fd966c7e7f7a41c9fc2bb00d823a34c13f847fd61406/feedfinder2-0.0.4.tar.gz\n",
            "Requirement already satisfied: beautifulsoup4>=4.4.1 in /usr/local/lib/python3.6/dist-packages (from newspaper3k) (4.6.3)\n",
            "Requirement already satisfied: PyYAML>=3.11 in /usr/local/lib/python3.6/dist-packages (from newspaper3k) (3.13)\n",
            "Collecting tldextract>=2.0.1\n",
            "\u001b[?25l  Downloading https://files.pythonhosted.org/packages/fd/0e/9ab599d6e78f0340bb1d1e28ddeacb38c8bb7f91a1b0eae9a24e9603782f/tldextract-2.2.2-py2.py3-none-any.whl (48kB)\n",
            "\u001b[K     |████████████████████████████████| 51kB 3.2MB/s \n",
            "\u001b[?25hCollecting jieba3k>=0.35.1\n",
            "\u001b[?25l  Downloading https://files.pythonhosted.org/packages/a9/cb/2c8332bcdc14d33b0bedd18ae0a4981a069c3513e445120da3c3f23a8aaa/jieba3k-0.35.1.zip (7.4MB)\n",
            "\u001b[K     |████████████████████████████████| 7.4MB 47.2MB/s \n",
            "\u001b[?25hCollecting tinysegmenter==0.3\n",
            "  Downloading https://files.pythonhosted.org/packages/17/82/86982e4b6d16e4febc79c2a1d68ee3b707e8a020c5d2bc4af8052d0f136a/tinysegmenter-0.3.tar.gz\n",
            "Requirement already satisfied: python-dateutil>=2.5.3 in /usr/local/lib/python3.6/dist-packages (from newspaper3k) (2.6.1)\n",
            "Collecting cssselect>=0.9.2\n",
            "  Downloading https://files.pythonhosted.org/packages/3b/d4/3b5c17f00cce85b9a1e6f91096e1cc8e8ede2e1be8e96b87ce1ed09e92c5/cssselect-1.1.0-py2.py3-none-any.whl\n",
            "Requirement already satisfied: requests>=2.10.0 in /usr/local/lib/python3.6/dist-packages (from newspaper3k) (2.21.0)\n",
            "Requirement already satisfied: lxml>=3.6.0 in /usr/local/lib/python3.6/dist-packages (from newspaper3k) (4.2.6)\n",
            "Requirement already satisfied: six in /usr/local/lib/python3.6/dist-packages (from nltk>=3.2.1->newspaper3k) (1.12.0)\n",
            "Requirement already satisfied: idna in /usr/local/lib/python3.6/dist-packages (from tldextract>=2.0.1->newspaper3k) (2.8)\n",
            "Collecting requests-file>=1.4\n",
            "  Downloading https://files.pythonhosted.org/packages/23/9c/6e63c23c39e53d3df41c77a3d05a49a42c4e1383a6d2a5e3233161b89dbf/requests_file-1.4.3-py2.py3-none-any.whl\n",
            "Requirement already satisfied: setuptools in /usr/local/lib/python3.6/dist-packages (from tldextract>=2.0.1->newspaper3k) (45.1.0)\n",
            "Requirement already satisfied: urllib3<1.25,>=1.21.1 in /usr/local/lib/python3.6/dist-packages (from requests>=2.10.0->newspaper3k) (1.24.3)\n",
            "Requirement already satisfied: certifi>=2017.4.17 in /usr/local/lib/python3.6/dist-packages (from requests>=2.10.0->newspaper3k) (2019.11.28)\n",
            "Requirement already satisfied: chardet<3.1.0,>=3.0.2 in /usr/local/lib/python3.6/dist-packages (from requests>=2.10.0->newspaper3k) (3.0.4)\n",
            "Building wheels for collected packages: feedparser, feedfinder2, jieba3k, tinysegmenter\n",
            "  Building wheel for feedparser (setup.py) ... \u001b[?25l\u001b[?25hdone\n",
            "  Created wheel for feedparser: filename=feedparser-5.2.1-cp36-none-any.whl size=44940 sha256=fbe8b5c18d3527e158b110e9306f39500404bc35531b34d800465a8a24d02007\n",
            "  Stored in directory: /root/.cache/pip/wheels/8c/69/b7/f52763c41c5471df57703a0ef718a32a5e81ee35dcf6d4f97f\n",
            "  Building wheel for feedfinder2 (setup.py) ... \u001b[?25l\u001b[?25hdone\n",
            "  Created wheel for feedfinder2: filename=feedfinder2-0.0.4-cp36-none-any.whl size=3357 sha256=b63e040417590291fe973097eb70cfa5ffa5c7ff5a61b6d4badb7b8f5a394d38\n",
            "  Stored in directory: /root/.cache/pip/wheels/de/03/ca/778e3a7a627e3d98836cc890e7cb40c7575424cfd3340f40ed\n",
            "  Building wheel for jieba3k (setup.py) ... \u001b[?25l\u001b[?25hdone\n",
            "  Created wheel for jieba3k: filename=jieba3k-0.35.1-cp36-none-any.whl size=7398406 sha256=566fa9a058e488f8e56d0ae0ce0ea0e6a22c081c70f0d15433ca7d429e23d134\n",
            "  Stored in directory: /root/.cache/pip/wheels/83/15/9c/a3f1f67e7f7181170ad37d32e503c35da20627c013f438ed34\n",
            "  Building wheel for tinysegmenter (setup.py) ... \u001b[?25l\u001b[?25hdone\n",
            "  Created wheel for tinysegmenter: filename=tinysegmenter-0.3-cp36-none-any.whl size=13539 sha256=b96abe7e0e8c81392d0e71914ddb0e880f191f4eea8eb4cdabd6809c74e09aa6\n",
            "  Stored in directory: /root/.cache/pip/wheels/81/2b/43/a02ede72324dd40cdd7ca53aad718c7710628e91b8b0dc0f02\n",
            "Successfully built feedparser feedfinder2 jieba3k tinysegmenter\n",
            "Installing collected packages: feedparser, feedfinder2, requests-file, tldextract, jieba3k, tinysegmenter, cssselect, newspaper3k\n",
            "Successfully installed cssselect-1.1.0 feedfinder2-0.0.4 feedparser-5.2.1 jieba3k-0.35.1 newspaper3k-0.2.8 requests-file-1.4.3 tinysegmenter-0.3 tldextract-2.2.2\n"
          ],
          "name": "stdout"
        }
      ]
    },
    {
      "cell_type": "code",
      "metadata": {
        "id": "2Us8KhrZ8luO",
        "colab_type": "code",
        "outputId": "62bdc24d-b945-4023-ccfd-886d27d4c6ff",
        "colab": {
          "base_uri": "https://localhost:8080/",
          "height": 51
        }
      },
      "source": [
        "from urllib.request import urlopen\n",
        "from bs4 import BeautifulSoup\n",
        "from newspaper import Article\n",
        "import json\n",
        "import nltk\n",
        "nltk.download('punkt')\n",
        "import pandas as pd\n",
        "import csv"
      ],
      "execution_count": 0,
      "outputs": [
        {
          "output_type": "stream",
          "text": [
            "[nltk_data] Downloading package punkt to /root/nltk_data...\n",
            "[nltk_data]   Unzipping tokenizers/punkt.zip.\n"
          ],
          "name": "stdout"
        }
      ]
    },
    {
      "cell_type": "code",
      "metadata": {
        "id": "dWp-a13Nar7Z",
        "colab_type": "code",
        "colab": {}
      },
      "source": [
        "def getContentLinks(page_until):\n",
        "    cnn_page = \"https://cnnindonesia.com/indeks/\"\n",
        "    \n",
        "    links = []\n",
        "    \n",
        "    for i in range(page_until):\n",
        "        section_url = cnn_page + str(i + 1)\n",
        "        html = urlopen(section_url).read()\n",
        "        \n",
        "        soup = BeautifulSoup(html, \"lxml\")\n",
        "        articles = soup.find_all('article')\n",
        "        \n",
        "        for article in articles:\n",
        "            links.append(article.find('a')[\"href\"])\n",
        "    \n",
        "    return links\n"
      ],
      "execution_count": 0,
      "outputs": []
    },
    {
      "cell_type": "code",
      "metadata": {
        "id": "UQDARiJVavGG",
        "colab_type": "code",
        "colab": {}
      },
      "source": [
        "def getIsiBerita(link):\n",
        "    html = urlopen(link).read()\n",
        "    soup = BeautifulSoup(html, \"lxml\")\n",
        "    d = \"\"\n",
        "    \n",
        "    try:\n",
        "        d = soup.find(\"div\", {\"id\": \"detikdetailtext\"}).text\n",
        "    except:\n",
        "        pass\n",
        "    return d.replace(\"\\n\",\"\")"
      ],
      "execution_count": 0,
      "outputs": []
    },
    {
      "cell_type": "code",
      "metadata": {
        "id": "n15k8-Jva0s8",
        "colab_type": "code",
        "outputId": "12ab77b2-e78b-43fc-82f3-efedfc25eb16",
        "colab": {
          "base_uri": "https://localhost:8080/",
          "height": 513
        }
      },
      "source": [
        "links = getContentLinks(1)\n",
        "\n",
        "with open('berita.csv', 'w', newline='') as file:\n",
        "  writer = csv.writer(file)\n",
        "  writer.writerow([\"link\", \"title\", \"publish_date\", \"text\", \"keywords\"])\n",
        "  for link in links:\n",
        "      print(\"Scraping: \"+link)\n",
        "      \n",
        "      news = Article(link)\n",
        "      news.download()\n",
        "      news.parse()\n",
        "      news.nlp()\n",
        "      \n",
        "      isi_berita = news.text\n",
        "      if isi_berita == \"\":\n",
        "          isi_berita = getIsiBerita(link)\n",
        "\n",
        "      writer.writerow([link, news.title, news.publish_date, isi_berita, news.keywords])"
      ],
      "execution_count": 0,
      "outputs": [
        {
          "output_type": "stream",
          "text": [
            "Scraping: https://www.cnnindonesia.com/nasional/20200223082724-20-477174/bpbd-seluruh-korban-susur-sungai-sempor-ditemukan\n",
            "Scraping: https://www.cnnindonesia.com/nasional/20200223081722-20-477172/korban-susur-sungai-ditemukan-di-kedung-dam-lembah-sempor\n",
            "Scraping: https://www.cnnindonesia.com/nasional/20200223080227-20-477171/underpass-tol-cawang-kembali-dibuka-usai-terendam-banjir\n",
            "Scraping: https://www.cnnindonesia.com/internasional/20200222225434-113-477154/satu-polisi-hong-kong-positif-corona-59-lain-dikarantina\n",
            "Scraping: https://www.cnnindonesia.com/internasional/20200222170740-113-477126/80-tahun-jadi-raja-tibet-dalai-lama-masih-hidup-terasing\n",
            "Scraping: https://www.cnnindonesia.com/internasional/20200222180258-117-477128/video-lebih-dari-300-warga-korsel-positif-corona\n",
            "Scraping: https://www.cnnindonesia.com/ekonomi/20200222213945-92-477151/dua-juta-bidang-lahan-belum-bersertifikat-di-aceh\n",
            "Scraping: https://www.cnnindonesia.com/ekonomi/20200222161514-92-477117/kementerian-pupr-bakal-bangun-dua-ruas-jalan-nasional-di-aceh\n",
            "Scraping: https://www.cnnindonesia.com/ekonomi/20200222182431-90-477134/kepala-bph-migas-apresiasi-buku-arah-bisnis-energi\n",
            "Scraping: https://www.cnnindonesia.com/olahraga/20200223071625-178-477168/pemenang-wilder-vs-tyson-fury-dapat-rp19-triliun\n",
            "Scraping: https://www.cnnindonesia.com/olahraga/20200223075608-178-477170/live-streaming-deontay-wilder-vs-tyson-fury\n",
            "Scraping: https://www.cnnindonesia.com/olahraga/20200223062350-178-477167/rekor-wilder-kalahkan-tyson-hingga-lampard-diabaikan-mourinho\n",
            "Scraping: https://www.cnnindonesia.com/teknologi/20200221165400-199-476867/berbagai-vaksin-virus-corona-selain-yang-dikembangkan-china\n",
            "Scraping: https://www.cnnindonesia.com/teknologi/20200222104203-389-477036/kondisi-ban-bocor-yang-tidak-bisa-ditambal\n",
            "Scraping: https://www.cnnindonesia.com/teknologi/20200221202326-185-476976/spesifikasi-canon-eos-1d-x-mark-iii-dijual-seharga-dp-rumah\n",
            "Scraping: https://www.cnnindonesia.com/hiburan/20200221095925-220-476699/lima-dekade-film-dokumenter-elvis-presley-akan-dirilis-ulang\n",
            "Scraping: https://www.cnnindonesia.com/hiburan/20200222102702-220-477034/friends-resmi-bakal-reuni-tahun-ini\n",
            "Scraping: https://www.cnnindonesia.com/hiburan/20200219140357-243-476095/foto-bertapa-40-tahun-demi-mengukir-pegunungan\n",
            "Scraping: https://www.cnnindonesia.com/gaya-hidup/20200222175810-255-477132/pola-makan-buruk-tekan-jumlah-sperma\n",
            "Scraping: https://www.cnnindonesia.com/gaya-hidup/20200222140908-277-477070/gaun-pengantin-langka-gara-gara-wabah-virus-corona\n",
            "Scraping: https://www.cnnindonesia.com/gaya-hidup/20200212140042-284-473951/tips-memulai-seks-untuk-para-perempuan\n",
            "Scraping: https://www.cnnindonesia.com/nasional/20200223084717-20-477175/prakiraan-bmkg-soal-hujan-lebat-di-jabodetabek\n",
            "Scraping: https://www.cnnindonesia.com/olahraga/20200223082537-142-477173/jadwal-liga-inggris-hari-ini-mu-vs-watford\n",
            "Scraping: https://www.cnnindonesia.com/nasional/20200223082724-20-477174/bpbd-seluruh-korban-susur-sungai-sempor-ditemukan\n",
            "Scraping: https://www.cnnindonesia.com/nasional/20200223081722-20-477172/korban-susur-sungai-ditemukan-di-kedung-dam-lembah-sempor\n",
            "Scraping: https://www.cnnindonesia.com/olahraga/20200223071625-178-477168/pemenang-wilder-vs-tyson-fury-dapat-rp19-triliun\n",
            "Scraping: https://www.cnnindonesia.com/nasional/20200223080227-20-477171/underpass-tol-cawang-kembali-dibuka-usai-terendam-banjir\n",
            "Scraping: https://www.cnnindonesia.com/olahraga/20200223075608-178-477170/live-streaming-deontay-wilder-vs-tyson-fury\n"
          ],
          "name": "stdout"
        }
      ]
    },
    {
      "cell_type": "code",
      "metadata": {
        "id": "L1D5VkouejSC",
        "colab_type": "code",
        "outputId": "77b3569a-a784-411e-f158-f8a4e5c233a5",
        "colab": {
          "base_uri": "https://localhost:8080/",
          "height": 340
        }
      },
      "source": [
        "berita = pd.read_csv('/content/berita.csv')\n",
        "berita.head()"
      ],
      "execution_count": 0,
      "outputs": [
        {
          "output_type": "execute_result",
          "data": {
            "text/html": [
              "<div>\n",
              "<style scoped>\n",
              "    .dataframe tbody tr th:only-of-type {\n",
              "        vertical-align: middle;\n",
              "    }\n",
              "\n",
              "    .dataframe tbody tr th {\n",
              "        vertical-align: top;\n",
              "    }\n",
              "\n",
              "    .dataframe thead th {\n",
              "        text-align: right;\n",
              "    }\n",
              "</style>\n",
              "<table border=\"1\" class=\"dataframe\">\n",
              "  <thead>\n",
              "    <tr style=\"text-align: right;\">\n",
              "      <th></th>\n",
              "      <th>link</th>\n",
              "      <th>title</th>\n",
              "      <th>publish_date</th>\n",
              "      <th>text</th>\n",
              "      <th>keywords</th>\n",
              "    </tr>\n",
              "  </thead>\n",
              "  <tbody>\n",
              "    <tr>\n",
              "      <th>0</th>\n",
              "      <td>https://www.cnnindonesia.com/nasional/20200223...</td>\n",
              "      <td>BPBD: Seluruh Korban Susur Sungai Sempor Ditem...</td>\n",
              "      <td>2020-02-23 08:32:24</td>\n",
              "      <td>Jakarta, CNN Indonesia -- Badan Penanggulangan...</td>\n",
              "      <td>['korban', 'bpbd', 'yang', 'pada', 'satu', 'di...</td>\n",
              "    </tr>\n",
              "    <tr>\n",
              "      <th>1</th>\n",
              "      <td>https://www.cnnindonesia.com/nasional/20200223...</td>\n",
              "      <td>Korban Susur Sungai Ditemukan di Kedung Dam Le...</td>\n",
              "      <td>2020-02-23 08:23:22</td>\n",
              "      <td>Jakarta, CNN Indonesia -- Badan Penanggulangan...</td>\n",
              "      <td>['korban', 'kedung', 'yang', 'lembah', 'sungai...</td>\n",
              "    </tr>\n",
              "    <tr>\n",
              "      <th>2</th>\n",
              "      <td>https://www.cnnindonesia.com/nasional/20200223...</td>\n",
              "      <td>Underpass Tol Cawang Kembali Dibuka Usai Teren...</td>\n",
              "      <td>2020-02-23 08:13:27</td>\n",
              "      <td>Jakarta, CNN Indonesia -- Jalan Underpass Tol ...</td>\n",
              "      <td>['jakarta', 'cawang', 'jalan', 'tol', 'saat', ...</td>\n",
              "    </tr>\n",
              "    <tr>\n",
              "      <th>3</th>\n",
              "      <td>https://www.cnnindonesia.com/internasional/202...</td>\n",
              "      <td>Satu Polisi Hong Kong Positif Corona, 59 Lain ...</td>\n",
              "      <td>2020-02-22 23:51:08</td>\n",
              "      <td>Jakarta, CNN Indonesia -- Kepolisianmengkarant...</td>\n",
              "      <td>['positif', 'polisi', 'lain', '59', 'untuk', '...</td>\n",
              "    </tr>\n",
              "    <tr>\n",
              "      <th>4</th>\n",
              "      <td>https://www.cnnindonesia.com/internasional/202...</td>\n",
              "      <td>80 Tahun Jadi Raja Tibet, Dalai Lama Masih Hid...</td>\n",
              "      <td>2020-02-22 19:30:30</td>\n",
              "      <td>Jakarta, CNN Indonesia --menandai ulang tahun ...</td>\n",
              "      <td>['lama', 'dalai', 'terasing', 'untuk', 'ia', '...</td>\n",
              "    </tr>\n",
              "  </tbody>\n",
              "</table>\n",
              "</div>"
            ],
            "text/plain": [
              "                                                link  ...                                           keywords\n",
              "0  https://www.cnnindonesia.com/nasional/20200223...  ...  ['korban', 'bpbd', 'yang', 'pada', 'satu', 'di...\n",
              "1  https://www.cnnindonesia.com/nasional/20200223...  ...  ['korban', 'kedung', 'yang', 'lembah', 'sungai...\n",
              "2  https://www.cnnindonesia.com/nasional/20200223...  ...  ['jakarta', 'cawang', 'jalan', 'tol', 'saat', ...\n",
              "3  https://www.cnnindonesia.com/internasional/202...  ...  ['positif', 'polisi', 'lain', '59', 'untuk', '...\n",
              "4  https://www.cnnindonesia.com/internasional/202...  ...  ['lama', 'dalai', 'terasing', 'untuk', 'ia', '...\n",
              "\n",
              "[5 rows x 5 columns]"
            ]
          },
          "metadata": {
            "tags": []
          },
          "execution_count": 19
        }
      ]
    },
    {
      "cell_type": "code",
      "metadata": {
        "id": "jIwU4JL7wfLk",
        "colab_type": "code",
        "outputId": "a6465f9b-5f4b-4c0f-e18a-c5c5e0ff0014",
        "colab": {
          "base_uri": "https://localhost:8080/",
          "height": 289
        }
      },
      "source": [
        "import pandas as pd\n",
        "\n",
        "df = pd.read_csv('/content/1. GUI using Web Scraper.csv')\n",
        "df.head()"
      ],
      "execution_count": 0,
      "outputs": [
        {
          "output_type": "execute_result",
          "data": {
            "text/html": [
              "<div>\n",
              "<style scoped>\n",
              "    .dataframe tbody tr th:only-of-type {\n",
              "        vertical-align: middle;\n",
              "    }\n",
              "\n",
              "    .dataframe tbody tr th {\n",
              "        vertical-align: top;\n",
              "    }\n",
              "\n",
              "    .dataframe thead th {\n",
              "        text-align: right;\n",
              "    }\n",
              "</style>\n",
              "<table border=\"1\" class=\"dataframe\">\n",
              "  <thead>\n",
              "    <tr style=\"text-align: right;\">\n",
              "      <th></th>\n",
              "      <th>title</th>\n",
              "      <th>url</th>\n",
              "      <th>publication_date</th>\n",
              "      <th>content</th>\n",
              "    </tr>\n",
              "  </thead>\n",
              "  <tbody>\n",
              "    <tr>\n",
              "      <th>0</th>\n",
              "      <td>Scorpions dan Whitesnake Guncang JogjaROCKarta...</td>\n",
              "      <td>https://www.cnnindonesia.com/hiburan/202003021...</td>\n",
              "      <td>CNN Indonesia | Senin, 02/03/2020 17:25 WIB</td>\n",
              "      <td>Jakarta, CNN Indonesia -- Dua band legendaris,...</td>\n",
              "    </tr>\n",
              "    <tr>\n",
              "      <th>1</th>\n",
              "      <td>Jumpa Bong Joon-ho, Mark Ruffalo Resmi Main Se...</td>\n",
              "      <td>https://www.cnnindonesia.com/hiburan/202003021...</td>\n",
              "      <td>CNN Indonesia | Senin, 02/03/2020 15:37 WIB</td>\n",
              "      <td>Jakarta, CNN Indonesia -- Aktor Hollywood, Mar...</td>\n",
              "    </tr>\n",
              "    <tr>\n",
              "      <th>2</th>\n",
              "      <td>Iwan Fals Komentari Temuan Virus Corona di Ind...</td>\n",
              "      <td>https://www.cnnindonesia.com/hiburan/202003021...</td>\n",
              "      <td>CNN Indonesia | Senin, 02/03/2020 14:38 WIB</td>\n",
              "      <td>Jakarta, CNN Indonesia -- Musisi Iwan Fals tur...</td>\n",
              "    </tr>\n",
              "    <tr>\n",
              "      <th>3</th>\n",
              "      <td>Jennifer Lopez Merasa Terpuruk saat Gagal Raih...</td>\n",
              "      <td>https://www.cnnindonesia.com/hiburan/202003021...</td>\n",
              "      <td>CNN Indonesia | Senin, 02/03/2020 12:58 WIB</td>\n",
              "      <td>Jakarta, CNN Indonesia -- Jennifer Lopez menga...</td>\n",
              "    </tr>\n",
              "    <tr>\n",
              "      <th>4</th>\n",
              "      <td>Film Gal Gadot Batal Syuting di Italia karena ...</td>\n",
              "      <td>https://www.cnnindonesia.com/hiburan/202003021...</td>\n",
              "      <td>CNN Indonesia | Senin, 02/03/2020 11:58 WIB</td>\n",
              "      <td>Jakarta, CNN Indonesia -- Proses syuting film ...</td>\n",
              "    </tr>\n",
              "  </tbody>\n",
              "</table>\n",
              "</div>"
            ],
            "text/plain": [
              "                                               title  ...                                            content\n",
              "0  Scorpions dan Whitesnake Guncang JogjaROCKarta...  ...  Jakarta, CNN Indonesia -- Dua band legendaris,...\n",
              "1  Jumpa Bong Joon-ho, Mark Ruffalo Resmi Main Se...  ...  Jakarta, CNN Indonesia -- Aktor Hollywood, Mar...\n",
              "2  Iwan Fals Komentari Temuan Virus Corona di Ind...  ...  Jakarta, CNN Indonesia -- Musisi Iwan Fals tur...\n",
              "3  Jennifer Lopez Merasa Terpuruk saat Gagal Raih...  ...  Jakarta, CNN Indonesia -- Jennifer Lopez menga...\n",
              "4  Film Gal Gadot Batal Syuting di Italia karena ...  ...  Jakarta, CNN Indonesia -- Proses syuting film ...\n",
              "\n",
              "[5 rows x 4 columns]"
            ]
          },
          "metadata": {
            "tags": []
          },
          "execution_count": 2
        }
      ]
    },
    {
      "cell_type": "code",
      "metadata": {
        "id": "WnVQy6D1zEa3",
        "colab_type": "code",
        "outputId": "0439736b-b07e-4afb-f67c-7bbca8b3a156",
        "colab": {
          "base_uri": "https://localhost:8080/",
          "height": 391
        }
      },
      "source": [
        "# df.insert(loc=0, column='medi_name', value='cnn indo')\n",
        "df.head()"
      ],
      "execution_count": 0,
      "outputs": [
        {
          "output_type": "execute_result",
          "data": {
            "text/html": [
              "<div>\n",
              "<style scoped>\n",
              "    .dataframe tbody tr th:only-of-type {\n",
              "        vertical-align: middle;\n",
              "    }\n",
              "\n",
              "    .dataframe tbody tr th {\n",
              "        vertical-align: top;\n",
              "    }\n",
              "\n",
              "    .dataframe thead th {\n",
              "        text-align: right;\n",
              "    }\n",
              "</style>\n",
              "<table border=\"1\" class=\"dataframe\">\n",
              "  <thead>\n",
              "    <tr style=\"text-align: right;\">\n",
              "      <th></th>\n",
              "      <th>medi_name</th>\n",
              "      <th>title</th>\n",
              "      <th>url</th>\n",
              "      <th>publication_date</th>\n",
              "      <th>content</th>\n",
              "    </tr>\n",
              "  </thead>\n",
              "  <tbody>\n",
              "    <tr>\n",
              "      <th>0</th>\n",
              "      <td>cnn indo</td>\n",
              "      <td>Scorpions dan Whitesnake Guncang JogjaROCKarta...</td>\n",
              "      <td>https://www.cnnindonesia.com/hiburan/202003021...</td>\n",
              "      <td>CNN Indonesia | Senin, 02/03/2020 17:25 WIB</td>\n",
              "      <td>Jakarta, CNN Indonesia -- Dua band legendaris,...</td>\n",
              "    </tr>\n",
              "    <tr>\n",
              "      <th>1</th>\n",
              "      <td>cnn indo</td>\n",
              "      <td>Jumpa Bong Joon-ho, Mark Ruffalo Resmi Main Se...</td>\n",
              "      <td>https://www.cnnindonesia.com/hiburan/202003021...</td>\n",
              "      <td>CNN Indonesia | Senin, 02/03/2020 15:37 WIB</td>\n",
              "      <td>Jakarta, CNN Indonesia -- Aktor Hollywood, Mar...</td>\n",
              "    </tr>\n",
              "    <tr>\n",
              "      <th>2</th>\n",
              "      <td>cnn indo</td>\n",
              "      <td>Iwan Fals Komentari Temuan Virus Corona di Ind...</td>\n",
              "      <td>https://www.cnnindonesia.com/hiburan/202003021...</td>\n",
              "      <td>CNN Indonesia | Senin, 02/03/2020 14:38 WIB</td>\n",
              "      <td>Jakarta, CNN Indonesia -- Musisi Iwan Fals tur...</td>\n",
              "    </tr>\n",
              "    <tr>\n",
              "      <th>3</th>\n",
              "      <td>cnn indo</td>\n",
              "      <td>Jennifer Lopez Merasa Terpuruk saat Gagal Raih...</td>\n",
              "      <td>https://www.cnnindonesia.com/hiburan/202003021...</td>\n",
              "      <td>CNN Indonesia | Senin, 02/03/2020 12:58 WIB</td>\n",
              "      <td>Jakarta, CNN Indonesia -- Jennifer Lopez menga...</td>\n",
              "    </tr>\n",
              "    <tr>\n",
              "      <th>4</th>\n",
              "      <td>cnn indo</td>\n",
              "      <td>Film Gal Gadot Batal Syuting di Italia karena ...</td>\n",
              "      <td>https://www.cnnindonesia.com/hiburan/202003021...</td>\n",
              "      <td>CNN Indonesia | Senin, 02/03/2020 11:58 WIB</td>\n",
              "      <td>Jakarta, CNN Indonesia -- Proses syuting film ...</td>\n",
              "    </tr>\n",
              "  </tbody>\n",
              "</table>\n",
              "</div>"
            ],
            "text/plain": [
              "  medi_name  ...                                            content\n",
              "0  cnn indo  ...  Jakarta, CNN Indonesia -- Dua band legendaris,...\n",
              "1  cnn indo  ...  Jakarta, CNN Indonesia -- Aktor Hollywood, Mar...\n",
              "2  cnn indo  ...  Jakarta, CNN Indonesia -- Musisi Iwan Fals tur...\n",
              "3  cnn indo  ...  Jakarta, CNN Indonesia -- Jennifer Lopez menga...\n",
              "4  cnn indo  ...  Jakarta, CNN Indonesia -- Proses syuting film ...\n",
              "\n",
              "[5 rows x 5 columns]"
            ]
          },
          "metadata": {
            "tags": []
          },
          "execution_count": 4
        }
      ]
    },
    {
      "cell_type": "code",
      "metadata": {
        "id": "3KbxxF6AzPUu",
        "colab_type": "code",
        "outputId": "94febb48-90a3-4404-dd39-a3bb30f872cd",
        "colab": {
          "base_uri": "https://localhost:8080/",
          "height": 476
        }
      },
      "source": [
        "df['category'] = 'hiburan'\n",
        "df.head()"
      ],
      "execution_count": 0,
      "outputs": [
        {
          "output_type": "execute_result",
          "data": {
            "text/html": [
              "<div>\n",
              "<style scoped>\n",
              "    .dataframe tbody tr th:only-of-type {\n",
              "        vertical-align: middle;\n",
              "    }\n",
              "\n",
              "    .dataframe tbody tr th {\n",
              "        vertical-align: top;\n",
              "    }\n",
              "\n",
              "    .dataframe thead th {\n",
              "        text-align: right;\n",
              "    }\n",
              "</style>\n",
              "<table border=\"1\" class=\"dataframe\">\n",
              "  <thead>\n",
              "    <tr style=\"text-align: right;\">\n",
              "      <th></th>\n",
              "      <th>medi_name</th>\n",
              "      <th>title</th>\n",
              "      <th>url</th>\n",
              "      <th>publication_date</th>\n",
              "      <th>content</th>\n",
              "      <th>category</th>\n",
              "    </tr>\n",
              "  </thead>\n",
              "  <tbody>\n",
              "    <tr>\n",
              "      <th>0</th>\n",
              "      <td>cnn indo</td>\n",
              "      <td>Scorpions dan Whitesnake Guncang JogjaROCKarta...</td>\n",
              "      <td>https://www.cnnindonesia.com/hiburan/202003021...</td>\n",
              "      <td>CNN Indonesia | Senin, 02/03/2020 17:25 WIB</td>\n",
              "      <td>Jakarta, CNN Indonesia -- Dua band legendaris,...</td>\n",
              "      <td>hiburan</td>\n",
              "    </tr>\n",
              "    <tr>\n",
              "      <th>1</th>\n",
              "      <td>cnn indo</td>\n",
              "      <td>Jumpa Bong Joon-ho, Mark Ruffalo Resmi Main Se...</td>\n",
              "      <td>https://www.cnnindonesia.com/hiburan/202003021...</td>\n",
              "      <td>CNN Indonesia | Senin, 02/03/2020 15:37 WIB</td>\n",
              "      <td>Jakarta, CNN Indonesia -- Aktor Hollywood, Mar...</td>\n",
              "      <td>hiburan</td>\n",
              "    </tr>\n",
              "    <tr>\n",
              "      <th>2</th>\n",
              "      <td>cnn indo</td>\n",
              "      <td>Iwan Fals Komentari Temuan Virus Corona di Ind...</td>\n",
              "      <td>https://www.cnnindonesia.com/hiburan/202003021...</td>\n",
              "      <td>CNN Indonesia | Senin, 02/03/2020 14:38 WIB</td>\n",
              "      <td>Jakarta, CNN Indonesia -- Musisi Iwan Fals tur...</td>\n",
              "      <td>hiburan</td>\n",
              "    </tr>\n",
              "    <tr>\n",
              "      <th>3</th>\n",
              "      <td>cnn indo</td>\n",
              "      <td>Jennifer Lopez Merasa Terpuruk saat Gagal Raih...</td>\n",
              "      <td>https://www.cnnindonesia.com/hiburan/202003021...</td>\n",
              "      <td>CNN Indonesia | Senin, 02/03/2020 12:58 WIB</td>\n",
              "      <td>Jakarta, CNN Indonesia -- Jennifer Lopez menga...</td>\n",
              "      <td>hiburan</td>\n",
              "    </tr>\n",
              "    <tr>\n",
              "      <th>4</th>\n",
              "      <td>cnn indo</td>\n",
              "      <td>Film Gal Gadot Batal Syuting di Italia karena ...</td>\n",
              "      <td>https://www.cnnindonesia.com/hiburan/202003021...</td>\n",
              "      <td>CNN Indonesia | Senin, 02/03/2020 11:58 WIB</td>\n",
              "      <td>Jakarta, CNN Indonesia -- Proses syuting film ...</td>\n",
              "      <td>hiburan</td>\n",
              "    </tr>\n",
              "  </tbody>\n",
              "</table>\n",
              "</div>"
            ],
            "text/plain": [
              "  medi_name  ... category\n",
              "0  cnn indo  ...  hiburan\n",
              "1  cnn indo  ...  hiburan\n",
              "2  cnn indo  ...  hiburan\n",
              "3  cnn indo  ...  hiburan\n",
              "4  cnn indo  ...  hiburan\n",
              "\n",
              "[5 rows x 6 columns]"
            ]
          },
          "metadata": {
            "tags": []
          },
          "execution_count": 6
        }
      ]
    },
    {
      "cell_type": "code",
      "metadata": {
        "id": "XoKLrm0f3VXs",
        "colab_type": "code",
        "colab": {}
      },
      "source": [
        ""
      ],
      "execution_count": 0,
      "outputs": []
    }
  ]
}