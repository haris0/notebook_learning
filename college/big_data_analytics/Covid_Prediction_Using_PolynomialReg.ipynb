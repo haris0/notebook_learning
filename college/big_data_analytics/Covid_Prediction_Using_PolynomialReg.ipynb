{
  "nbformat": 4,
  "nbformat_minor": 0,
  "metadata": {
    "colab": {
      "name": "UAS ABD - Data Analisi.ipynb",
      "provenance": [],
      "collapsed_sections": [],
      "toc_visible": true
    },
    "kernelspec": {
      "name": "python3",
      "display_name": "Python 3"
    }
  },
  "cells": [
    {
      "cell_type": "markdown",
      "metadata": {
        "id": "z2TyrazShkaG",
        "colab_type": "text"
      },
      "source": [
        "# **1. Initial Data**"
      ]
    },
    {
      "cell_type": "code",
      "metadata": {
        "id": "FnXgBWvwls5M",
        "colab_type": "code",
        "colab": {}
      },
      "source": [
        "import pandas as pd\n",
        "import numpy as np\n",
        "import matplotlib.pyplot as plt\n",
        "from sklearn.linear_model import LinearRegression\n",
        "from sklearn.preprocessing import PolynomialFeatures\n",
        "import datetime"
      ],
      "execution_count": 0,
      "outputs": []
    },
    {
      "cell_type": "code",
      "metadata": {
        "id": "SMknUQqNiXmB",
        "colab_type": "code",
        "outputId": "f11e9752-41e0-4e4c-fb81-6320a79c5fc0",
        "colab": {
          "base_uri": "https://localhost:8080/",
          "height": 359
        }
      },
      "source": [
        "df = pd.read_csv('/content/drive/My Drive/Analisis Big Data/positif_corona.csv')\n",
        "df.head(10)"
      ],
      "execution_count": 4,
      "outputs": [
        {
          "output_type": "execute_result",
          "data": {
            "text/html": [
              "<div>\n",
              "<style scoped>\n",
              "    .dataframe tbody tr th:only-of-type {\n",
              "        vertical-align: middle;\n",
              "    }\n",
              "\n",
              "    .dataframe tbody tr th {\n",
              "        vertical-align: top;\n",
              "    }\n",
              "\n",
              "    .dataframe thead th {\n",
              "        text-align: right;\n",
              "    }\n",
              "</style>\n",
              "<table border=\"1\" class=\"dataframe\">\n",
              "  <thead>\n",
              "    <tr style=\"text-align: right;\">\n",
              "      <th></th>\n",
              "      <th>Tanggal</th>\n",
              "    </tr>\n",
              "  </thead>\n",
              "  <tbody>\n",
              "    <tr>\n",
              "      <th>0</th>\n",
              "      <td>3/2/2020</td>\n",
              "    </tr>\n",
              "    <tr>\n",
              "      <th>1</th>\n",
              "      <td>3/2/2020</td>\n",
              "    </tr>\n",
              "    <tr>\n",
              "      <th>2</th>\n",
              "      <td>3/6/2020</td>\n",
              "    </tr>\n",
              "    <tr>\n",
              "      <th>3</th>\n",
              "      <td>3/6/2020</td>\n",
              "    </tr>\n",
              "    <tr>\n",
              "      <th>4</th>\n",
              "      <td>3/8/2020</td>\n",
              "    </tr>\n",
              "    <tr>\n",
              "      <th>5</th>\n",
              "      <td>3/8/2020</td>\n",
              "    </tr>\n",
              "    <tr>\n",
              "      <th>6</th>\n",
              "      <td>3/9/2020</td>\n",
              "    </tr>\n",
              "    <tr>\n",
              "      <th>7</th>\n",
              "      <td>3/9/2020</td>\n",
              "    </tr>\n",
              "    <tr>\n",
              "      <th>8</th>\n",
              "      <td>3/9/2020</td>\n",
              "    </tr>\n",
              "    <tr>\n",
              "      <th>9</th>\n",
              "      <td>3/9/2020</td>\n",
              "    </tr>\n",
              "  </tbody>\n",
              "</table>\n",
              "</div>"
            ],
            "text/plain": [
              "    Tanggal\n",
              "0  3/2/2020\n",
              "1  3/2/2020\n",
              "2  3/6/2020\n",
              "3  3/6/2020\n",
              "4  3/8/2020\n",
              "5  3/8/2020\n",
              "6  3/9/2020\n",
              "7  3/9/2020\n",
              "8  3/9/2020\n",
              "9  3/9/2020"
            ]
          },
          "metadata": {
            "tags": []
          },
          "execution_count": 4
        }
      ]
    },
    {
      "cell_type": "markdown",
      "metadata": {
        "id": "zQ4P5OxchoXu",
        "colab_type": "text"
      },
      "source": [
        "# **2. Data Preprocessing**"
      ]
    },
    {
      "cell_type": "code",
      "metadata": {
        "id": "3ZZQkEJqhr15",
        "colab_type": "code",
        "outputId": "693570c5-daee-4492-fa7e-0319702beced",
        "colab": {
          "base_uri": "https://localhost:8080/",
          "height": 390
        }
      },
      "source": [
        "# Menambah Kolom Baru(Berisikan Kasus Baru pada hari itu)\n",
        "df = df.groupby(['Tanggal']).size().reset_index(name='Baru')\n",
        "\n",
        "# Mengurutkan Data Sesuai Tanggal\n",
        "df['Tanggal'] =pd.to_datetime(df.Tanggal)\n",
        "df = df.sort_values('Tanggal', ignore_index=True)\n",
        "\n",
        "# Menambah Kolom Positif(Berisi total seluruh kasus sampai hari itu)\n",
        "df['Positif'] = df['Baru'].cumsum()\n",
        "\n",
        "#Menjadikan Tanggal sebagai Index\n",
        "df.set_index('Tanggal', inplace=True)\n",
        "\n",
        "#Menambah kolom Hari (Berisikan hari ke 1, 2, dst)\n",
        "new_col = np.arange(1, df.shape[0]+1)\n",
        "df.insert(loc=0, column='Hari', value=new_col)\n",
        "df.tail(10)"
      ],
      "execution_count": 5,
      "outputs": [
        {
          "output_type": "execute_result",
          "data": {
            "text/html": [
              "<div>\n",
              "<style scoped>\n",
              "    .dataframe tbody tr th:only-of-type {\n",
              "        vertical-align: middle;\n",
              "    }\n",
              "\n",
              "    .dataframe tbody tr th {\n",
              "        vertical-align: top;\n",
              "    }\n",
              "\n",
              "    .dataframe thead th {\n",
              "        text-align: right;\n",
              "    }\n",
              "</style>\n",
              "<table border=\"1\" class=\"dataframe\">\n",
              "  <thead>\n",
              "    <tr style=\"text-align: right;\">\n",
              "      <th></th>\n",
              "      <th>Hari</th>\n",
              "      <th>Baru</th>\n",
              "      <th>Positif</th>\n",
              "    </tr>\n",
              "    <tr>\n",
              "      <th>Tanggal</th>\n",
              "      <th></th>\n",
              "      <th></th>\n",
              "      <th></th>\n",
              "    </tr>\n",
              "  </thead>\n",
              "  <tbody>\n",
              "    <tr>\n",
              "      <th>2020-04-19</th>\n",
              "      <td>44</td>\n",
              "      <td>327</td>\n",
              "      <td>6575</td>\n",
              "    </tr>\n",
              "    <tr>\n",
              "      <th>2020-04-20</th>\n",
              "      <td>45</td>\n",
              "      <td>185</td>\n",
              "      <td>6760</td>\n",
              "    </tr>\n",
              "    <tr>\n",
              "      <th>2020-04-21</th>\n",
              "      <td>46</td>\n",
              "      <td>375</td>\n",
              "      <td>7135</td>\n",
              "    </tr>\n",
              "    <tr>\n",
              "      <th>2020-04-22</th>\n",
              "      <td>47</td>\n",
              "      <td>283</td>\n",
              "      <td>7418</td>\n",
              "    </tr>\n",
              "    <tr>\n",
              "      <th>2020-04-23</th>\n",
              "      <td>48</td>\n",
              "      <td>357</td>\n",
              "      <td>7775</td>\n",
              "    </tr>\n",
              "    <tr>\n",
              "      <th>2020-04-24</th>\n",
              "      <td>49</td>\n",
              "      <td>436</td>\n",
              "      <td>8211</td>\n",
              "    </tr>\n",
              "    <tr>\n",
              "      <th>2020-04-25</th>\n",
              "      <td>50</td>\n",
              "      <td>396</td>\n",
              "      <td>8607</td>\n",
              "    </tr>\n",
              "    <tr>\n",
              "      <th>2020-04-26</th>\n",
              "      <td>51</td>\n",
              "      <td>275</td>\n",
              "      <td>8882</td>\n",
              "    </tr>\n",
              "    <tr>\n",
              "      <th>2020-04-27</th>\n",
              "      <td>52</td>\n",
              "      <td>214</td>\n",
              "      <td>9096</td>\n",
              "    </tr>\n",
              "    <tr>\n",
              "      <th>2020-04-28</th>\n",
              "      <td>53</td>\n",
              "      <td>415</td>\n",
              "      <td>9511</td>\n",
              "    </tr>\n",
              "  </tbody>\n",
              "</table>\n",
              "</div>"
            ],
            "text/plain": [
              "            Hari  Baru  Positif\n",
              "Tanggal                        \n",
              "2020-04-19    44   327     6575\n",
              "2020-04-20    45   185     6760\n",
              "2020-04-21    46   375     7135\n",
              "2020-04-22    47   283     7418\n",
              "2020-04-23    48   357     7775\n",
              "2020-04-24    49   436     8211\n",
              "2020-04-25    50   396     8607\n",
              "2020-04-26    51   275     8882\n",
              "2020-04-27    52   214     9096\n",
              "2020-04-28    53   415     9511"
            ]
          },
          "metadata": {
            "tags": []
          },
          "execution_count": 5
        }
      ]
    },
    {
      "cell_type": "markdown",
      "metadata": {
        "id": "2Dp0cHFxhsgy",
        "colab_type": "text"
      },
      "source": [
        "# **3. Data Understanding**"
      ]
    },
    {
      "cell_type": "markdown",
      "metadata": {
        "id": "9PtcJfWBhzyT",
        "colab_type": "text"
      },
      "source": [
        "## Correlasi Data"
      ]
    },
    {
      "cell_type": "code",
      "metadata": {
        "id": "6ticwCORhvdV",
        "colab_type": "code",
        "outputId": "419e0e47-b7e8-4cca-fa2a-9dc93a6b3cc4",
        "colab": {
          "base_uri": "https://localhost:8080/",
          "height": 34
        }
      },
      "source": [
        "print(\"Corr Hari and Positif\\t\\t:\", df['Hari'].corr(df['Positif']))"
      ],
      "execution_count": 6,
      "outputs": [
        {
          "output_type": "stream",
          "text": [
            "Corr Hari and Positif\t\t: 0.9477844237772807\n"
          ],
          "name": "stdout"
        }
      ]
    },
    {
      "cell_type": "markdown",
      "metadata": {
        "id": "BnlvF-bjh1On",
        "colab_type": "text"
      },
      "source": [
        "## Ploting Data"
      ]
    },
    {
      "cell_type": "code",
      "metadata": {
        "id": "0GpT-Fa-h5B1",
        "colab_type": "code",
        "outputId": "ccf79ef8-ce5e-495a-99a2-ebea72d33290",
        "colab": {
          "base_uri": "https://localhost:8080/",
          "height": 448
        }
      },
      "source": [
        "df['Positif'].plot(kind='line', stacked=False, figsize=(12, 7))\n",
        "plt.ylabel('Total Perhari')\n",
        "plt.title('Data Total Kasus Positif Perhari')\n",
        "plt.show()"
      ],
      "execution_count": 7,
      "outputs": [
        {
          "output_type": "display_data",
          "data": {
            "image/png": "[encoded data removed]",
            "text/plain": [
              "<Figure size 864x504 with 1 Axes>"
            ]
          },
          "metadata": {
            "tags": [],
            "needs_background": "light"
          }
        }
      ]
    },
    {
      "cell_type": "markdown",
      "metadata": {
        "id": "xdF38sHIh5t-",
        "colab_type": "text"
      },
      "source": [
        "## Describe Data"
      ]
    },
    {
      "cell_type": "code",
      "metadata": {
        "id": "inmJUby2h7Do",
        "colab_type": "code",
        "outputId": "4a57ba0f-4ad4-43ea-8e10-4fd1ea904036",
        "colab": {
          "base_uri": "https://localhost:8080/",
          "height": 297
        }
      },
      "source": [
        "df[['Positif']].describe()"
      ],
      "execution_count": 8,
      "outputs": [
        {
          "output_type": "execute_result",
          "data": {
            "text/html": [
              "<div>\n",
              "<style scoped>\n",
              "    .dataframe tbody tr th:only-of-type {\n",
              "        vertical-align: middle;\n",
              "    }\n",
              "\n",
              "    .dataframe tbody tr th {\n",
              "        vertical-align: top;\n",
              "    }\n",
              "\n",
              "    .dataframe thead th {\n",
              "        text-align: right;\n",
              "    }\n",
              "</style>\n",
              "<table border=\"1\" class=\"dataframe\">\n",
              "  <thead>\n",
              "    <tr style=\"text-align: right;\">\n",
              "      <th></th>\n",
              "      <th>Positif</th>\n",
              "    </tr>\n",
              "  </thead>\n",
              "  <tbody>\n",
              "    <tr>\n",
              "      <th>count</th>\n",
              "      <td>53.000000</td>\n",
              "    </tr>\n",
              "    <tr>\n",
              "      <th>mean</th>\n",
              "      <td>2962.377358</td>\n",
              "    </tr>\n",
              "    <tr>\n",
              "      <th>std</th>\n",
              "      <td>3000.750382</td>\n",
              "    </tr>\n",
              "    <tr>\n",
              "      <th>min</th>\n",
              "      <td>2.000000</td>\n",
              "    </tr>\n",
              "    <tr>\n",
              "      <th>25%</th>\n",
              "      <td>369.000000</td>\n",
              "    </tr>\n",
              "    <tr>\n",
              "      <th>50%</th>\n",
              "      <td>1790.000000</td>\n",
              "    </tr>\n",
              "    <tr>\n",
              "      <th>75%</th>\n",
              "      <td>5136.000000</td>\n",
              "    </tr>\n",
              "    <tr>\n",
              "      <th>max</th>\n",
              "      <td>9511.000000</td>\n",
              "    </tr>\n",
              "  </tbody>\n",
              "</table>\n",
              "</div>"
            ],
            "text/plain": [
              "           Positif\n",
              "count    53.000000\n",
              "mean   2962.377358\n",
              "std    3000.750382\n",
              "min       2.000000\n",
              "25%     369.000000\n",
              "50%    1790.000000\n",
              "75%    5136.000000\n",
              "max    9511.000000"
            ]
          },
          "metadata": {
            "tags": []
          },
          "execution_count": 8
        }
      ]
    },
    {
      "cell_type": "code",
      "metadata": {
        "id": "dPbNNELDrrtG",
        "colab_type": "code",
        "outputId": "7a054c3d-6d31-4c3f-daac-73e1dc1659dc",
        "colab": {
          "base_uri": "https://localhost:8080/",
          "height": 235
        }
      },
      "source": [
        "df_pos = df[['Hari','Positif']]\n",
        "\n",
        "display(df_pos.tail(5))"
      ],
      "execution_count": 9,
      "outputs": [
        {
          "output_type": "display_data",
          "data": {
            "text/html": [
              "<div>\n",
              "<style scoped>\n",
              "    .dataframe tbody tr th:only-of-type {\n",
              "        vertical-align: middle;\n",
              "    }\n",
              "\n",
              "    .dataframe tbody tr th {\n",
              "        vertical-align: top;\n",
              "    }\n",
              "\n",
              "    .dataframe thead th {\n",
              "        text-align: right;\n",
              "    }\n",
              "</style>\n",
              "<table border=\"1\" class=\"dataframe\">\n",
              "  <thead>\n",
              "    <tr style=\"text-align: right;\">\n",
              "      <th></th>\n",
              "      <th>Hari</th>\n",
              "      <th>Positif</th>\n",
              "    </tr>\n",
              "    <tr>\n",
              "      <th>Tanggal</th>\n",
              "      <th></th>\n",
              "      <th></th>\n",
              "    </tr>\n",
              "  </thead>\n",
              "  <tbody>\n",
              "    <tr>\n",
              "      <th>2020-04-24</th>\n",
              "      <td>49</td>\n",
              "      <td>8211</td>\n",
              "    </tr>\n",
              "    <tr>\n",
              "      <th>2020-04-25</th>\n",
              "      <td>50</td>\n",
              "      <td>8607</td>\n",
              "    </tr>\n",
              "    <tr>\n",
              "      <th>2020-04-26</th>\n",
              "      <td>51</td>\n",
              "      <td>8882</td>\n",
              "    </tr>\n",
              "    <tr>\n",
              "      <th>2020-04-27</th>\n",
              "      <td>52</td>\n",
              "      <td>9096</td>\n",
              "    </tr>\n",
              "    <tr>\n",
              "      <th>2020-04-28</th>\n",
              "      <td>53</td>\n",
              "      <td>9511</td>\n",
              "    </tr>\n",
              "  </tbody>\n",
              "</table>\n",
              "</div>"
            ],
            "text/plain": [
              "            Hari  Positif\n",
              "Tanggal                  \n",
              "2020-04-24    49     8211\n",
              "2020-04-25    50     8607\n",
              "2020-04-26    51     8882\n",
              "2020-04-27    52     9096\n",
              "2020-04-28    53     9511"
            ]
          },
          "metadata": {
            "tags": []
          }
        }
      ]
    },
    {
      "cell_type": "markdown",
      "metadata": {
        "id": "NcHPhnK2h_C9",
        "colab_type": "text"
      },
      "source": [
        "# **4. Modelling**"
      ]
    },
    {
      "cell_type": "markdown",
      "metadata": {
        "id": "PuNecZKXo07b",
        "colab_type": "text"
      },
      "source": [
        "![Regression](https://raw.githubusercontent.com/haris0/notebook_learning/master/assets/polynomial-regression.png)\n"
      ]
    },
    {
      "cell_type": "markdown",
      "metadata": {
        "id": "xKk2xVIWp3Qq",
        "colab_type": "text"
      },
      "source": [
        "## Polynomial Regression\n",
        "\n",
        "Pada Polynomial Regression, yang akan menajadi Variable Independentnya adalaha data **Hari** sedangkan Variable dependentnya adalah data **Positif**\n",
        "\n",
        "Fungsi Utama pada Polynomial Regression :\n",
        "\n",
        ">$y = b_0 + b_1 x + b_2 x^2+...+b_nx^n$"
      ]
    },
    {
      "cell_type": "code",
      "metadata": {
        "id": "g-79cKpFxgKu",
        "colab_type": "code",
        "colab": {}
      },
      "source": [
        "x_1 = df_pos['Hari'].values.reshape(-1, 1)\n",
        "y_1 = df_pos['Positif'].values"
      ],
      "execution_count": 0,
      "outputs": []
    },
    {
      "cell_type": "code",
      "metadata": {
        "id": "s4xPTZmTqdG1",
        "colab_type": "code",
        "outputId": "3e746571-42b4-4a2b-9de2-0cc5680a7231",
        "colab": {
          "base_uri": "https://localhost:8080/",
          "height": 286
        }
      },
      "source": [
        "poly_reg = PolynomialFeatures(degree=4)\n",
        "X_poly = poly_reg.fit_transform(x_1)\n",
        "pol_reg = LinearRegression()\n",
        "pol_reg.fit(X_poly, y_1)\n",
        "\n",
        "print('Slope\\t\\t:',pol_reg.coef_)\n",
        "print('Intercept\\t:',pol_reg.intercept_)\n",
        "\n",
        "df_pos.insert(loc=2, column='Pred', value=pol_reg.predict(poly_reg.fit_transform(x_1)))\n",
        "\n",
        "display(df_pos.tail(5))"
      ],
      "execution_count": 11,
      "outputs": [
        {
          "output_type": "stream",
          "text": [
            "Slope\t\t: [ 0.00000000e+00  6.41136268e+01 -5.22156744e+00  2.72204444e-01\n",
            " -2.47905154e-03]\n",
            "Intercept\t: -158.4444024140962\n"
          ],
          "name": "stdout"
        },
        {
          "output_type": "display_data",
          "data": {
            "text/html": [
              "<div>\n",
              "<style scoped>\n",
              "    .dataframe tbody tr th:only-of-type {\n",
              "        vertical-align: middle;\n",
              "    }\n",
              "\n",
              "    .dataframe tbody tr th {\n",
              "        vertical-align: top;\n",
              "    }\n",
              "\n",
              "    .dataframe thead th {\n",
              "        text-align: right;\n",
              "    }\n",
              "</style>\n",
              "<table border=\"1\" class=\"dataframe\">\n",
              "  <thead>\n",
              "    <tr style=\"text-align: right;\">\n",
              "      <th></th>\n",
              "      <th>Hari</th>\n",
              "      <th>Positif</th>\n",
              "      <th>Pred</th>\n",
              "    </tr>\n",
              "    <tr>\n",
              "      <th>Tanggal</th>\n",
              "      <th></th>\n",
              "      <th></th>\n",
              "      <th></th>\n",
              "    </tr>\n",
              "  </thead>\n",
              "  <tbody>\n",
              "    <tr>\n",
              "      <th>2020-04-24</th>\n",
              "      <td>49</td>\n",
              "      <td>8211</td>\n",
              "      <td>8179.481744</td>\n",
              "    </tr>\n",
              "    <tr>\n",
              "      <th>2020-04-25</th>\n",
              "      <td>50</td>\n",
              "      <td>8607</td>\n",
              "      <td>8524.801735</td>\n",
              "    </tr>\n",
              "    <tr>\n",
              "      <th>2020-04-26</th>\n",
              "      <td>51</td>\n",
              "      <td>8882</td>\n",
              "      <td>8866.963420</td>\n",
              "    </tr>\n",
              "    <tr>\n",
              "      <th>2020-04-27</th>\n",
              "      <td>52</td>\n",
              "      <td>9096</td>\n",
              "      <td>9204.595415</td>\n",
              "    </tr>\n",
              "    <tr>\n",
              "      <th>2020-04-28</th>\n",
              "      <td>53</td>\n",
              "      <td>9511</td>\n",
              "      <td>9536.266839</td>\n",
              "    </tr>\n",
              "  </tbody>\n",
              "</table>\n",
              "</div>"
            ],
            "text/plain": [
              "            Hari  Positif         Pred\n",
              "Tanggal                               \n",
              "2020-04-24    49     8211  8179.481744\n",
              "2020-04-25    50     8607  8524.801735\n",
              "2020-04-26    51     8882  8866.963420\n",
              "2020-04-27    52     9096  9204.595415\n",
              "2020-04-28    53     9511  9536.266839"
            ]
          },
          "metadata": {
            "tags": []
          }
        }
      ]
    },
    {
      "cell_type": "code",
      "metadata": {
        "id": "16RUx3fbyT1W",
        "colab_type": "code",
        "outputId": "c61e8c77-5768-45f2-dc2c-84db51aae949",
        "colab": {
          "base_uri": "https://localhost:8080/",
          "height": 448
        }
      },
      "source": [
        "df_pos[['Positif', 'Pred']].plot(kind='line', stacked=False, figsize=(12, 7))\n",
        "plt.ylabel('Total Perhari')\n",
        "plt.title('Predikasi Berdasarkan Total Kasus Positif Perhari')\n",
        "plt.show()"
      ],
      "execution_count": 12,
      "outputs": [
        {
          "output_type": "display_data",
          "data": {
            "image/png": "[encoded data removed]",
            "text/plain": [
              "<Figure size 864x504 with 1 Axes>"
            ]
          },
          "metadata": {
            "tags": [],
            "needs_background": "light"
          }
        }
      ]
    },
    {
      "cell_type": "markdown",
      "metadata": {
        "id": "aS2Z8k9Sqt_q",
        "colab_type": "text"
      },
      "source": [
        "# **5. Evaluation**\n",
        "\n",
        "*Mean Squared Error* (MSE)\n",
        "\n",
        "> $ MSE = \\frac{1}{n} \\Sigma^n_{i=1} (y_i - y'_i)^2$"
      ]
    },
    {
      "cell_type": "code",
      "metadata": {
        "id": "-RfK_P5Ry11p",
        "colab_type": "code",
        "colab": {}
      },
      "source": [
        "def get_mse(actual, predict, n):\n",
        "  sigma_e_2 = 0\n",
        "  for i in range(n):\n",
        "    sigma_e_2 += (actual[i] - predict[i]) ** 2\n",
        "  mse = sigma_e_2/n\n",
        "  return mse"
      ],
      "execution_count": 0,
      "outputs": []
    },
    {
      "cell_type": "markdown",
      "metadata": {
        "id": "tOWHOvTszI0g",
        "colab_type": "text"
      },
      "source": [
        "## Evaluasi Polynomial Regression "
      ]
    },
    {
      "cell_type": "code",
      "metadata": {
        "id": "d42IApY5zRlI",
        "colab_type": "code",
        "outputId": "b9dd4a74-5f47-4d5f-f582-3ba148e922aa",
        "colab": {
          "base_uri": "https://localhost:8080/",
          "height": 51
        }
      },
      "source": [
        "print(\"Hasil Evaluasi\\t:\")\n",
        "actual = df_pos['Positif'].values.tolist()\n",
        "predict = df_pos['Pred'].values.tolist()\n",
        "n = df_pos.shape[0]\n",
        "print(\"MSE\\t\\t: \", get_mse(actual, predict, n))"
      ],
      "execution_count": 14,
      "outputs": [
        {
          "output_type": "stream",
          "text": [
            "Hasil Evaluasi\t:\n",
            "MSE\t\t:  6155.162314966745\n"
          ],
          "name": "stdout"
        }
      ]
    },
    {
      "cell_type": "markdown",
      "metadata": {
        "id": "jtQfvriziFty",
        "colab_type": "text"
      },
      "source": [
        "# **6. Summary**"
      ]
    },
    {
      "cell_type": "markdown",
      "metadata": {
        "id": "kuEHJXdDfSCt",
        "colab_type": "text"
      },
      "source": [
        "## Prediksi 10 Hari Setelah Data Training Dengan **Polynomial Regression**"
      ]
    },
    {
      "cell_type": "code",
      "metadata": {
        "id": "-v4op37piKjg",
        "colab_type": "code",
        "outputId": "2c8c2cf4-66e9-455a-b058-2f8c49a4de39",
        "colab": {
          "base_uri": "https://localhost:8080/",
          "height": 187
        }
      },
      "source": [
        "last_date = df_pos.index[52]\n",
        "for x in range(54, 64): \n",
        "  predict = pol_reg.predict(poly_reg.fit_transform([[x]]))\n",
        "  last_date += datetime.timedelta(days=1)\n",
        "  print(\"Prediksi Kasus Positif \",last_date.strftime('%d-%m-%Y'),\"\\t: \", round(predict[0]))"
      ],
      "execution_count": 16,
      "outputs": [
        {
          "output_type": "stream",
          "text": [
            "Prediksi Kasus Positif  29-04-2020 \t:  9860.0\n",
            "Prediksi Kasus Positif  30-04-2020 \t:  10176.0\n",
            "Prediksi Kasus Positif  01-05-2020 \t:  10480.0\n",
            "Prediksi Kasus Positif  02-05-2020 \t:  10773.0\n",
            "Prediksi Kasus Positif  03-05-2020 \t:  11051.0\n",
            "Prediksi Kasus Positif  04-05-2020 \t:  11313.0\n",
            "Prediksi Kasus Positif  05-05-2020 \t:  11558.0\n",
            "Prediksi Kasus Positif  06-05-2020 \t:  11784.0\n",
            "Prediksi Kasus Positif  07-05-2020 \t:  11988.0\n",
            "Prediksi Kasus Positif  08-05-2020 \t:  12168.0\n"
          ],
          "name": "stdout"
        }
      ]
    }
  ]
}