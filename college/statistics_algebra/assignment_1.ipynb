{
  "nbformat": 4,
  "nbformat_minor": 0,
  "metadata": {
    "colab": {
      "name": "ast-1.ipynb",
      "provenance": [],
      "collapsed_sections": []
    },
    "kernelspec": {
      "name": "python3",
      "display_name": "Python 3"
    }
  },
  "cells": [
    {
      "cell_type": "markdown",
      "metadata": {
        "id": "sBYmjW3HJFOV",
        "colab_type": "text"
      },
      "source": [
        "#Assignment 1 - Aljabar Statistika Terapan 2019/2020\n",
        "\n",
        "* Hari Surrisyad\n",
        "* Kadek Gemilang Santiyuda\n",
        "* Shaifudin Zuhdi"
      ]
    },
    {
      "cell_type": "markdown",
      "metadata": {
        "id": "1L8Du0O25XF_",
        "colab_type": "text"
      },
      "source": [
        "We are employing modified secant method to find the root or the $x$ where $F(x)=0$ for all the questions. \n",
        "There will be 6 parameters for the Modified Secant Method we implemented ;\n",
        "\n",
        "\n",
        "1.   F : the function which root we have to find.\n",
        "2.   randStartX : the bottomline for the initial random value of x\n",
        "3.   randStopX  : the upper limit for the initial random value of x\n",
        "4.   h : the parameter h to approximate the differential\n",
        "5.   threshold : we can't compare real number directly. so to compromise we check if the absolute value of F(x) < threshold, then we assume F(X) ~ 0\n",
        "6.   maxIter   : the maximum number of iteration if the method goes on before ABS(F(x) < threshold.\n",
        "\n"
      ]
    },
    {
      "cell_type": "code",
      "metadata": {
        "id": "7uNDrL1_ytCJ",
        "colab_type": "code",
        "colab": {}
      },
      "source": [
        "import math\n",
        "import numpy as np\n",
        "import matplotlib.pyplot as plt\n",
        "import random"
      ],
      "execution_count": 0,
      "outputs": []
    },
    {
      "cell_type": "code",
      "metadata": {
        "id": "A2dBwDH309XG",
        "colab_type": "code",
        "colab": {}
      },
      "source": [
        "def ModifiedSec(F,randStartX,randStopX,h=10**-5,threshold=10**-7,maxIter=100):\n",
        "  x = random.uniform(randStartX, randStopX)\n",
        "  iter = 0\n",
        "  for iter in range(maxIter):\n",
        "    nextX = x - F(x)*h/(F(x+h)-F(x));\n",
        "    print(iter,\"x=\",x,\"F(x)=\",F(x),\"F(x+h)=\",F(x+h),\"F(x)*h/(F(x+h)-F(x))=\",F(x)*h/(F(x+h)-F(x)),\"nextX=\",nextX)\n",
        "    x = nextX\n",
        "    if (abs(F(x))<threshold):\n",
        "      break\n",
        "  print(\"Iteration :\", iter+1,\", x=\",x,\" and F(x)=\",F(x))\n",
        "\n",
        "  print()\n",
        "  print(\"At iteration :\", iter+1,\"the root approximation is found at x = \",x)"
      ],
      "execution_count": 0,
      "outputs": []
    },
    {
      "cell_type": "code",
      "metadata": {
        "id": "ckNvnwP6Oz4J",
        "colab_type": "code",
        "colab": {}
      },
      "source": [
        "def NewtonMethod(F,Fder,randStartX,randStopX,h=10**-5,threshold=10**-7,maxIter=100):\n",
        "  x = random.uniform(randStartX, randStopX)\n",
        "  iter = 0\n",
        "  for iter in range(maxIter):\n",
        "    nextX = x - F(x)/Fder(x);\n",
        "    print(iter,\"x=\",x,\"F(x)=\",F(x),\"Fder(x)=\",Fder(x),\"nextX=\",nextX)\n",
        "    x = nextX\n",
        "    if (abs(F(x))<threshold):\n",
        "      break\n",
        "  print(\"Iteration :\", iter+1,\", x=\",x,\" and F(x)=\",F(x))\n",
        "\n",
        "  print()\n",
        "  print(\"At iteration :\", iter+1,\"the root approximation is found at x = \",x)\n"
      ],
      "execution_count": 0,
      "outputs": []
    },
    {
      "cell_type": "markdown",
      "metadata": {
        "id": "AF75Ug-40bEf",
        "colab_type": "text"
      },
      "source": [
        "#Question 6.13\n",
        "\n",
        "$e^{0.5x} = 5 - 5x $\n",
        "\n",
        "$f(x) = e^{0.5x} - 5 + 5x $"
      ]
    },
    {
      "cell_type": "code",
      "metadata": {
        "id": "dqrVZM81x7gE",
        "colab_type": "code",
        "colab": {}
      },
      "source": [
        "def f(x):\n",
        "  return math.exp(0.5*x)-5+5*x"
      ],
      "execution_count": 0,
      "outputs": []
    },
    {
      "cell_type": "code",
      "metadata": {
        "id": "zS7PtYB2ys9w",
        "colab_type": "code",
        "colab": {}
      },
      "source": [
        "x = np.arange(-5., 5., 0.01)\n",
        "y = []\n",
        "for idx in range(len(x)):\n",
        "  y += [f(x[idx])]"
      ],
      "execution_count": 0,
      "outputs": []
    },
    {
      "cell_type": "code",
      "metadata": {
        "id": "IGGZvCFpzih7",
        "colab_type": "code",
        "outputId": "51e355e0-0404-4fca-bcbf-d5ce408ca1a7",
        "colab": {
          "base_uri": "https://localhost:8080/",
          "height": 265
        }
      },
      "source": [
        "plt.axhline(0, color='black')\n",
        "plt.axvline(0, color='black')\n",
        "plt.plot(x, y)\n",
        "plt.show()"
      ],
      "execution_count": 0,
      "outputs": [
        {
          "output_type": "display_data",
          "data": {
            "image/png": "[encoded data removed]",
            "text/plain": [
              "<Figure size 432x288 with 1 Axes>"
            ]
          },
          "metadata": {
            "tags": []
          }
        }
      ]
    },
    {
      "cell_type": "code",
      "metadata": {
        "id": "RjgAqWDa4v2Q",
        "colab_type": "code",
        "outputId": "dc2b021f-6e18-4131-8412-5e91c8650bc4",
        "colab": {
          "base_uri": "https://localhost:8080/",
          "height": 145
        }
      },
      "source": [
        "ModifiedSec(f,0,2)"
      ],
      "execution_count": 0,
      "outputs": [
        {
          "output_type": "stream",
          "text": [
            "0 x= 1.1103960049009738 F(x)= 2.294265952011159 F(x+h)= 2.294324663462576 F(x)*h/(F(x+h)-F(x))= 0.3907697555824171 nextX= 0.7196262493185567\n",
            "1 x= 0.7196262493185567 F(x)= 0.031192832256498715 F(x+h)= 0.03124999758234015 F(x)*h/(F(x+h)-F(x))= 0.005456600097587348 nextX= 0.7141696492209694\n",
            "2 x= 0.7141696492209694 F(x)= 5.3385110079240405e-06 F(x+h)= 6.24843143341991e-05 F(x)*h/(F(x+h)-F(x))= 9.341912611576585e-07 nextX= 0.7141687150297082\n",
            "Iteration : 3 , x= 0.7141687150297082  and F(x)= 1.8252066524837574e-12\n",
            "\n",
            "At iteration : 3 the root approximation is found at x =  0.7141687150297082\n"
          ],
          "name": "stdout"
        }
      ]
    },
    {
      "cell_type": "code",
      "metadata": {
        "id": "GyMzs2zO8OgP",
        "colab_type": "code",
        "outputId": "03901363-e69e-49fd-89b6-f5d4bc70e1c9",
        "colab": {
          "base_uri": "https://localhost:8080/",
          "height": 283
        }
      },
      "source": [
        "x = np.arange(0, 0.8, 0.01)\n",
        "y = []\n",
        "for idx in range(len(x)):\n",
        "  y += [f(x[idx])]\n",
        "plt.axhline(0, color='black')\n",
        "plt.axvline(0, color='black')\n",
        "plt.axvline(0.7141687150480038, color='red')\n",
        "plt.plot(x, y)"
      ],
      "execution_count": 0,
      "outputs": [
        {
          "output_type": "execute_result",
          "data": {
            "text/plain": [
              "[<matplotlib.lines.Line2D at 0x7f0f783068d0>]"
            ]
          },
          "metadata": {
            "tags": []
          },
          "execution_count": 7
        },
        {
          "output_type": "display_data",
          "data": {
            "image/png": "[encoded data removed]",
            "text/plain": [
              "<Figure size 432x288 with 1 Axes>"
            ]
          },
          "metadata": {
            "tags": []
          }
        }
      ]
    },
    {
      "cell_type": "markdown",
      "metadata": {
        "id": "TqCOSHA-9ipH",
        "colab_type": "text"
      },
      "source": [
        "#Question 6.19\n",
        "$V = \\pi h^2 \\frac{[3R - h]}{3}$\n",
        "\n",
        "$30 = \\pi h^2 \\frac{[9 - h]}{3}$\n",
        "\n",
        "$f(h) = \\pi h^2 \\frac{[9 - h]}{3} - 30 $\n",
        "\n",
        "\n",
        "In this question, we have to remember that the depth (h) must be a positive number, therefore we need to limit the initial value starting from 0.1"
      ]
    },
    {
      "cell_type": "code",
      "metadata": {
        "id": "g_gvLuDI9kko",
        "colab_type": "code",
        "colab": {}
      },
      "source": [
        "def f(x):\n",
        "  return math.pi * x**2 * math.ceil(9-x)/3 - 30"
      ],
      "execution_count": 0,
      "outputs": []
    },
    {
      "cell_type": "code",
      "metadata": {
        "id": "zRobjDpB-PY3",
        "colab_type": "code",
        "colab": {}
      },
      "source": [
        "x = np.arange(0.1, 5., 0.01)\n",
        "y = []\n",
        "for idx in range(len(x)):\n",
        "  y += [f(x[idx])]"
      ],
      "execution_count": 0,
      "outputs": []
    },
    {
      "cell_type": "code",
      "metadata": {
        "id": "IkvuRG0y-q6I",
        "colab_type": "code",
        "outputId": "b2009438-d5bf-4d53-bbf0-e8a74d5e02a7",
        "colab": {
          "base_uri": "https://localhost:8080/",
          "height": 265
        }
      },
      "source": [
        "plt.axhline(0, color='black')\n",
        "plt.axvline(0, color='black')\n",
        "plt.plot(x, y)\n",
        "plt.show()"
      ],
      "execution_count": 0,
      "outputs": [
        {
          "output_type": "display_data",
          "data": {
            "image/png": "[encoded data removed]",
            "text/plain": [
              "<Figure size 432x288 with 1 Axes>"
            ]
          },
          "metadata": {
            "tags": []
          }
        }
      ]
    },
    {
      "cell_type": "markdown",
      "metadata": {
        "id": "AlNEZ_hZ-5lb",
        "colab_type": "text"
      },
      "source": [
        "As we can see because of the ceil function, there are pitfalls whenever x reach an integer. We can zoom more around x = 2 to see, wethere there are multiple roots"
      ]
    },
    {
      "cell_type": "code",
      "metadata": {
        "colab_type": "code",
        "id": "8QoIorDp_txW",
        "colab": {}
      },
      "source": [
        "x = np.arange(1.8, 2.2, 0.01)\n",
        "y = []\n",
        "for idx in range(len(x)):\n",
        "  y += [f(x[idx])]"
      ],
      "execution_count": 0,
      "outputs": []
    },
    {
      "cell_type": "code",
      "metadata": {
        "colab_type": "code",
        "outputId": "fc9ad34e-710f-4a75-bf25-fb2f1a59d4a2",
        "id": "fhvOJsQC_vu2",
        "colab": {
          "base_uri": "https://localhost:8080/",
          "height": 265
        }
      },
      "source": [
        "plt.axhline(0, color='black')\n",
        "plt.axvline(0, color='black')\n",
        "plt.plot(x, y)\n",
        "plt.show()"
      ],
      "execution_count": 0,
      "outputs": [
        {
          "output_type": "display_data",
          "data": {
            "image/png": "[encoded data removed]",
            "text/plain": [
              "<Figure size 432x288 with 1 Axes>"
            ]
          },
          "metadata": {
            "tags": []
          }
        }
      ]
    },
    {
      "cell_type": "markdown",
      "metadata": {
        "id": "9lbiG6rj_3i4",
        "colab_type": "text"
      },
      "source": [
        "So there are multiple roots where F(x) = 0."
      ]
    },
    {
      "cell_type": "code",
      "metadata": {
        "id": "YMy_QKsMAZ_g",
        "colab_type": "code",
        "outputId": "b2aa0c75-bc9f-4a3d-c5bf-4db67eccc507",
        "colab": {
          "base_uri": "https://localhost:8080/",
          "height": 145
        }
      },
      "source": [
        "ModifiedSec(f, 1.5, 2.5)"
      ],
      "execution_count": 0,
      "outputs": [
        {
          "output_type": "stream",
          "text": [
            "0 x= 1.9166078685727013 F(x)= 0.7740842603826366 F(x+h)= 0.7744053919510492 F(x)*h/(F(x+h)-F(x))= 0.02410489458289597 nextX= 1.8925029739898054\n",
            "1 x= 1.8925029739898054 F(x)= 0.004869778521651824 F(x+h)= 0.005186871276208649 F(x)*h/(F(x+h)-F(x))= 0.00015357583709088294 nextX= 1.8923493981527144\n",
            "2 x= 1.8923493981527144 F(x)= 2.1045567066835247e-07 F(x+h)= 0.00031727747834864317 F(x)*h/(F(x+h)-F(x))= 6.6375767776423465e-09 nextX= 1.8923493915151377\n",
            "Iteration : 3 , x= 1.8923493915151377  and F(x)= 5.577760475716786e-13\n",
            "\n",
            "At iteration : 3 the root approximation is found at x =  1.8923493915151377\n"
          ],
          "name": "stdout"
        }
      ]
    },
    {
      "cell_type": "code",
      "metadata": {
        "id": "kdvcQzI5Bi97",
        "colab_type": "code",
        "outputId": "8f20be81-1e2a-465c-bb4c-c8e7a945d9c0",
        "colab": {
          "base_uri": "https://localhost:8080/",
          "height": 265
        }
      },
      "source": [
        "x = np.arange(1.8, 2.2, 0.01)\n",
        "y = []\n",
        "for idx in range(len(x)):\n",
        "  y += [f(x[idx])]\n",
        "plt.axhline(0, color='black')\n",
        "plt.axvline(0, color='black')\n",
        "plt.axvline(2.023006594037634, color='red')\n",
        "plt.plot(x, y)\n",
        "plt.show()"
      ],
      "execution_count": 0,
      "outputs": [
        {
          "output_type": "display_data",
          "data": {
            "image/png": "[encoded data removed]",
            "text/plain": [
              "<Figure size 432x288 with 1 Axes>"
            ]
          },
          "metadata": {
            "tags": []
          }
        }
      ]
    },
    {
      "cell_type": "markdown",
      "metadata": {
        "id": "IvE9V-sICYhw",
        "colab_type": "text"
      },
      "source": [
        "#Question 6.20\n",
        "$ Q = \\frac{\\sqrt{S}(BH)^{5/3}}{n(B + 2H)^{2/3}}$ \n",
        "\n",
        "$ 5 = \\frac{\\sqrt{0.0002}(20.H)^{5/3}}{0.03(20 + 2H)^{2/3}}$\n",
        "\n",
        "$ f(H) = \\frac{\\sqrt{0.0002}(20.H)^{5/3}}{0.03(20 + 2H)^{2/3}} -5$\n",
        "\n",
        "In this question H cannot be negative because there are rooted term involving H i.e $(20.H)^{5/3}$ and $(20 + 2H)^{2/3}$, therefore we are limiting x for initial value and for graph starting from x=0\n",
        "\n",
        "\n"
      ]
    },
    {
      "cell_type": "code",
      "metadata": {
        "id": "-qSq58bZChUu",
        "colab_type": "code",
        "colab": {}
      },
      "source": [
        "def f(x):\n",
        "  return (math.sqrt(0.0002)*(20*x)**(5/3))/(0.03*(20+2*x)**(2/3)) - 5"
      ],
      "execution_count": 0,
      "outputs": []
    },
    {
      "cell_type": "code",
      "metadata": {
        "id": "K1r6dIaRDJyG",
        "colab_type": "code",
        "outputId": "92fab04e-be3c-4d9a-a2d0-f2dd2922a791",
        "colab": {
          "base_uri": "https://localhost:8080/",
          "height": 265
        }
      },
      "source": [
        "x = np.arange(0, 5., 0.01)\n",
        "y = []\n",
        "for idx in range(len(x)):\n",
        "  y += [f(x[idx])]\n",
        "plt.axhline(0, color='black')\n",
        "plt.axvline(0, color='black')\n",
        "plt.plot(x, y)\n",
        "plt.show()"
      ],
      "execution_count": 0,
      "outputs": [
        {
          "output_type": "display_data",
          "data": {
            "image/png": "[encoded data removed]",
            "text/plain": [
              "<Figure size 432x288 with 1 Axes>"
            ]
          },
          "metadata": {
            "tags": []
          }
        }
      ]
    },
    {
      "cell_type": "code",
      "metadata": {
        "id": "FAFMj3rGEGFg",
        "colab_type": "code",
        "outputId": "a348b11b-777f-44c1-d770-a92d3ae80ea3",
        "colab": {
          "base_uri": "https://localhost:8080/",
          "height": 145
        }
      },
      "source": [
        "ModifiedSec(f, 0, 1)"
      ],
      "execution_count": 0,
      "outputs": [
        {
          "output_type": "stream",
          "text": [
            "0 x= 0.7682302974588092 F(x)= 0.7829117765366655 F(x+h)= 0.7830336563719991 F(x)*h/(F(x+h)-F(x))= 0.06423636645014166 nextX= 0.7039939310086676\n",
            "1 x= 0.7039939310086676 F(x)= 0.019664540727204916 F(x+h)= 0.019780252648107677 F(x)*h/(F(x+h)-F(x))= 0.0016994394850406165 nextX= 0.702294491523627\n",
            "2 x= 0.702294491523627 F(x)= 1.4272790985536687e-05 F(x+h)= 0.00012981768991249254 F(x)*h/(F(x+h)-F(x))= 1.235259290378499e-06 nextX= 0.7022932562643366\n",
            "Iteration : 3 , x= 0.7022932562643366  and F(x)= 6.824052434240002e-11\n",
            "\n",
            "At iteration : 3 the root approximation is found at x =  0.7022932562643366\n"
          ],
          "name": "stdout"
        }
      ]
    },
    {
      "cell_type": "code",
      "metadata": {
        "id": "-2jvG-efEQ4t",
        "colab_type": "code",
        "outputId": "4c03a816-d3a4-41ad-eb0f-f439685a027f",
        "colab": {
          "base_uri": "https://localhost:8080/",
          "height": 266
        }
      },
      "source": [
        "x = np.arange(0, 1, 0.01)\n",
        "y = []\n",
        "for idx in range(len(x)):\n",
        "  y += [f(x[idx])]\n",
        "plt.axhline(0, color='black')\n",
        "plt.axvline(0, color='black')\n",
        "plt.axvline(0.7022932562585241, color='red')\n",
        "plt.plot(x, y)\n",
        "plt.show()"
      ],
      "execution_count": 0,
      "outputs": [
        {
          "output_type": "display_data",
          "data": {
            "image/png": "[encoded data removed]",
            "text/plain": [
              "<Figure size 432x288 with 1 Axes>"
            ]
          },
          "metadata": {
            "tags": []
          }
        }
      ]
    },
    {
      "cell_type": "markdown",
      "metadata": {
        "id": "Q_rREAqREWOl",
        "colab_type": "text"
      },
      "source": [
        "#Question 6.25\n",
        "\n",
        "$ V \\frac{dc}{dt} =  W - Qc - kV \\sqrt{c}$\n",
        "\n",
        "because this is ***steady state*** problem, then $ \\frac{dc}{dt} = 0$ \n",
        "\n",
        "Thus we have to find $c$ where $F(c)=0$ with\n",
        "\n",
        "$ F(c) = 10^6 - 10^5 . c - 0.25 . 10^6 . \\sqrt{c} $\n",
        "\n",
        "The same case as question 6.20 also applies here where $c \\geq 0$ because the $\\sqrt{c}$ term."
      ]
    },
    {
      "cell_type": "code",
      "metadata": {
        "id": "qhgrqseGEeAk",
        "colab_type": "code",
        "colab": {}
      },
      "source": [
        "def f(x):\n",
        "  return 10**6 - x*10**5 - 10**6 * math.sqrt(x)/4"
      ],
      "execution_count": 0,
      "outputs": []
    },
    {
      "cell_type": "code",
      "metadata": {
        "id": "JU90TyfIE_Yi",
        "colab_type": "code",
        "outputId": "24b1c5b1-e4cb-4f17-f247-686bdc15ac29",
        "colab": {
          "base_uri": "https://localhost:8080/",
          "height": 276
        }
      },
      "source": [
        "x = np.arange(0, 10, 0.01)\n",
        "y = []\n",
        "for idx in range(len(x)):\n",
        "  y += [f(x[idx])]\n",
        "plt.axhline(0, color='black')\n",
        "plt.axvline(0, color='black')\n",
        "plt.plot(x, y)\n",
        "plt.show()"
      ],
      "execution_count": 0,
      "outputs": [
        {
          "output_type": "display_data",
          "data": {
            "image/png": "[encoded data removed]",
            "text/plain": [
              "<Figure size 432x288 with 1 Axes>"
            ]
          },
          "metadata": {
            "tags": []
          }
        }
      ]
    },
    {
      "cell_type": "code",
      "metadata": {
        "id": "WJVRwsmVFM8v",
        "colab_type": "code",
        "outputId": "320be8d3-ed85-4a69-b774-d84300e10dfe",
        "colab": {
          "base_uri": "https://localhost:8080/",
          "height": 145
        }
      },
      "source": [
        "ModifiedSec(f, 4, 4)"
      ],
      "execution_count": 0,
      "outputs": [
        {
          "output_type": "stream",
          "text": [
            "0 x= 4.0 F(x)= 100000.0 F(x+h)= 99998.37500039057 F(x)*h/(F(x+h)-F(x))= -0.615384763294106 nextX= 4.615384763294106\n",
            "1 x= 4.615384763294106 F(x)= 1375.359534999705 F(x+h)= 1373.7776919890894 F(x)*h/(F(x+h)-F(x))= -0.008694665183395782 nextX= 4.6240794284775015\n",
            "2 x= 4.6240794284775015 F(x)= 0.23775779153220356 F(x+h)= -1.3435379420407116 F(x)*h/(F(x+h)-F(x))= -1.5035631000849742e-06 nextX= 4.624080932040601\n",
            "Iteration : 3 , x= 4.624080932040601  and F(x)= -4.0046870708465576e-08\n",
            "\n",
            "At iteration : 3 the root approximation is found at x =  4.624080932040601\n"
          ],
          "name": "stdout"
        }
      ]
    },
    {
      "cell_type": "code",
      "metadata": {
        "id": "Sx7ZakuhFw1L",
        "colab_type": "code",
        "outputId": "3f24cab4-69f4-4444-c296-8dcb320caece",
        "colab": {
          "base_uri": "https://localhost:8080/",
          "height": 276
        }
      },
      "source": [
        "x = np.arange(0, 10, 0.01)\n",
        "y = []\n",
        "for idx in range(len(x)):\n",
        "  y += [f(x[idx])]\n",
        "plt.axhline(0, color='black')\n",
        "plt.axvline(0, color='black')\n",
        "plt.axvline(4.624080932040601, color='red')\n",
        "plt.plot(x, y)\n",
        "plt.show()"
      ],
      "execution_count": 0,
      "outputs": [
        {
          "output_type": "display_data",
          "data": {
            "image/png": "[encoded data removed]",
            "text/plain": [
              "<Figure size 432x288 with 1 Axes>"
            ]
          },
          "metadata": {
            "tags": []
          }
        }
      ]
    },
    {
      "cell_type": "code",
      "metadata": {
        "id": "VLVpTyjRx1A_",
        "colab_type": "code",
        "colab": {}
      },
      "source": [
        ""
      ],
      "execution_count": 0,
      "outputs": []
    }
  ]
}